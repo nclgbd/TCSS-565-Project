{
 "cells": [
  {
   "cell_type": "markdown",
   "metadata": {},
   "source": [
    "## Data exploration\n",
    "\n",
    "Adapted from: https://www.kaggle.com/code/nagellette/taxi-trajectory-data-analysis"
   ]
  },
  {
   "cell_type": "code",
   "execution_count": 1,
   "metadata": {},
   "outputs": [],
   "source": [
    "import numpy as np\n",
    "import os\n",
    "import pandas as pd\n",
    "import rich\n",
    "import sys\n",
    "from functools import partial\n",
    "from tqdm import tqdm"
   ]
  },
  {
   "cell_type": "code",
   "execution_count": 2,
   "metadata": {},
   "outputs": [],
   "source": [
    "data_path = \"data/train.csv\""
   ]
  },
  {
   "cell_type": "code",
   "execution_count": 3,
   "metadata": {},
   "outputs": [
    {
     "data": {
      "text/html": [
       "<div>\n",
       "<style scoped>\n",
       "    .dataframe tbody tr th:only-of-type {\n",
       "        vertical-align: middle;\n",
       "    }\n",
       "\n",
       "    .dataframe tbody tr th {\n",
       "        vertical-align: top;\n",
       "    }\n",
       "\n",
       "    .dataframe thead th {\n",
       "        text-align: right;\n",
       "    }\n",
       "</style>\n",
       "<table border=\"1\" class=\"dataframe\">\n",
       "  <thead>\n",
       "    <tr style=\"text-align: right;\">\n",
       "      <th></th>\n",
       "      <th>TRIP_ID</th>\n",
       "      <th>CALL_TYPE</th>\n",
       "      <th>ORIGIN_CALL</th>\n",
       "      <th>ORIGIN_STAND</th>\n",
       "      <th>TAXI_ID</th>\n",
       "      <th>TIMESTAMP</th>\n",
       "      <th>DAY_TYPE</th>\n",
       "      <th>MISSING_DATA</th>\n",
       "      <th>POLYLINE</th>\n",
       "    </tr>\n",
       "  </thead>\n",
       "  <tbody>\n",
       "    <tr>\n",
       "      <th>0</th>\n",
       "      <td>1372636858620000589</td>\n",
       "      <td>C</td>\n",
       "      <td>NaN</td>\n",
       "      <td>NaN</td>\n",
       "      <td>20000589</td>\n",
       "      <td>1372636858</td>\n",
       "      <td>A</td>\n",
       "      <td>False</td>\n",
       "      <td>[[-8.618643,41.141412],[-8.618499,41.141376],[...</td>\n",
       "    </tr>\n",
       "    <tr>\n",
       "      <th>1</th>\n",
       "      <td>1372637303620000596</td>\n",
       "      <td>B</td>\n",
       "      <td>NaN</td>\n",
       "      <td>7.0</td>\n",
       "      <td>20000596</td>\n",
       "      <td>1372637303</td>\n",
       "      <td>A</td>\n",
       "      <td>False</td>\n",
       "      <td>[[-8.639847,41.159826],[-8.640351,41.159871],[...</td>\n",
       "    </tr>\n",
       "    <tr>\n",
       "      <th>2</th>\n",
       "      <td>1372636951620000320</td>\n",
       "      <td>C</td>\n",
       "      <td>NaN</td>\n",
       "      <td>NaN</td>\n",
       "      <td>20000320</td>\n",
       "      <td>1372636951</td>\n",
       "      <td>A</td>\n",
       "      <td>False</td>\n",
       "      <td>[[-8.612964,41.140359],[-8.613378,41.14035],[-...</td>\n",
       "    </tr>\n",
       "    <tr>\n",
       "      <th>3</th>\n",
       "      <td>1372636854620000520</td>\n",
       "      <td>C</td>\n",
       "      <td>NaN</td>\n",
       "      <td>NaN</td>\n",
       "      <td>20000520</td>\n",
       "      <td>1372636854</td>\n",
       "      <td>A</td>\n",
       "      <td>False</td>\n",
       "      <td>[[-8.574678,41.151951],[-8.574705,41.151942],[...</td>\n",
       "    </tr>\n",
       "    <tr>\n",
       "      <th>4</th>\n",
       "      <td>1372637091620000337</td>\n",
       "      <td>C</td>\n",
       "      <td>NaN</td>\n",
       "      <td>NaN</td>\n",
       "      <td>20000337</td>\n",
       "      <td>1372637091</td>\n",
       "      <td>A</td>\n",
       "      <td>False</td>\n",
       "      <td>[[-8.645994,41.18049],[-8.645949,41.180517],[-...</td>\n",
       "    </tr>\n",
       "  </tbody>\n",
       "</table>\n",
       "</div>"
      ],
      "text/plain": [
       "               TRIP_ID CALL_TYPE  ORIGIN_CALL  ORIGIN_STAND   TAXI_ID  \\\n",
       "0  1372636858620000589         C          NaN           NaN  20000589   \n",
       "1  1372637303620000596         B          NaN           7.0  20000596   \n",
       "2  1372636951620000320         C          NaN           NaN  20000320   \n",
       "3  1372636854620000520         C          NaN           NaN  20000520   \n",
       "4  1372637091620000337         C          NaN           NaN  20000337   \n",
       "\n",
       "    TIMESTAMP DAY_TYPE  MISSING_DATA  \\\n",
       "0  1372636858        A         False   \n",
       "1  1372637303        A         False   \n",
       "2  1372636951        A         False   \n",
       "3  1372636854        A         False   \n",
       "4  1372637091        A         False   \n",
       "\n",
       "                                            POLYLINE  \n",
       "0  [[-8.618643,41.141412],[-8.618499,41.141376],[...  \n",
       "1  [[-8.639847,41.159826],[-8.640351,41.159871],[...  \n",
       "2  [[-8.612964,41.140359],[-8.613378,41.14035],[-...  \n",
       "3  [[-8.574678,41.151951],[-8.574705,41.151942],[...  \n",
       "4  [[-8.645994,41.18049],[-8.645949,41.180517],[-...  "
      ]
     },
     "execution_count": 3,
     "metadata": {},
     "output_type": "execute_result"
    }
   ],
   "source": [
    "def load_data(path: str):\n",
    "    df = pd.read_csv(path)\n",
    "    return df\n",
    "\n",
    "_df = load_data(data_path)\n",
    "_df.head()"
   ]
  },
  {
   "cell_type": "markdown",
   "metadata": {},
   "source": [
    "The column that we care about here is the `POLYLINE` column. This column contains a list of GPS coordinates that represent the path that the taxi took. The first and last coordinates in the list represent the start and end points of the trip, respectively. The rest of the coordinates represent the path that the taxi took from the start to the end point. We'll preprocess the data here to make it easier to work with later with `geopandas`."
   ]
  },
  {
   "cell_type": "code",
   "execution_count": 4,
   "metadata": {},
   "outputs": [
    {
     "data": {
      "text/html": [
       "<div>\n",
       "<style scoped>\n",
       "    .dataframe tbody tr th:only-of-type {\n",
       "        vertical-align: middle;\n",
       "    }\n",
       "\n",
       "    .dataframe tbody tr th {\n",
       "        vertical-align: top;\n",
       "    }\n",
       "\n",
       "    .dataframe thead th {\n",
       "        text-align: right;\n",
       "    }\n",
       "</style>\n",
       "<table border=\"1\" class=\"dataframe\">\n",
       "  <thead>\n",
       "    <tr style=\"text-align: right;\">\n",
       "      <th></th>\n",
       "      <th>TRIP_ID</th>\n",
       "      <th>CALL_TYPE</th>\n",
       "      <th>ORIGIN_CALL</th>\n",
       "      <th>ORIGIN_STAND</th>\n",
       "      <th>TAXI_ID</th>\n",
       "      <th>TIMESTAMP</th>\n",
       "      <th>DAY_TYPE</th>\n",
       "      <th>MISSING_DATA</th>\n",
       "      <th>POLYLINE</th>\n",
       "      <th>geo_len</th>\n",
       "    </tr>\n",
       "  </thead>\n",
       "  <tbody>\n",
       "    <tr>\n",
       "      <th>0</th>\n",
       "      <td>1372636858620000589</td>\n",
       "      <td>C</td>\n",
       "      <td>NaN</td>\n",
       "      <td>NaN</td>\n",
       "      <td>20000589</td>\n",
       "      <td>1372636858</td>\n",
       "      <td>A</td>\n",
       "      <td>False</td>\n",
       "      <td>[[-8.618643 41.141412] [-8.618499 41.141376] [...</td>\n",
       "      <td>500</td>\n",
       "    </tr>\n",
       "    <tr>\n",
       "      <th>1</th>\n",
       "      <td>1372637303620000596</td>\n",
       "      <td>B</td>\n",
       "      <td>NaN</td>\n",
       "      <td>7.0</td>\n",
       "      <td>20000596</td>\n",
       "      <td>1372637303</td>\n",
       "      <td>A</td>\n",
       "      <td>False</td>\n",
       "      <td>[[-8.639847 41.159826] [-8.640351 41.159871] [...</td>\n",
       "      <td>413</td>\n",
       "    </tr>\n",
       "    <tr>\n",
       "      <th>2</th>\n",
       "      <td>1372636951620000320</td>\n",
       "      <td>C</td>\n",
       "      <td>NaN</td>\n",
       "      <td>NaN</td>\n",
       "      <td>20000320</td>\n",
       "      <td>1372636951</td>\n",
       "      <td>A</td>\n",
       "      <td>False</td>\n",
       "      <td>[[-8.612964 41.140359] [-8.613378 41.14035] [-...</td>\n",
       "      <td>1408</td>\n",
       "    </tr>\n",
       "    <tr>\n",
       "      <th>3</th>\n",
       "      <td>1372636854620000520</td>\n",
       "      <td>C</td>\n",
       "      <td>NaN</td>\n",
       "      <td>NaN</td>\n",
       "      <td>20000520</td>\n",
       "      <td>1372636854</td>\n",
       "      <td>A</td>\n",
       "      <td>False</td>\n",
       "      <td>[[-8.574678 41.151951] [-8.574705 41.151942] [...</td>\n",
       "      <td>938</td>\n",
       "    </tr>\n",
       "    <tr>\n",
       "      <th>4</th>\n",
       "      <td>1372637091620000337</td>\n",
       "      <td>C</td>\n",
       "      <td>NaN</td>\n",
       "      <td>NaN</td>\n",
       "      <td>20000337</td>\n",
       "      <td>1372637091</td>\n",
       "      <td>A</td>\n",
       "      <td>False</td>\n",
       "      <td>[[-8.645994 41.18049] [-8.645949 41.180517] [-...</td>\n",
       "      <td>634</td>\n",
       "    </tr>\n",
       "  </tbody>\n",
       "</table>\n",
       "</div>"
      ],
      "text/plain": [
       "               TRIP_ID CALL_TYPE  ORIGIN_CALL  ORIGIN_STAND   TAXI_ID  \\\n",
       "0  1372636858620000589         C          NaN           NaN  20000589   \n",
       "1  1372637303620000596         B          NaN           7.0  20000596   \n",
       "2  1372636951620000320         C          NaN           NaN  20000320   \n",
       "3  1372636854620000520         C          NaN           NaN  20000520   \n",
       "4  1372637091620000337         C          NaN           NaN  20000337   \n",
       "\n",
       "    TIMESTAMP DAY_TYPE  MISSING_DATA  \\\n",
       "0  1372636858        A         False   \n",
       "1  1372637303        A         False   \n",
       "2  1372636951        A         False   \n",
       "3  1372636854        A         False   \n",
       "4  1372637091        A         False   \n",
       "\n",
       "                                            POLYLINE  geo_len  \n",
       "0  [[-8.618643 41.141412] [-8.618499 41.141376] [...      500  \n",
       "1  [[-8.639847 41.159826] [-8.640351 41.159871] [...      413  \n",
       "2  [[-8.612964 41.140359] [-8.613378 41.14035] [-...     1408  \n",
       "3  [[-8.574678 41.151951] [-8.574705 41.151942] [...      938  \n",
       "4  [[-8.645994 41.18049] [-8.645949 41.180517] [-...      634  "
      ]
     },
     "execution_count": 4,
     "metadata": {},
     "output_type": "execute_result"
    }
   ],
   "source": [
    "df = _df.copy()\n",
    "\n",
    "def preprocess_data(df: pd.DataFrame):\n",
    "    df.drop(df[df[\"MISSING_DATA\"] == True].index, axis=0, inplace=True)\n",
    "    df[\"POLYLINE\"] = df[\"POLYLINE\"].str.replace(\"\\[\", \"\", regex=False)\n",
    "    df[\"POLYLINE\"] = df[\"POLYLINE\"].str.replace(\"\\]\", \"\", regex=False)\n",
    "    df[\"geo_len\"] = df[\"POLYLINE\"].apply(lambda x: len(x))\n",
    "    df[\"POLYLINE\"] = df[\"POLYLINE\"].apply(lambda x: x.split(\",\"))\n",
    "    df[\"POLYLINE\"] = df[\"POLYLINE\"].str.join(\" \")\n",
    "    df.drop(df[df[\"geo_len\"] == 0].index, axis=0, inplace=True)\n",
    "\n",
    "\n",
    "preprocess_data(df)\n",
    "df.head()"
   ]
  },
  {
   "cell_type": "code",
   "execution_count": 5,
   "metadata": {},
   "outputs": [
    {
     "data": {
      "text/plain": [
       "'[[-8.618643 41.141412] [-8.618499 41.141376] [-8.620326 41.14251] [-8.622153 41.143815] [-8.623953 41.144373] [-8.62668 41.144778] [-8.627373 41.144697] [-8.630226 41.14521] [-8.632746 41.14692] [-8.631738 41.148225] [-8.629938 41.150385] [-8.62911 41.151213] [-8.629128 41.15124] [-8.628786 41.152203] [-8.628687 41.152374] [-8.628759 41.152518] [-8.630838 41.15268] [-8.632323 41.153022] [-8.631144 41.154489] [-8.630829 41.154507] [-8.630829 41.154516] [-8.630829 41.154498] [-8.630838 41.154489]]'"
      ]
     },
     "execution_count": 5,
     "metadata": {},
     "output_type": "execute_result"
    }
   ],
   "source": [
    "coords = df[\"POLYLINE\"][0]\n",
    "coords\n"
   ]
  },
  {
   "cell_type": "code",
   "execution_count": 6,
   "metadata": {},
   "outputs": [
    {
     "name": "stdout",
     "output_type": "stream",
     "text": [
      "x: -8.618643, y: 41.141412\n",
      "x: -8.618499, y: 41.141376\n",
      "x: -8.620326, y: 41.14251\n",
      "x: -8.622153, y: 41.143815\n",
      "x: -8.623953, y: 41.144373\n",
      "x: -8.62668, y: 41.144778\n",
      "x: -8.627373, y: 41.144697\n",
      "x: -8.630226, y: 41.14521\n",
      "x: -8.632746, y: 41.14692\n",
      "x: -8.631738, y: 41.148225\n",
      "x: -8.629938, y: 41.150385\n",
      "x: -8.62911, y: 41.151213\n",
      "x: -8.629128, y: 41.15124\n",
      "x: -8.628786, y: 41.152203\n",
      "x: -8.628687, y: 41.152374\n",
      "x: -8.628759, y: 41.152518\n",
      "x: -8.630838, y: 41.15268\n",
      "x: -8.632323, y: 41.153022\n",
      "x: -8.631144, y: 41.154489\n",
      "x: -8.630829, y: 41.154507\n",
      "x: -8.630829, y: 41.154516\n",
      "x: -8.630829, y: 41.154498\n",
      "x: -8.630838, y: 41.154489\n"
     ]
    }
   ],
   "source": [
    "import re\n",
    "\n",
    "pattern = r\"\\[(-?\\d+\\.\\d+) (-?\\d+\\.\\d+)\\]\"\n",
    "matches = re.findall(pattern, coords)\n",
    "for match in matches:\n",
    "    print(f\"x: {match[0]}, y: {match[1]}\")"
   ]
  },
  {
   "cell_type": "markdown",
   "metadata": {},
   "source": [
    "Here, we create a `geometry` column for working with the `LineString` data type"
   ]
  },
  {
   "cell_type": "code",
   "execution_count": 7,
   "metadata": {},
   "outputs": [
    {
     "name": "stderr",
     "output_type": "stream",
     "text": [
      "100%|██████████| 1710660/1710660 [02:48<00:00, 10149.09it/s]\n"
     ]
    },
    {
     "data": {
      "text/html": [
       "<div>\n",
       "<style scoped>\n",
       "    .dataframe tbody tr th:only-of-type {\n",
       "        vertical-align: middle;\n",
       "    }\n",
       "\n",
       "    .dataframe tbody tr th {\n",
       "        vertical-align: top;\n",
       "    }\n",
       "\n",
       "    .dataframe thead th {\n",
       "        text-align: right;\n",
       "    }\n",
       "</style>\n",
       "<table border=\"1\" class=\"dataframe\">\n",
       "  <thead>\n",
       "    <tr style=\"text-align: right;\">\n",
       "      <th></th>\n",
       "      <th>TRIP_ID</th>\n",
       "      <th>CALL_TYPE</th>\n",
       "      <th>ORIGIN_CALL</th>\n",
       "      <th>ORIGIN_STAND</th>\n",
       "      <th>TAXI_ID</th>\n",
       "      <th>TIMESTAMP</th>\n",
       "      <th>DAY_TYPE</th>\n",
       "      <th>MISSING_DATA</th>\n",
       "      <th>POLYLINE</th>\n",
       "      <th>geo_len</th>\n",
       "      <th>geometry</th>\n",
       "    </tr>\n",
       "  </thead>\n",
       "  <tbody>\n",
       "    <tr>\n",
       "      <th>0</th>\n",
       "      <td>1372636858620000589</td>\n",
       "      <td>C</td>\n",
       "      <td>NaN</td>\n",
       "      <td>NaN</td>\n",
       "      <td>20000589</td>\n",
       "      <td>1372636858</td>\n",
       "      <td>A</td>\n",
       "      <td>False</td>\n",
       "      <td>[[-8.618643 41.141412] [-8.618499 41.141376] [...</td>\n",
       "      <td>23</td>\n",
       "      <td>LINESTRING (-8.618643 41.141412, -8.618499 41....</td>\n",
       "    </tr>\n",
       "    <tr>\n",
       "      <th>1</th>\n",
       "      <td>1372637303620000596</td>\n",
       "      <td>B</td>\n",
       "      <td>NaN</td>\n",
       "      <td>7.0</td>\n",
       "      <td>20000596</td>\n",
       "      <td>1372637303</td>\n",
       "      <td>A</td>\n",
       "      <td>False</td>\n",
       "      <td>[[-8.639847 41.159826] [-8.640351 41.159871] [...</td>\n",
       "      <td>19</td>\n",
       "      <td>LINESTRING (-8.639847 41.159826, -8.640351 41....</td>\n",
       "    </tr>\n",
       "    <tr>\n",
       "      <th>2</th>\n",
       "      <td>1372636951620000320</td>\n",
       "      <td>C</td>\n",
       "      <td>NaN</td>\n",
       "      <td>NaN</td>\n",
       "      <td>20000320</td>\n",
       "      <td>1372636951</td>\n",
       "      <td>A</td>\n",
       "      <td>False</td>\n",
       "      <td>[[-8.612964 41.140359] [-8.613378 41.14035] [-...</td>\n",
       "      <td>65</td>\n",
       "      <td>LINESTRING (-8.612964 41.140359, -8.613378 41....</td>\n",
       "    </tr>\n",
       "    <tr>\n",
       "      <th>3</th>\n",
       "      <td>1372636854620000520</td>\n",
       "      <td>C</td>\n",
       "      <td>NaN</td>\n",
       "      <td>NaN</td>\n",
       "      <td>20000520</td>\n",
       "      <td>1372636854</td>\n",
       "      <td>A</td>\n",
       "      <td>False</td>\n",
       "      <td>[[-8.574678 41.151951] [-8.574705 41.151942] [...</td>\n",
       "      <td>43</td>\n",
       "      <td>LINESTRING (-8.574678 41.151951, -8.574705 41....</td>\n",
       "    </tr>\n",
       "    <tr>\n",
       "      <th>4</th>\n",
       "      <td>1372637091620000337</td>\n",
       "      <td>C</td>\n",
       "      <td>NaN</td>\n",
       "      <td>NaN</td>\n",
       "      <td>20000337</td>\n",
       "      <td>1372637091</td>\n",
       "      <td>A</td>\n",
       "      <td>False</td>\n",
       "      <td>[[-8.645994 41.18049] [-8.645949 41.180517] [-...</td>\n",
       "      <td>29</td>\n",
       "      <td>LINESTRING (-8.645994 41.18049, -8.645949 41.1...</td>\n",
       "    </tr>\n",
       "  </tbody>\n",
       "</table>\n",
       "</div>"
      ],
      "text/plain": [
       "               TRIP_ID CALL_TYPE  ORIGIN_CALL  ORIGIN_STAND   TAXI_ID  \\\n",
       "0  1372636858620000589         C          NaN           NaN  20000589   \n",
       "1  1372637303620000596         B          NaN           7.0  20000596   \n",
       "2  1372636951620000320         C          NaN           NaN  20000320   \n",
       "3  1372636854620000520         C          NaN           NaN  20000520   \n",
       "4  1372637091620000337         C          NaN           NaN  20000337   \n",
       "\n",
       "    TIMESTAMP DAY_TYPE  MISSING_DATA  \\\n",
       "0  1372636858        A         False   \n",
       "1  1372637303        A         False   \n",
       "2  1372636951        A         False   \n",
       "3  1372636854        A         False   \n",
       "4  1372637091        A         False   \n",
       "\n",
       "                                            POLYLINE  geo_len  \\\n",
       "0  [[-8.618643 41.141412] [-8.618499 41.141376] [...       23   \n",
       "1  [[-8.639847 41.159826] [-8.640351 41.159871] [...       19   \n",
       "2  [[-8.612964 41.140359] [-8.613378 41.14035] [-...       65   \n",
       "3  [[-8.574678 41.151951] [-8.574705 41.151942] [...       43   \n",
       "4  [[-8.645994 41.18049] [-8.645949 41.180517] [-...       29   \n",
       "\n",
       "                                            geometry  \n",
       "0  LINESTRING (-8.618643 41.141412, -8.618499 41....  \n",
       "1  LINESTRING (-8.639847 41.159826, -8.640351 41....  \n",
       "2  LINESTRING (-8.612964 41.140359, -8.613378 41....  \n",
       "3  LINESTRING (-8.574678 41.151951, -8.574705 41....  \n",
       "4  LINESTRING (-8.645994 41.18049, -8.645949 41.1...  "
      ]
     },
     "execution_count": 7,
     "metadata": {},
     "output_type": "execute_result"
    }
   ],
   "source": [
    "from shapely.geometry import LineString\n",
    "\n",
    "\n",
    "def add_geometry_column(df: pd.DataFrame):\n",
    "    temp_all = []\n",
    "    pattern = r\"\\[(-?\\d+\\.\\d+) (-?\\d+\\.\\d+)\\]\"\n",
    "    df[\"geometry\"] = \"\"\n",
    "    df[\"geometry\"] = df[\"geometry\"].astype(\"object\")\n",
    "    for index, row in tqdm(df.iterrows(), total=df.shape[0]):\n",
    "        temp = []\n",
    "        # i = 1\n",
    "        # temp_coords = \"\".join(row[\"POLYLINE\"])\n",
    "        matches = re.findall(pattern, \"\".join(row[\"POLYLINE\"]))\n",
    "        # for coord in temp_coords:\n",
    "        #     if i % 2 == 0:\n",
    "        #         b = float(coord)\n",
    "        #         temp.append((a, b))\n",
    "        #     else:\n",
    "        #         a = float(coord)\n",
    "\n",
    "        #     i += 1\n",
    "        for match in matches:\n",
    "            temp.append((float(match[0]), float(match[1])))\n",
    "            # print(f\"x: {match[0]}, y: {match[1]}\")\n",
    "\n",
    "        temp_all.append(temp)\n",
    "        df.at[index, \"geometry\"] = temp\n",
    "    df[\"geo_len\"] = df[\"geometry\"].apply(lambda x: len(x))\n",
    "    df.drop(df[df[\"geo_len\"] < 2].index, axis=0, inplace=True)\n",
    "    df[\"geometry\"] = df[\"geometry\"].apply(lambda x: LineString(x))\n",
    "\n",
    "\n",
    "add_geometry_column(df)\n",
    "df.head()"
   ]
  },
  {
   "cell_type": "markdown",
   "metadata": {},
   "source": [
    "Now that the data is formatted properly, we can use `geopandas`"
   ]
  },
  {
   "cell_type": "code",
   "execution_count": 8,
   "metadata": {},
   "outputs": [
    {
     "data": {
      "text/html": [
       "<div>\n",
       "<style scoped>\n",
       "    .dataframe tbody tr th:only-of-type {\n",
       "        vertical-align: middle;\n",
       "    }\n",
       "\n",
       "    .dataframe tbody tr th {\n",
       "        vertical-align: top;\n",
       "    }\n",
       "\n",
       "    .dataframe thead th {\n",
       "        text-align: right;\n",
       "    }\n",
       "</style>\n",
       "<table border=\"1\" class=\"dataframe\">\n",
       "  <thead>\n",
       "    <tr style=\"text-align: right;\">\n",
       "      <th></th>\n",
       "      <th>TRIP_ID</th>\n",
       "      <th>CALL_TYPE</th>\n",
       "      <th>ORIGIN_CALL</th>\n",
       "      <th>ORIGIN_STAND</th>\n",
       "      <th>TAXI_ID</th>\n",
       "      <th>TIMESTAMP</th>\n",
       "      <th>DAY_TYPE</th>\n",
       "      <th>MISSING_DATA</th>\n",
       "      <th>POLYLINE</th>\n",
       "      <th>geo_len</th>\n",
       "      <th>geometry</th>\n",
       "    </tr>\n",
       "  </thead>\n",
       "  <tbody>\n",
       "    <tr>\n",
       "      <th>0</th>\n",
       "      <td>1372636858620000589</td>\n",
       "      <td>C</td>\n",
       "      <td>NaN</td>\n",
       "      <td>NaN</td>\n",
       "      <td>20000589</td>\n",
       "      <td>1372636858</td>\n",
       "      <td>A</td>\n",
       "      <td>False</td>\n",
       "      <td>[[-8.618643 41.141412] [-8.618499 41.141376] [...</td>\n",
       "      <td>23</td>\n",
       "      <td>LINESTRING (-8.61864 41.14141, -8.61850 41.141...</td>\n",
       "    </tr>\n",
       "    <tr>\n",
       "      <th>1</th>\n",
       "      <td>1372637303620000596</td>\n",
       "      <td>B</td>\n",
       "      <td>NaN</td>\n",
       "      <td>7.0</td>\n",
       "      <td>20000596</td>\n",
       "      <td>1372637303</td>\n",
       "      <td>A</td>\n",
       "      <td>False</td>\n",
       "      <td>[[-8.639847 41.159826] [-8.640351 41.159871] [...</td>\n",
       "      <td>19</td>\n",
       "      <td>LINESTRING (-8.63985 41.15983, -8.64035 41.159...</td>\n",
       "    </tr>\n",
       "    <tr>\n",
       "      <th>2</th>\n",
       "      <td>1372636951620000320</td>\n",
       "      <td>C</td>\n",
       "      <td>NaN</td>\n",
       "      <td>NaN</td>\n",
       "      <td>20000320</td>\n",
       "      <td>1372636951</td>\n",
       "      <td>A</td>\n",
       "      <td>False</td>\n",
       "      <td>[[-8.612964 41.140359] [-8.613378 41.14035] [-...</td>\n",
       "      <td>65</td>\n",
       "      <td>LINESTRING (-8.61296 41.14036, -8.61338 41.140...</td>\n",
       "    </tr>\n",
       "    <tr>\n",
       "      <th>3</th>\n",
       "      <td>1372636854620000520</td>\n",
       "      <td>C</td>\n",
       "      <td>NaN</td>\n",
       "      <td>NaN</td>\n",
       "      <td>20000520</td>\n",
       "      <td>1372636854</td>\n",
       "      <td>A</td>\n",
       "      <td>False</td>\n",
       "      <td>[[-8.574678 41.151951] [-8.574705 41.151942] [...</td>\n",
       "      <td>43</td>\n",
       "      <td>LINESTRING (-8.57468 41.15195, -8.57470 41.151...</td>\n",
       "    </tr>\n",
       "    <tr>\n",
       "      <th>4</th>\n",
       "      <td>1372637091620000337</td>\n",
       "      <td>C</td>\n",
       "      <td>NaN</td>\n",
       "      <td>NaN</td>\n",
       "      <td>20000337</td>\n",
       "      <td>1372637091</td>\n",
       "      <td>A</td>\n",
       "      <td>False</td>\n",
       "      <td>[[-8.645994 41.18049] [-8.645949 41.180517] [-...</td>\n",
       "      <td>29</td>\n",
       "      <td>LINESTRING (-8.64599 41.18049, -8.64595 41.180...</td>\n",
       "    </tr>\n",
       "  </tbody>\n",
       "</table>\n",
       "</div>"
      ],
      "text/plain": [
       "               TRIP_ID CALL_TYPE  ORIGIN_CALL  ORIGIN_STAND   TAXI_ID  \\\n",
       "0  1372636858620000589         C          NaN           NaN  20000589   \n",
       "1  1372637303620000596         B          NaN           7.0  20000596   \n",
       "2  1372636951620000320         C          NaN           NaN  20000320   \n",
       "3  1372636854620000520         C          NaN           NaN  20000520   \n",
       "4  1372637091620000337         C          NaN           NaN  20000337   \n",
       "\n",
       "    TIMESTAMP DAY_TYPE  MISSING_DATA  \\\n",
       "0  1372636858        A         False   \n",
       "1  1372637303        A         False   \n",
       "2  1372636951        A         False   \n",
       "3  1372636854        A         False   \n",
       "4  1372637091        A         False   \n",
       "\n",
       "                                            POLYLINE  geo_len  \\\n",
       "0  [[-8.618643 41.141412] [-8.618499 41.141376] [...       23   \n",
       "1  [[-8.639847 41.159826] [-8.640351 41.159871] [...       19   \n",
       "2  [[-8.612964 41.140359] [-8.613378 41.14035] [-...       65   \n",
       "3  [[-8.574678 41.151951] [-8.574705 41.151942] [...       43   \n",
       "4  [[-8.645994 41.18049] [-8.645949 41.180517] [-...       29   \n",
       "\n",
       "                                            geometry  \n",
       "0  LINESTRING (-8.61864 41.14141, -8.61850 41.141...  \n",
       "1  LINESTRING (-8.63985 41.15983, -8.64035 41.159...  \n",
       "2  LINESTRING (-8.61296 41.14036, -8.61338 41.140...  \n",
       "3  LINESTRING (-8.57468 41.15195, -8.57470 41.151...  \n",
       "4  LINESTRING (-8.64599 41.18049, -8.64595 41.180...  "
      ]
     },
     "execution_count": 8,
     "metadata": {},
     "output_type": "execute_result"
    }
   ],
   "source": [
    "import geopandas as gpd\n",
    "from shapely import wkt\n",
    "\n",
    "gdf = gpd.GeoDataFrame(df, geometry='geometry')\n",
    "gdf.head()"
   ]
  },
  {
   "cell_type": "markdown",
   "metadata": {},
   "source": [
    "## Assign labels\n",
    "\n",
    "This is the major portion of the project, as deciding whether a user is lost, parking, or driving normally is the objective. We will use the `geopandas` library to help us with this task later."
   ]
  },
  {
   "cell_type": "code",
   "execution_count": null,
   "metadata": {},
   "outputs": [],
   "source": [
    "# TODO: take polylines and convert to labels `['LOST','PARKING','NORMAL']`"
   ]
  },
  {
   "cell_type": "markdown",
   "metadata": {},
   "source": [
    "## Google Maps API Setup\n",
    "For geocoding and reverse geocoding, we will use the Google Maps API. You will need to set up a Google Cloud Platform account and enable the Google Maps API. You will also need to create an API key. You can find instructions on how to do this here: https://developers.google.com/maps/documentation/geocoding/get-api-key. For our application, we put the API key in a file called `GOOGLE_MAPS_API_KEY.txt` in the same directory as this notebook."
   ]
  },
  {
   "cell_type": "code",
   "execution_count": 9,
   "metadata": {},
   "outputs": [],
   "source": [
    "from geopy.geocoders import GoogleV3\n",
    "api_key_file = \"GOOGLE_MAPS_API_KEY.txt\""
   ]
  },
  {
   "cell_type": "code",
   "execution_count": 10,
   "metadata": {},
   "outputs": [],
   "source": [
    "with open(api_key_file, \"r\") as f:\n",
    "    api_key = f.read()\n",
    "adapter = GoogleV3(api_key=api_key)"
   ]
  },
  {
   "cell_type": "markdown",
   "metadata": {},
   "source": [
    "We'll use the Chihuly Garden and Glass museum in Seattle as an example. We'll first geocode the address to get the latitude and longitude coordinates. From there, we can find nearest parking spaces to the museum and display them appropriately. This is another portion of the project we are working on"
   ]
  },
  {
   "cell_type": "code",
   "execution_count": 11,
   "metadata": {},
   "outputs": [
    {
     "data": {
      "text/plain": [
       "Location(305 Harrison St, Seattle, WA 98109, USA, (47.6228059, -122.353007, 0.0))"
      ]
     },
     "execution_count": 11,
     "metadata": {},
     "output_type": "execute_result"
    }
   ],
   "source": [
    "glass_garden_address = \"305 Harrison St, Seattle, WA 98109\"  # Chihuly Garden and Glass\n",
    "loc = adapter.geocode(glass_garden_address)\n",
    "loc"
   ]
  },
  {
   "cell_type": "code",
   "execution_count": 12,
   "metadata": {},
   "outputs": [
    {
     "data": {
      "text/plain": [
       "Point(47.6228059, -122.353007, 0.0)"
      ]
     },
     "execution_count": 12,
     "metadata": {},
     "output_type": "execute_result"
    }
   ],
   "source": [
    "lat, lon = loc.latitude, loc.longitude\n",
    "loc.point"
   ]
  },
  {
   "cell_type": "markdown",
   "metadata": {},
   "source": [
    "### Find parking spots near location\n",
    "https://stackoverflow.com/questions/23025011/google-place-api-for-parking-spots\n",
    "\n",
    "https://developers.google.com/maps/documentation/places/web-service/search-nearby#PlaceSearchRequests"
   ]
  },
  {
   "cell_type": "code",
   "execution_count": 14,
   "metadata": {},
   "outputs": [],
   "source": [
    "import requests\n",
    "\n",
    "request_url = \"https://maps.googleapis.com/maps/api/place/nearbysearch/json?\"\n",
    "radius = 1000 # meters\n",
    "type_ = \"parking\"\n",
    "location = f\"{lat},{lon}\"\n",
    "request_url = f\"{request_url}location={location}&radius={radius}&type={type_}&key={api_key}\"\n",
    "# request_url"
   ]
  },
  {
   "cell_type": "code",
   "execution_count": 15,
   "metadata": {},
   "outputs": [
    {
     "data": {
      "text/plain": [
       "{'business_status': 'OPERATIONAL',\n",
       " 'geometry': {'location': {'lat': 47.62477159999999, 'lng': -122.353641},\n",
       "  'viewport': {'northeast': {'lat': 47.6261295802915,\n",
       "    'lng': -122.3523800197085},\n",
       "   'southwest': {'lat': 47.62343161970851, 'lng': -122.3550779802915}}},\n",
       " 'icon': 'https://maps.gstatic.com/mapfiles/place_api/icons/v1/png_71/parking-71.png',\n",
       " 'icon_background_color': '#7B9EB0',\n",
       " 'icon_mask_base_uri': 'https://maps.gstatic.com/mapfiles/place_api/icons/v2/parking_pinlet',\n",
       " 'name': 'U park',\n",
       " 'opening_hours': {'open_now': True},\n",
       " 'photos': [{'height': 3024,\n",
       "   'html_attributions': ['<a href=\"https://maps.google.com/maps/contrib/116898915965680338772\">Ellie Lockhart</a>'],\n",
       "   'photo_reference': 'AcJnMuEWkNLov14LZXNW7WXxMpEZJ5DAtAuSaxd8vrlDKA-FbcZ3SNokctv4TANBVm44SHltgxMM0wSZhdxmTB-PRAiYFVpaGfvgU9Q_Np-AWby-PlfbtZEzJjAa6PLqoge0C8SkyiqtAfInbhxbxLF4x1K95XAeuNLGvdNrklLcx8sanU5p',\n",
       "   'width': 4032}],\n",
       " 'place_id': 'ChIJq1yHREEVkFQR0cI7TcmJH6Q',\n",
       " 'plus_code': {'compound_code': 'JJFW+WG Seattle, WA, USA',\n",
       "  'global_code': '84VVJJFW+WG'},\n",
       " 'rating': 3.8,\n",
       " 'reference': 'ChIJq1yHREEVkFQR0cI7TcmJH6Q',\n",
       " 'scope': 'GOOGLE',\n",
       " 'types': ['parking', 'point_of_interest', 'establishment'],\n",
       " 'user_ratings_total': 13,\n",
       " 'vicinity': '172 Mercer Street, Seattle'}"
      ]
     },
     "execution_count": 15,
     "metadata": {},
     "output_type": "execute_result"
    }
   ],
   "source": [
    "# headers = {'content-type': 'application/json', 'Accept-Charset': 'UTF-8'}\n",
    "res = requests.get(request_url).json()\n",
    "res[\"results\"][0]"
   ]
  },
  {
   "cell_type": "code",
   "execution_count": 16,
   "metadata": {},
   "outputs": [
    {
     "data": {
      "text/plain": [
       "{'lat': 47.62477159999999, 'lng': -122.353641}"
      ]
     },
     "execution_count": 16,
     "metadata": {},
     "output_type": "execute_result"
    }
   ],
   "source": [
    "def get_nearest_parking(lat: int = 0.0, lon: int = 0.0, query: str = None, radius=1000):\n",
    "    if query is not None:\n",
    "        loc = adapter.geocode(query)\n",
    "        lat, lon = loc.latitude, loc.longitude\n",
    "    request_url = \"https://maps.googleapis.com/maps/api/place/nearbysearch/json?\"\n",
    "    location = f\"{lat},{lon}\"\n",
    "    request_url = (\n",
    "        f\"{request_url}location={location}&radius={radius}&type=parking&key={api_key}\"\n",
    "    )\n",
    "    res = requests.get(request_url).json()\n",
    "\n",
    "    return res[\"results\"]\n",
    "\n",
    "\n",
    "nearby_parking = get_nearest_parking(lat, lon)\n",
    "nearby_parking[0][\"geometry\"][\"location\"]"
   ]
  },
  {
   "cell_type": "code",
   "execution_count": 17,
   "metadata": {},
   "outputs": [
    {
     "name": "stdout",
     "output_type": "stream",
     "text": [
      "172 Mercer Street, Seattle (47.62477159999999, -122.353641)\n",
      "220 1st Avenue North, Seattle (47.62035909999999, -122.3545646)\n",
      "Parking lot, 5 West Harrison Street, Seattle (47.6219153, -122.3569417)\n",
      "622 1st Avenue West, Seattle (47.6251632, -122.3576404)\n",
      "100 West Mercer Place, Seattle (47.6248393, -122.3582943)\n",
      "516 Harrison Street, Seattle (47.6222115, -122.3468784)\n",
      "710 4th Avenue North, Seattle (47.6258037, -122.3485209)\n",
      "710 4th Avenue North, Seattle (47.62580819999999, -122.3484942)\n",
      "380 Broad Street, Seattle (47.6189839, -122.3492485)\n",
      "Parking lot, 525 2nd Avenue West, Seattle (47.6241239, -122.359721)\n",
      "3161 Elliott Avenue West, Seattle (47.61879380000001, -122.3585127)\n",
      "3161 Elliott Avenue Suite 100, Seattle (47.618367, -122.358577)\n",
      "619 Roy Street, Seattle (47.6256716, -122.3451308)\n",
      "555 Vine Street, Seattle (47.618237, -122.3456354)\n",
      "347 Vine Street, Seattle (47.6168334, -122.3469738)\n",
      "714 Denny Way, Seattle (47.619214, -122.3432616)\n",
      "2400 4th Avenue, Seattle (47.61653829999999, -122.3453164)\n",
      "541 Elliott Avenue West, Seattle (47.6239161, -122.3655674)\n",
      "714 Denny Way, Seattle (47.6192366, -122.3433009)\n",
      "551 Denny Way, Seattle (47.618368, -122.3460402)\n"
     ]
    }
   ],
   "source": [
    "for parking in nearby_parking:\n",
    "    lat = parking[\"geometry\"][\"location\"][\"lat\"]\n",
    "    lng = parking[\"geometry\"][\"location\"][\"lng\"]\n",
    "    print(parking[\"vicinity\"], (lat, lng))\n"
   ]
  },
  {
   "cell_type": "code",
   "execution_count": null,
   "metadata": {},
   "outputs": [],
   "source": []
  }
 ],
 "metadata": {
  "kernelspec": {
   "display_name": "tcss565",
   "language": "python",
   "name": "python3"
  },
  "language_info": {
   "codemirror_mode": {
    "name": "ipython",
    "version": 3
   },
   "file_extension": ".py",
   "mimetype": "text/x-python",
   "name": "python",
   "nbconvert_exporter": "python",
   "pygments_lexer": "ipython3",
   "version": "3.11.5"
  }
 },
 "nbformat": 4,
 "nbformat_minor": 2
}
