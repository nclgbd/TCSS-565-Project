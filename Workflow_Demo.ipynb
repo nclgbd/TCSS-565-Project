{
 "cells": [
  {
   "cell_type": "markdown",
   "metadata": {},
   "source": [
    "## Data exploration\n",
    "\n",
    "Adapted from: https://www.kaggle.com/code/nagellette/taxi-trajectory-data-analysis"
   ]
  },
  {
   "cell_type": "code",
   "execution_count": null,
   "metadata": {},
   "outputs": [],
   "source": [
    "import numpy as np\n",
    "import os\n",
    "import pandas as pd\n",
    "import rich\n",
    "import sys\n",
    "from functools import partial\n",
    "from tqdm import tqdm"
   ]
  },
  {
   "cell_type": "code",
   "execution_count": null,
   "metadata": {},
   "outputs": [],
   "source": [
    "data_path = \"data/train.csv\""
   ]
  },
  {
   "cell_type": "code",
   "execution_count": null,
   "metadata": {},
   "outputs": [],
   "source": [
    "def load_data(path: str, nrows=10000):\n",
    "    df = pd.read_csv(path, nrows=nrows)\n",
    "    return df\n",
    "\n",
    "_df = load_data(data_path)\n",
    "_df.head()"
   ]
  },
  {
   "cell_type": "markdown",
   "metadata": {},
   "source": [
    "The column that we care about here is the `POLYLINE` column. This column contains a list of GPS coordinates that represent the path that the taxi took. The first and last coordinates in the list represent the start and end points of the trip, respectively. The rest of the coordinates represent the path that the taxi took from the start to the end point. We'll preprocess the data here to make it easier to work with later with `geopandas`."
   ]
  },
  {
   "cell_type": "code",
   "execution_count": null,
   "metadata": {},
   "outputs": [],
   "source": [
    "df = _df.copy()\n",
    "\n",
    "def preprocess_data(df: pd.DataFrame):\n",
    "    df.drop(df[df[\"MISSING_DATA\"] == True].index, axis=0, inplace=True)\n",
    "    df[\"POLYLINE\"] = df[\"POLYLINE\"].str.replace(\"\\[\", \"\", regex=False)\n",
    "    df[\"POLYLINE\"] = df[\"POLYLINE\"].str.replace(\"\\]\", \"\", regex=False)\n",
    "    df[\"geo_len\"] = df[\"POLYLINE\"].apply(lambda x: len(x))\n",
    "    df[\"POLYLINE\"] = df[\"POLYLINE\"].apply(lambda x: x.split(\",\"))\n",
    "    df[\"POLYLINE\"] = df[\"POLYLINE\"].str.join(\" \")\n",
    "    df.drop(df[df[\"geo_len\"] == 0].index, axis=0, inplace=True)\n",
    "\n",
    "\n",
    "preprocess_data(df)\n",
    "df.head()"
   ]
  },
  {
   "cell_type": "code",
   "execution_count": null,
   "metadata": {},
   "outputs": [],
   "source": [
    "coords = df[\"POLYLINE\"][0]\n",
    "coords\n"
   ]
  },
  {
   "cell_type": "code",
   "execution_count": null,
   "metadata": {},
   "outputs": [],
   "source": [
    "import re\n",
    "\n",
    "pattern = r\"\\[(-?\\d+\\.\\d+) (-?\\d+\\.\\d+)\\]\"\n",
    "matches = re.findall(pattern, coords)\n",
    "for match in matches:\n",
    "    print(f\"x: {match[0]}, y: {match[1]}\")"
   ]
  },
  {
   "cell_type": "markdown",
   "metadata": {},
   "source": [
    "Here, we create a `geometry` column for working with the `LineString` data type"
   ]
  },
  {
   "cell_type": "code",
   "execution_count": null,
   "metadata": {},
   "outputs": [],
   "source": [
    "from shapely.geometry import LineString\n",
    "\n",
    "\n",
    "def add_geometry_column(df: pd.DataFrame):\n",
    "    temp_all = []\n",
    "    pattern = r\"\\[(-?\\d+\\.\\d+) (-?\\d+\\.\\d+)\\]\"\n",
    "    df[\"geometry\"] = \"\"\n",
    "    df[\"geometry\"] = df[\"geometry\"].astype(\"object\")\n",
    "    for index, row in tqdm(df.iterrows(), total=df.shape[0]):\n",
    "        temp = []\n",
    "        # i = 1\n",
    "        # temp_coords = \"\".join(row[\"POLYLINE\"])\n",
    "        matches = re.findall(pattern, \"\".join(row[\"POLYLINE\"]))\n",
    "        # for coord in temp_coords:\n",
    "        #     if i % 2 == 0:\n",
    "        #         b = float(coord)\n",
    "        #         temp.append((a, b))\n",
    "        #     else:\n",
    "        #         a = float(coord)\n",
    "\n",
    "        #     i += 1\n",
    "        for match in matches:\n",
    "            temp.append((float(match[0]), float(match[1])))\n",
    "            # print(f\"x: {match[0]}, y: {match[1]}\")\n",
    "\n",
    "        temp_all.append(temp)\n",
    "        df.at[index, \"geometry\"] = temp\n",
    "    df[\"geo_len\"] = df[\"geometry\"].apply(lambda x: len(x))\n",
    "    df.drop(df[df[\"geo_len\"] < 2].index, axis=0, inplace=True)\n",
    "    df[\"geometry\"] = df[\"geometry\"].apply(lambda x: LineString(x))\n",
    "\n",
    "\n",
    "add_geometry_column(df)\n",
    "df.head()"
   ]
  },
  {
   "cell_type": "markdown",
   "metadata": {},
   "source": [
    "Now that the data is formatted properly, we can use `geopandas`"
   ]
  },
  {
   "cell_type": "code",
   "execution_count": null,
   "metadata": {},
   "outputs": [],
   "source": [
    "import geopandas as gpd\n",
    "from shapely import wkt\n",
    "\n",
    "gdf = gpd.GeoDataFrame(df, geometry='geometry')\n",
    "gdf.head()"
   ]
  },
  {
   "cell_type": "code",
   "execution_count": null,
   "metadata": {},
   "outputs": [],
   "source": [
    "gdf[\"geometry\"].values[-1]"
   ]
  },
  {
   "cell_type": "markdown",
   "metadata": {},
   "source": [
    "## Assign labels\n",
    "\n",
    "This is the major portion of the project, as deciding whether a user is lost, parking, or driving normally is the objective. We will use the `geopandas` library to help us with this task later."
   ]
  },
  {
   "cell_type": "code",
   "execution_count": null,
   "metadata": {},
   "outputs": [],
   "source": [
    "# TODO: take polylines and convert to labels `['LOST','PARKING','NORMAL']`"
   ]
  },
  {
   "cell_type": "markdown",
   "metadata": {},
   "source": [
    "## Google Maps API Setup\n",
    "For geocoding and reverse geocoding, we will use the Google Maps API. You will need to set up a Google Cloud Platform account and enable the Google Maps API. You will also need to create an API key. You can find instructions on how to do this here: https://developers.google.com/maps/documentation/geocoding/get-api-key. For our application, we put the API key in a file called `GOOGLE_MAPS_API_KEY.txt` in the same directory as this notebook."
   ]
  },
  {
   "cell_type": "code",
   "execution_count": null,
   "metadata": {},
   "outputs": [],
   "source": [
    "from geopy.geocoders import GoogleV3\n",
    "api_key_file = \"GOOGLE_MAPS_API_KEY.txt\""
   ]
  },
  {
   "cell_type": "code",
   "execution_count": null,
   "metadata": {},
   "outputs": [],
   "source": [
    "with open(api_key_file, \"r\") as f:\n",
    "    api_key = f.read()\n",
    "adapter = GoogleV3(api_key=api_key)"
   ]
  },
  {
   "cell_type": "markdown",
   "metadata": {},
   "source": [
    "We'll use the Chihuly Garden and Glass museum in Seattle as an example. We'll first geocode the address to get the latitude and longitude coordinates. From there, we can find nearest parking spaces to the museum and display them appropriately. This is another portion of the project we are working on"
   ]
  },
  {
   "cell_type": "code",
   "execution_count": null,
   "metadata": {},
   "outputs": [],
   "source": [
    "glass_garden_address = \"305 Harrison St, Seattle, WA 98109\"  # Chihuly Garden and Glass\n",
    "loc = adapter.geocode(glass_garden_address)\n",
    "loc"
   ]
  },
  {
   "cell_type": "code",
   "execution_count": null,
   "metadata": {},
   "outputs": [],
   "source": [
    "lat, lon = loc.latitude, loc.longitude\n",
    "loc.point"
   ]
  },
  {
   "cell_type": "markdown",
   "metadata": {},
   "source": [
    "### Find parking spots near location\n",
    "https://stackoverflow.com/questions/23025011/google-place-api-for-parking-spots\n",
    "\n",
    "https://developers.google.com/maps/documentation/places/web-service/search-nearby#PlaceSearchRequests"
   ]
  },
  {
   "cell_type": "code",
   "execution_count": null,
   "metadata": {},
   "outputs": [],
   "source": [
    "import requests\n",
    "\n",
    "request_url = \"https://maps.googleapis.com/maps/api/place/nearbysearch/json?\"\n",
    "radius = 1000 # meters\n",
    "type_ = \"parking\"\n",
    "location = f\"{lat},{lon}\"\n",
    "request_url = f\"{request_url}location={location}&radius={radius}&type={type_}&key={api_key}\"\n",
    "# request_url"
   ]
  },
  {
   "cell_type": "code",
   "execution_count": null,
   "metadata": {},
   "outputs": [],
   "source": [
    "# headers = {'content-type': 'application/json', 'Accept-Charset': 'UTF-8'}\n",
    "res = requests.get(request_url).json()\n",
    "res[\"results\"][0]"
   ]
  },
  {
   "cell_type": "code",
   "execution_count": null,
   "metadata": {},
   "outputs": [],
   "source": [
    "def get_nearest_parking(lat: int = 0.0, lon: int = 0.0, query: str = None, radius=1000):\n",
    "    if query is not None:\n",
    "        loc = adapter.geocode(query)\n",
    "        lat, lon = loc.latitude, loc.longitude\n",
    "    request_url = \"https://maps.googleapis.com/maps/api/place/nearbysearch/json?\"\n",
    "    location = f\"{lat},{lon}\"\n",
    "    request_url = (\n",
    "        f\"{request_url}location={location}&radius={radius}&type=parking&key={api_key}\"\n",
    "    )\n",
    "    res = requests.get(request_url).json()\n",
    "\n",
    "    return res[\"results\"]\n",
    "\n",
    "\n",
    "nearby_parking = get_nearest_parking(lat, lon)\n",
    "nearby_parking[0][\"geometry\"][\"location\"]"
   ]
  },
  {
   "cell_type": "code",
   "execution_count": null,
   "metadata": {},
   "outputs": [],
   "source": [
    "for parking in nearby_parking:\n",
    "    lat = parking[\"geometry\"][\"location\"][\"lat\"]\n",
    "    lng = parking[\"geometry\"][\"location\"][\"lng\"]\n",
    "    print(parking[\"vicinity\"], (lat, lng))\n"
   ]
  },
  {
   "cell_type": "markdown",
   "metadata": {},
   "source": [
    "### Visualize using `gmaps`"
   ]
  },
  {
   "cell_type": "code",
   "execution_count": null,
   "metadata": {},
   "outputs": [],
   "source": [
    "!jupyter nbextension enable --py --sys-prefix widgetsnbextension\n",
    "!jupyter nbextension enable --py --sys-prefix gmaps"
   ]
  },
  {
   "cell_type": "code",
   "execution_count": null,
   "metadata": {},
   "outputs": [],
   "source": [
    "import gmaps\n",
    "gmaps.configure(api_key=api_key)"
   ]
  },
  {
   "cell_type": "code",
   "execution_count": null,
   "metadata": {},
   "outputs": [],
   "source": [
    "fig = gmaps.figure(center=(lat, lon), zoom_level=12)\n",
    "fig"
   ]
  },
  {
   "cell_type": "code",
   "execution_count": null,
   "metadata": {},
   "outputs": [],
   "source": []
  }
 ],
 "metadata": {
  "kernelspec": {
   "display_name": "tcss565",
   "language": "python",
   "name": "python3"
  },
  "language_info": {
   "codemirror_mode": {
    "name": "ipython",
    "version": 3
   },
   "file_extension": ".py",
   "mimetype": "text/x-python",
   "name": "python",
   "nbconvert_exporter": "python",
   "pygments_lexer": "ipython3",
   "version": "3.11.5"
  }
 },
 "nbformat": 4,
 "nbformat_minor": 2
}
