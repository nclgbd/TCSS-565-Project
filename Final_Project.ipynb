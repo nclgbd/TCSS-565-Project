{
 "cells": [
  {
   "cell_type": "markdown",
   "metadata": {},
   "source": [
    "# Final Project Demo Submission\n"
   ]
  },
  {
   "cell_type": "code",
   "execution_count": 1,
   "metadata": {},
   "outputs": [],
   "source": [
    "import os\n",
    "import numpy as np\n",
    "import pandas as pd\n",
    "import re\n",
    "import sys\n",
    "import json\n",
    "from sklearn.metrics import DistanceMetric\n",
    "from tqdm import tqdm\n",
    "\n",
    "# GIS imports\n",
    "import geopandas as gpd\n",
    "from shapely.geometry import LineString"
   ]
  },
  {
   "cell_type": "code",
   "execution_count": 8,
   "metadata": {},
   "outputs": [],
   "source": [
    "# constants\n",
    "interval = 4\n",
    "file_path = \"data/train.csv\"\n",
    "sampling_interval = 15"
   ]
  },
  {
   "cell_type": "markdown",
   "metadata": {},
   "source": [
    "## Data preparation and cleaning\n",
    "\n",
    "We filter out any coordinates strings that have less than `2 * interval` coordinates. This is to ensure the trip is long enough to get an accurate measurement.\n"
   ]
  },
  {
   "cell_type": "code",
   "execution_count": 7,
   "metadata": {},
   "outputs": [
    {
     "data": {
      "text/html": [
       "<div>\n",
       "<style scoped>\n",
       "    .dataframe tbody tr th:only-of-type {\n",
       "        vertical-align: middle;\n",
       "    }\n",
       "\n",
       "    .dataframe tbody tr th {\n",
       "        vertical-align: top;\n",
       "    }\n",
       "\n",
       "    .dataframe thead th {\n",
       "        text-align: right;\n",
       "    }\n",
       "</style>\n",
       "<table border=\"1\" class=\"dataframe\">\n",
       "  <thead>\n",
       "    <tr style=\"text-align: right;\">\n",
       "      <th></th>\n",
       "      <th>TRIP_ID</th>\n",
       "      <th>CALL_TYPE</th>\n",
       "      <th>ORIGIN_CALL</th>\n",
       "      <th>ORIGIN_STAND</th>\n",
       "      <th>TAXI_ID</th>\n",
       "      <th>TIMESTAMP</th>\n",
       "      <th>DAY_TYPE</th>\n",
       "      <th>MISSING_DATA</th>\n",
       "      <th>POLYLINE</th>\n",
       "      <th>traj</th>\n",
       "      <th>lines</th>\n",
       "    </tr>\n",
       "  </thead>\n",
       "  <tbody>\n",
       "    <tr>\n",
       "      <th>0</th>\n",
       "      <td>1372636858620000589</td>\n",
       "      <td>C</td>\n",
       "      <td>NaN</td>\n",
       "      <td>NaN</td>\n",
       "      <td>20000589</td>\n",
       "      <td>1372636858</td>\n",
       "      <td>A</td>\n",
       "      <td>False</td>\n",
       "      <td>[[-8.618643,41.141412],[-8.618499,41.141376],[...</td>\n",
       "      <td>[[-8.618643, 41.141412], [-8.618499, 41.141376...</td>\n",
       "      <td>LINESTRING (-8.61864 41.14141, -8.61850 41.141...</td>\n",
       "    </tr>\n",
       "    <tr>\n",
       "      <th>1</th>\n",
       "      <td>1372637303620000596</td>\n",
       "      <td>B</td>\n",
       "      <td>NaN</td>\n",
       "      <td>7.0</td>\n",
       "      <td>20000596</td>\n",
       "      <td>1372637303</td>\n",
       "      <td>A</td>\n",
       "      <td>False</td>\n",
       "      <td>[[-8.639847,41.159826],[-8.640351,41.159871],[...</td>\n",
       "      <td>[[-8.639847, 41.159826], [-8.640351, 41.159871...</td>\n",
       "      <td>LINESTRING (-8.63985 41.15983, -8.64035 41.159...</td>\n",
       "    </tr>\n",
       "    <tr>\n",
       "      <th>2</th>\n",
       "      <td>1372636951620000320</td>\n",
       "      <td>C</td>\n",
       "      <td>NaN</td>\n",
       "      <td>NaN</td>\n",
       "      <td>20000320</td>\n",
       "      <td>1372636951</td>\n",
       "      <td>A</td>\n",
       "      <td>False</td>\n",
       "      <td>[[-8.612964,41.140359],[-8.613378,41.14035],[-...</td>\n",
       "      <td>[[-8.612964, 41.140359], [-8.613378, 41.14035]...</td>\n",
       "      <td>LINESTRING (-8.61296 41.14036, -8.61338 41.140...</td>\n",
       "    </tr>\n",
       "    <tr>\n",
       "      <th>3</th>\n",
       "      <td>1372636854620000520</td>\n",
       "      <td>C</td>\n",
       "      <td>NaN</td>\n",
       "      <td>NaN</td>\n",
       "      <td>20000520</td>\n",
       "      <td>1372636854</td>\n",
       "      <td>A</td>\n",
       "      <td>False</td>\n",
       "      <td>[[-8.574678,41.151951],[-8.574705,41.151942],[...</td>\n",
       "      <td>[[-8.574678, 41.151951], [-8.574705, 41.151942...</td>\n",
       "      <td>LINESTRING (-8.57468 41.15195, -8.57470 41.151...</td>\n",
       "    </tr>\n",
       "    <tr>\n",
       "      <th>4</th>\n",
       "      <td>1372637091620000337</td>\n",
       "      <td>C</td>\n",
       "      <td>NaN</td>\n",
       "      <td>NaN</td>\n",
       "      <td>20000337</td>\n",
       "      <td>1372637091</td>\n",
       "      <td>A</td>\n",
       "      <td>False</td>\n",
       "      <td>[[-8.645994,41.18049],[-8.645949,41.180517],[-...</td>\n",
       "      <td>[[-8.645994, 41.18049], [-8.645949, 41.180517]...</td>\n",
       "      <td>LINESTRING (-8.64599 41.18049, -8.64595 41.180...</td>\n",
       "    </tr>\n",
       "    <tr>\n",
       "      <th>...</th>\n",
       "      <td>...</td>\n",
       "      <td>...</td>\n",
       "      <td>...</td>\n",
       "      <td>...</td>\n",
       "      <td>...</td>\n",
       "      <td>...</td>\n",
       "      <td>...</td>\n",
       "      <td>...</td>\n",
       "      <td>...</td>\n",
       "      <td>...</td>\n",
       "      <td>...</td>\n",
       "    </tr>\n",
       "    <tr>\n",
       "      <th>9995</th>\n",
       "      <td>1372839081620000157</td>\n",
       "      <td>A</td>\n",
       "      <td>2002.0</td>\n",
       "      <td>NaN</td>\n",
       "      <td>20000157</td>\n",
       "      <td>1372839081</td>\n",
       "      <td>A</td>\n",
       "      <td>False</td>\n",
       "      <td>[[-8.66808,41.154651],[-8.668089,41.154651],[-...</td>\n",
       "      <td>[[-8.66808, 41.154651], [-8.668089, 41.154651]...</td>\n",
       "      <td>LINESTRING (-8.66808 41.15465, -8.66809 41.154...</td>\n",
       "    </tr>\n",
       "    <tr>\n",
       "      <th>9996</th>\n",
       "      <td>1372839306620000084</td>\n",
       "      <td>A</td>\n",
       "      <td>2001.0</td>\n",
       "      <td>NaN</td>\n",
       "      <td>20000084</td>\n",
       "      <td>1372839306</td>\n",
       "      <td>A</td>\n",
       "      <td>False</td>\n",
       "      <td>[[-8.583129,41.164731],[-8.583129,41.164785],[...</td>\n",
       "      <td>[[-8.583129, 41.164731], [-8.583129, 41.164785...</td>\n",
       "      <td>LINESTRING (-8.58313 41.16473, -8.58313 41.164...</td>\n",
       "    </tr>\n",
       "    <tr>\n",
       "      <th>9997</th>\n",
       "      <td>1372837509620000467</td>\n",
       "      <td>C</td>\n",
       "      <td>NaN</td>\n",
       "      <td>NaN</td>\n",
       "      <td>20000467</td>\n",
       "      <td>1372837509</td>\n",
       "      <td>A</td>\n",
       "      <td>False</td>\n",
       "      <td>[[-8.600103,41.18274],[-8.599806,41.182722],[-...</td>\n",
       "      <td>[[-8.600103, 41.18274], [-8.599806, 41.182722]...</td>\n",
       "      <td>LINESTRING (-8.60010 41.18274, -8.59981 41.182...</td>\n",
       "    </tr>\n",
       "    <tr>\n",
       "      <th>9998</th>\n",
       "      <td>1372822350620000688</td>\n",
       "      <td>A</td>\n",
       "      <td>53492.0</td>\n",
       "      <td>NaN</td>\n",
       "      <td>20000688</td>\n",
       "      <td>1372822350</td>\n",
       "      <td>A</td>\n",
       "      <td>False</td>\n",
       "      <td>[[-8.5878,41.174568],[-8.587782,41.174595],[-8...</td>\n",
       "      <td>[[-8.5878, 41.174568], [-8.587782, 41.174595],...</td>\n",
       "      <td>LINESTRING (-8.58780 41.17457, -8.58778 41.174...</td>\n",
       "    </tr>\n",
       "    <tr>\n",
       "      <th>9999</th>\n",
       "      <td>1372838111620000104</td>\n",
       "      <td>B</td>\n",
       "      <td>NaN</td>\n",
       "      <td>11.0</td>\n",
       "      <td>20000104</td>\n",
       "      <td>1372838111</td>\n",
       "      <td>A</td>\n",
       "      <td>False</td>\n",
       "      <td>[[-8.613144,41.166774],[-8.613333,41.166675],[...</td>\n",
       "      <td>[[-8.613144, 41.166774], [-8.613333, 41.166675...</td>\n",
       "      <td>LINESTRING (-8.61314 41.16677, -8.61333 41.166...</td>\n",
       "    </tr>\n",
       "  </tbody>\n",
       "</table>\n",
       "<p>9705 rows × 11 columns</p>\n",
       "</div>"
      ],
      "text/plain": [
       "                  TRIP_ID CALL_TYPE  ORIGIN_CALL  ORIGIN_STAND   TAXI_ID  \\\n",
       "0     1372636858620000589         C          NaN           NaN  20000589   \n",
       "1     1372637303620000596         B          NaN           7.0  20000596   \n",
       "2     1372636951620000320         C          NaN           NaN  20000320   \n",
       "3     1372636854620000520         C          NaN           NaN  20000520   \n",
       "4     1372637091620000337         C          NaN           NaN  20000337   \n",
       "...                   ...       ...          ...           ...       ...   \n",
       "9995  1372839081620000157         A       2002.0           NaN  20000157   \n",
       "9996  1372839306620000084         A       2001.0           NaN  20000084   \n",
       "9997  1372837509620000467         C          NaN           NaN  20000467   \n",
       "9998  1372822350620000688         A      53492.0           NaN  20000688   \n",
       "9999  1372838111620000104         B          NaN          11.0  20000104   \n",
       "\n",
       "       TIMESTAMP DAY_TYPE  MISSING_DATA  \\\n",
       "0     1372636858        A         False   \n",
       "1     1372637303        A         False   \n",
       "2     1372636951        A         False   \n",
       "3     1372636854        A         False   \n",
       "4     1372637091        A         False   \n",
       "...          ...      ...           ...   \n",
       "9995  1372839081        A         False   \n",
       "9996  1372839306        A         False   \n",
       "9997  1372837509        A         False   \n",
       "9998  1372822350        A         False   \n",
       "9999  1372838111        A         False   \n",
       "\n",
       "                                               POLYLINE  \\\n",
       "0     [[-8.618643,41.141412],[-8.618499,41.141376],[...   \n",
       "1     [[-8.639847,41.159826],[-8.640351,41.159871],[...   \n",
       "2     [[-8.612964,41.140359],[-8.613378,41.14035],[-...   \n",
       "3     [[-8.574678,41.151951],[-8.574705,41.151942],[...   \n",
       "4     [[-8.645994,41.18049],[-8.645949,41.180517],[-...   \n",
       "...                                                 ...   \n",
       "9995  [[-8.66808,41.154651],[-8.668089,41.154651],[-...   \n",
       "9996  [[-8.583129,41.164731],[-8.583129,41.164785],[...   \n",
       "9997  [[-8.600103,41.18274],[-8.599806,41.182722],[-...   \n",
       "9998  [[-8.5878,41.174568],[-8.587782,41.174595],[-8...   \n",
       "9999  [[-8.613144,41.166774],[-8.613333,41.166675],[...   \n",
       "\n",
       "                                                   traj  \\\n",
       "0     [[-8.618643, 41.141412], [-8.618499, 41.141376...   \n",
       "1     [[-8.639847, 41.159826], [-8.640351, 41.159871...   \n",
       "2     [[-8.612964, 41.140359], [-8.613378, 41.14035]...   \n",
       "3     [[-8.574678, 41.151951], [-8.574705, 41.151942...   \n",
       "4     [[-8.645994, 41.18049], [-8.645949, 41.180517]...   \n",
       "...                                                 ...   \n",
       "9995  [[-8.66808, 41.154651], [-8.668089, 41.154651]...   \n",
       "9996  [[-8.583129, 41.164731], [-8.583129, 41.164785...   \n",
       "9997  [[-8.600103, 41.18274], [-8.599806, 41.182722]...   \n",
       "9998  [[-8.5878, 41.174568], [-8.587782, 41.174595],...   \n",
       "9999  [[-8.613144, 41.166774], [-8.613333, 41.166675...   \n",
       "\n",
       "                                                  lines  \n",
       "0     LINESTRING (-8.61864 41.14141, -8.61850 41.141...  \n",
       "1     LINESTRING (-8.63985 41.15983, -8.64035 41.159...  \n",
       "2     LINESTRING (-8.61296 41.14036, -8.61338 41.140...  \n",
       "3     LINESTRING (-8.57468 41.15195, -8.57470 41.151...  \n",
       "4     LINESTRING (-8.64599 41.18049, -8.64595 41.180...  \n",
       "...                                                 ...  \n",
       "9995  LINESTRING (-8.66808 41.15465, -8.66809 41.154...  \n",
       "9996  LINESTRING (-8.58313 41.16473, -8.58313 41.164...  \n",
       "9997  LINESTRING (-8.60010 41.18274, -8.59981 41.182...  \n",
       "9998  LINESTRING (-8.58780 41.17457, -8.58778 41.174...  \n",
       "9999  LINESTRING (-8.61314 41.16677, -8.61333 41.166...  \n",
       "\n",
       "[9705 rows x 11 columns]"
      ]
     },
     "execution_count": 7,
     "metadata": {},
     "output_type": "execute_result"
    }
   ],
   "source": [
    "def load_data(path: str, nrows=10000):\n",
    "    df = pd.read_csv(path, nrows=nrows)\n",
    "    return df\n",
    "\n",
    "\n",
    "def preprocess_data(df: pd.DataFrame):\n",
    "    def prepare_linestrings(x):\n",
    "        return LineString(x) #, srid=4326)\n",
    "\n",
    "    df[\"traj\"] = json.loads(\"[\" + df.POLYLINE.str.cat(sep=\",\") + \"]\")\n",
    "    df = df[df.traj.str.len() > interval * 2].copy()\n",
    "    df[\"lines\"] = gpd.GeoSeries(df.traj.apply(prepare_linestrings))\n",
    "    gdf = gpd.GeoDataFrame(df, geometry=\"lines\")\n",
    "    return gdf\n",
    "\n",
    "\n",
    "df = load_data(file_path)\n",
    "gdf = preprocess_data(df)\n",
    "gdf"
   ]
  },
  {
   "cell_type": "code",
   "execution_count": 9,
   "metadata": {},
   "outputs": [],
   "source": [
    "from sklearn.metrics import DistanceMetric\n",
    "\n",
    "metric = DistanceMetric.get_metric(\"haversine\")\n",
    "dt = sampling_interval / 3600  # 15 second intervals over the course of 1 hour (3600 seconds)\n",
    "R = 6371  # 6371 is the radius of the earth in kilometers\n",
    "\n",
    "\n",
    "def fit_rational(x, y, w=1):\n",
    "    ws = np.sqrt(w)\n",
    "    (a, b), _, _, _ = np.linalg.lstsq(\n",
    "        np.column_stack([x, -y]) * ws[:, None], x * y * ws, rcond=None\n",
    "    )\n",
    "    return a * x / (x + b), (a, b)\n",
    "\n",
    "\n",
    "def dist_sequence(coords):\n",
    "    n = len(coords)\n",
    "    dist = R * metric.pairwise(np.radians(coords)).ravel()\n",
    "    offsets = (np.arange(n)[:, None] - np.arange(n)).ravel()\n",
    "    return pd.DataFrame(\n",
    "        [offsets[offsets > 0] * dt * 60, dist[offsets > 0]],\n",
    "        index=[\"time_offset\", \"distance\"],\n",
    "    ).T\n",
    "\n",
    "\n",
    "dist_ungrouped = pd.concat(gdf.traj.apply(dist_sequence).values).set_index(\"time_offset\")\n",
    "dists = np.sqrt((dist_ungrouped**2).groupby(\"time_offset\").mean() / 2)\n",
    "thresh = -2\n",
    "dists[\"curve\"], coeffs = fit_rational(\n",
    "    dists.index.values,\n",
    "    dists.distance.values,\n",
    "    ((1 + np.arange(len(dists))) / (1 + len(dists))) ** -3,\n",
    ")\n",
    "\n",
    "\n",
    "def likelihood(coords, ab):\n",
    "    n = len(coords)\n",
    "    a, b = coeffs\n",
    "    dist = R * metric.pairwise(np.radians(coords))\n",
    "    time = dt * 60 * np.abs(np.arange(n)[:, None] - np.arange(n))\n",
    "    sigma = a * time / (time + b) + np.eye(n)\n",
    "    lr = -0.5 * (dist**2 / sigma**2).sum(axis=1)\n",
    "    return lr\n",
    "\n",
    "\n",
    "def norm_lr(lr):\n",
    "    return (lr - lr.max()) / len(lr)\n",
    "\n",
    "\n",
    "bad_routes = gdf.traj.apply(\n",
    "    lambda t: (norm_lr(likelihood(t, coeffs)) < thresh).any()\n",
    ").values"
   ]
  },
  {
   "cell_type": "code",
   "execution_count": 10,
   "metadata": {},
   "outputs": [
    {
     "data": {
      "text/html": [
       "<div>\n",
       "<style scoped>\n",
       "    .dataframe tbody tr th:only-of-type {\n",
       "        vertical-align: middle;\n",
       "    }\n",
       "\n",
       "    .dataframe tbody tr th {\n",
       "        vertical-align: top;\n",
       "    }\n",
       "\n",
       "    .dataframe thead th {\n",
       "        text-align: right;\n",
       "    }\n",
       "</style>\n",
       "<table border=\"1\" class=\"dataframe\">\n",
       "  <thead>\n",
       "    <tr style=\"text-align: right;\">\n",
       "      <th></th>\n",
       "      <th>TRIP_ID</th>\n",
       "      <th>CALL_TYPE</th>\n",
       "      <th>ORIGIN_CALL</th>\n",
       "      <th>ORIGIN_STAND</th>\n",
       "      <th>TAXI_ID</th>\n",
       "      <th>TIMESTAMP</th>\n",
       "      <th>DAY_TYPE</th>\n",
       "      <th>MISSING_DATA</th>\n",
       "      <th>POLYLINE</th>\n",
       "      <th>traj</th>\n",
       "      <th>lines</th>\n",
       "    </tr>\n",
       "  </thead>\n",
       "  <tbody>\n",
       "    <tr>\n",
       "      <th>0</th>\n",
       "      <td>1372636858620000589</td>\n",
       "      <td>C</td>\n",
       "      <td>NaN</td>\n",
       "      <td>NaN</td>\n",
       "      <td>20000589</td>\n",
       "      <td>1372636858</td>\n",
       "      <td>A</td>\n",
       "      <td>False</td>\n",
       "      <td>[[-8.618643,41.141412],[-8.618499,41.141376],[...</td>\n",
       "      <td>[[-8.618643, 41.141412], [-8.618499, 41.141376...</td>\n",
       "      <td>LINESTRING (-8.61864 41.14141, -8.61850 41.141...</td>\n",
       "    </tr>\n",
       "    <tr>\n",
       "      <th>1</th>\n",
       "      <td>1372637303620000596</td>\n",
       "      <td>B</td>\n",
       "      <td>NaN</td>\n",
       "      <td>7.0</td>\n",
       "      <td>20000596</td>\n",
       "      <td>1372637303</td>\n",
       "      <td>A</td>\n",
       "      <td>False</td>\n",
       "      <td>[[-8.639847,41.159826],[-8.640351,41.159871],[...</td>\n",
       "      <td>[[-8.639847, 41.159826], [-8.640351, 41.159871...</td>\n",
       "      <td>LINESTRING (-8.63985 41.15983, -8.64035 41.159...</td>\n",
       "    </tr>\n",
       "    <tr>\n",
       "      <th>3</th>\n",
       "      <td>1372636854620000520</td>\n",
       "      <td>C</td>\n",
       "      <td>NaN</td>\n",
       "      <td>NaN</td>\n",
       "      <td>20000520</td>\n",
       "      <td>1372636854</td>\n",
       "      <td>A</td>\n",
       "      <td>False</td>\n",
       "      <td>[[-8.574678,41.151951],[-8.574705,41.151942],[...</td>\n",
       "      <td>[[-8.574678, 41.151951], [-8.574705, 41.151942...</td>\n",
       "      <td>LINESTRING (-8.57468 41.15195, -8.57470 41.151...</td>\n",
       "    </tr>\n",
       "    <tr>\n",
       "      <th>4</th>\n",
       "      <td>1372637091620000337</td>\n",
       "      <td>C</td>\n",
       "      <td>NaN</td>\n",
       "      <td>NaN</td>\n",
       "      <td>20000337</td>\n",
       "      <td>1372637091</td>\n",
       "      <td>A</td>\n",
       "      <td>False</td>\n",
       "      <td>[[-8.645994,41.18049],[-8.645949,41.180517],[-...</td>\n",
       "      <td>[[-8.645994, 41.18049], [-8.645949, 41.180517]...</td>\n",
       "      <td>LINESTRING (-8.64599 41.18049, -8.64595 41.180...</td>\n",
       "    </tr>\n",
       "    <tr>\n",
       "      <th>5</th>\n",
       "      <td>1372636965620000231</td>\n",
       "      <td>C</td>\n",
       "      <td>NaN</td>\n",
       "      <td>NaN</td>\n",
       "      <td>20000231</td>\n",
       "      <td>1372636965</td>\n",
       "      <td>A</td>\n",
       "      <td>False</td>\n",
       "      <td>[[-8.615502,41.140674],[-8.614854,41.140926],[...</td>\n",
       "      <td>[[-8.615502, 41.140674], [-8.614854, 41.140926...</td>\n",
       "      <td>LINESTRING (-8.61550 41.14067, -8.61485 41.140...</td>\n",
       "    </tr>\n",
       "    <tr>\n",
       "      <th>...</th>\n",
       "      <td>...</td>\n",
       "      <td>...</td>\n",
       "      <td>...</td>\n",
       "      <td>...</td>\n",
       "      <td>...</td>\n",
       "      <td>...</td>\n",
       "      <td>...</td>\n",
       "      <td>...</td>\n",
       "      <td>...</td>\n",
       "      <td>...</td>\n",
       "      <td>...</td>\n",
       "    </tr>\n",
       "    <tr>\n",
       "      <th>9995</th>\n",
       "      <td>1372839081620000157</td>\n",
       "      <td>A</td>\n",
       "      <td>2002.0</td>\n",
       "      <td>NaN</td>\n",
       "      <td>20000157</td>\n",
       "      <td>1372839081</td>\n",
       "      <td>A</td>\n",
       "      <td>False</td>\n",
       "      <td>[[-8.66808,41.154651],[-8.668089,41.154651],[-...</td>\n",
       "      <td>[[-8.66808, 41.154651], [-8.668089, 41.154651]...</td>\n",
       "      <td>LINESTRING (-8.66808 41.15465, -8.66809 41.154...</td>\n",
       "    </tr>\n",
       "    <tr>\n",
       "      <th>9996</th>\n",
       "      <td>1372839306620000084</td>\n",
       "      <td>A</td>\n",
       "      <td>2001.0</td>\n",
       "      <td>NaN</td>\n",
       "      <td>20000084</td>\n",
       "      <td>1372839306</td>\n",
       "      <td>A</td>\n",
       "      <td>False</td>\n",
       "      <td>[[-8.583129,41.164731],[-8.583129,41.164785],[...</td>\n",
       "      <td>[[-8.583129, 41.164731], [-8.583129, 41.164785...</td>\n",
       "      <td>LINESTRING (-8.58313 41.16473, -8.58313 41.164...</td>\n",
       "    </tr>\n",
       "    <tr>\n",
       "      <th>9997</th>\n",
       "      <td>1372837509620000467</td>\n",
       "      <td>C</td>\n",
       "      <td>NaN</td>\n",
       "      <td>NaN</td>\n",
       "      <td>20000467</td>\n",
       "      <td>1372837509</td>\n",
       "      <td>A</td>\n",
       "      <td>False</td>\n",
       "      <td>[[-8.600103,41.18274],[-8.599806,41.182722],[-...</td>\n",
       "      <td>[[-8.600103, 41.18274], [-8.599806, 41.182722]...</td>\n",
       "      <td>LINESTRING (-8.60010 41.18274, -8.59981 41.182...</td>\n",
       "    </tr>\n",
       "    <tr>\n",
       "      <th>9998</th>\n",
       "      <td>1372822350620000688</td>\n",
       "      <td>A</td>\n",
       "      <td>53492.0</td>\n",
       "      <td>NaN</td>\n",
       "      <td>20000688</td>\n",
       "      <td>1372822350</td>\n",
       "      <td>A</td>\n",
       "      <td>False</td>\n",
       "      <td>[[-8.5878,41.174568],[-8.587782,41.174595],[-8...</td>\n",
       "      <td>[[-8.5878, 41.174568], [-8.587782, 41.174595],...</td>\n",
       "      <td>LINESTRING (-8.58780 41.17457, -8.58778 41.174...</td>\n",
       "    </tr>\n",
       "    <tr>\n",
       "      <th>9999</th>\n",
       "      <td>1372838111620000104</td>\n",
       "      <td>B</td>\n",
       "      <td>NaN</td>\n",
       "      <td>11.0</td>\n",
       "      <td>20000104</td>\n",
       "      <td>1372838111</td>\n",
       "      <td>A</td>\n",
       "      <td>False</td>\n",
       "      <td>[[-8.613144,41.166774],[-8.613333,41.166675],[...</td>\n",
       "      <td>[[-8.613144, 41.166774], [-8.613333, 41.166675...</td>\n",
       "      <td>LINESTRING (-8.61314 41.16677, -8.61333 41.166...</td>\n",
       "    </tr>\n",
       "  </tbody>\n",
       "</table>\n",
       "<p>9399 rows × 11 columns</p>\n",
       "</div>"
      ],
      "text/plain": [
       "                  TRIP_ID CALL_TYPE  ORIGIN_CALL  ORIGIN_STAND   TAXI_ID  \\\n",
       "0     1372636858620000589         C          NaN           NaN  20000589   \n",
       "1     1372637303620000596         B          NaN           7.0  20000596   \n",
       "3     1372636854620000520         C          NaN           NaN  20000520   \n",
       "4     1372637091620000337         C          NaN           NaN  20000337   \n",
       "5     1372636965620000231         C          NaN           NaN  20000231   \n",
       "...                   ...       ...          ...           ...       ...   \n",
       "9995  1372839081620000157         A       2002.0           NaN  20000157   \n",
       "9996  1372839306620000084         A       2001.0           NaN  20000084   \n",
       "9997  1372837509620000467         C          NaN           NaN  20000467   \n",
       "9998  1372822350620000688         A      53492.0           NaN  20000688   \n",
       "9999  1372838111620000104         B          NaN          11.0  20000104   \n",
       "\n",
       "       TIMESTAMP DAY_TYPE  MISSING_DATA  \\\n",
       "0     1372636858        A         False   \n",
       "1     1372637303        A         False   \n",
       "3     1372636854        A         False   \n",
       "4     1372637091        A         False   \n",
       "5     1372636965        A         False   \n",
       "...          ...      ...           ...   \n",
       "9995  1372839081        A         False   \n",
       "9996  1372839306        A         False   \n",
       "9997  1372837509        A         False   \n",
       "9998  1372822350        A         False   \n",
       "9999  1372838111        A         False   \n",
       "\n",
       "                                               POLYLINE  \\\n",
       "0     [[-8.618643,41.141412],[-8.618499,41.141376],[...   \n",
       "1     [[-8.639847,41.159826],[-8.640351,41.159871],[...   \n",
       "3     [[-8.574678,41.151951],[-8.574705,41.151942],[...   \n",
       "4     [[-8.645994,41.18049],[-8.645949,41.180517],[-...   \n",
       "5     [[-8.615502,41.140674],[-8.614854,41.140926],[...   \n",
       "...                                                 ...   \n",
       "9995  [[-8.66808,41.154651],[-8.668089,41.154651],[-...   \n",
       "9996  [[-8.583129,41.164731],[-8.583129,41.164785],[...   \n",
       "9997  [[-8.600103,41.18274],[-8.599806,41.182722],[-...   \n",
       "9998  [[-8.5878,41.174568],[-8.587782,41.174595],[-8...   \n",
       "9999  [[-8.613144,41.166774],[-8.613333,41.166675],[...   \n",
       "\n",
       "                                                   traj  \\\n",
       "0     [[-8.618643, 41.141412], [-8.618499, 41.141376...   \n",
       "1     [[-8.639847, 41.159826], [-8.640351, 41.159871...   \n",
       "3     [[-8.574678, 41.151951], [-8.574705, 41.151942...   \n",
       "4     [[-8.645994, 41.18049], [-8.645949, 41.180517]...   \n",
       "5     [[-8.615502, 41.140674], [-8.614854, 41.140926...   \n",
       "...                                                 ...   \n",
       "9995  [[-8.66808, 41.154651], [-8.668089, 41.154651]...   \n",
       "9996  [[-8.583129, 41.164731], [-8.583129, 41.164785...   \n",
       "9997  [[-8.600103, 41.18274], [-8.599806, 41.182722]...   \n",
       "9998  [[-8.5878, 41.174568], [-8.587782, 41.174595],...   \n",
       "9999  [[-8.613144, 41.166774], [-8.613333, 41.166675...   \n",
       "\n",
       "                                                  lines  \n",
       "0     LINESTRING (-8.61864 41.14141, -8.61850 41.141...  \n",
       "1     LINESTRING (-8.63985 41.15983, -8.64035 41.159...  \n",
       "3     LINESTRING (-8.57468 41.15195, -8.57470 41.151...  \n",
       "4     LINESTRING (-8.64599 41.18049, -8.64595 41.180...  \n",
       "5     LINESTRING (-8.61550 41.14067, -8.61485 41.140...  \n",
       "...                                                 ...  \n",
       "9995  LINESTRING (-8.66808 41.15465, -8.66809 41.154...  \n",
       "9996  LINESTRING (-8.58313 41.16473, -8.58313 41.164...  \n",
       "9997  LINESTRING (-8.60010 41.18274, -8.59981 41.182...  \n",
       "9998  LINESTRING (-8.58780 41.17457, -8.58778 41.174...  \n",
       "9999  LINESTRING (-8.61314 41.16677, -8.61333 41.166...  \n",
       "\n",
       "[9399 rows x 11 columns]"
      ]
     },
     "execution_count": 10,
     "metadata": {},
     "output_type": "execute_result"
    }
   ],
   "source": [
    "df = gdf[~bad_routes]\n",
    "df"
   ]
  },
  {
   "cell_type": "code",
   "execution_count": 137,
   "metadata": {},
   "outputs": [],
   "source": [
    "n = 20\n",
    "random_state = 21"
   ]
  },
  {
   "cell_type": "code",
   "execution_count": 138,
   "metadata": {},
   "outputs": [
    {
     "data": {
      "image/png": "[encoded data removed]",
      "text/plain": [
       "<Figure size 640x480 with 1 Axes>"
      ]
     },
     "metadata": {},
     "output_type": "display_data"
    }
   ],
   "source": [
    "taxi_train_data = df.copy()\n",
    "taxi_train_data[\"lines\"].plot();"
   ]
  },
  {
   "cell_type": "code",
   "execution_count": 147,
   "metadata": {},
   "outputs": [
    {
     "data": {
      "image/svg+xml": [
       "<svg xmlns=\"http://www.w3.org/2000/svg\" xmlns:xlink=\"http://www.w3.org/1999/xlink\" width=\"100.0\" height=\"100.0\" viewBox=\"-8.60967432 41.14662768 0.04458564000000109 0.021815639999999803\" preserveAspectRatio=\"xMinYMin meet\"><g transform=\"matrix(1,0,0,-1,0,82.315071)\"><polyline fill=\"none\" stroke=\"#66cc99\" stroke-width=\"0.0008917128000000219\" points=\"-8.608005,41.148279 -8.608023,41.14863 -8.607852,41.148612 -8.607339,41.148702 -8.607249,41.149692 -8.607042,41.1507 -8.606907,41.150799 -8.606844,41.15079 -8.606385,41.151051 -8.60607,41.150997 -8.605512,41.150979 -8.604585,41.151006 -8.603091,41.150997 -8.602443,41.153157 -8.602479,41.153499 -8.602902,41.155479 -8.602047,41.157279 -8.6013,41.158953 -8.60121,41.159205 -8.601201,41.159205 -8.601021,41.159403 -8.59941,41.159061 -8.598042,41.159187 -8.597853,41.159223 -8.597439,41.159322 -8.596296,41.159547 -8.594586,41.160087 -8.593425,41.160564 -8.592534,41.160807 -8.592012,41.161014 -8.590959,41.162301 -8.590338,41.163021 -8.589843,41.163543 -8.589672,41.163714 -8.58906,41.164677 -8.588952,41.165028 -8.588925,41.165145 -8.589015,41.165181 -8.589123,41.165091 -8.589222,41.165055 -8.588943,41.165082 -8.588898,41.165073 -8.588934,41.165037 -8.588916,41.1651 -8.589096,41.165154 -8.589042,41.165154 -8.588961,41.165154 -8.588952,41.165136 -8.588961,41.165118 -8.588988,41.165109 -8.589051,41.165082 -8.589096,41.165091 -8.589024,41.165262 -8.588637,41.166072 -8.587044,41.166792 -8.583876,41.166333 -8.582184,41.164137 -8.581068,41.163462 -8.579214,41.164407 -8.577045,41.165289 -8.575704,41.163138 -8.574264,41.161041 -8.57331,41.160087 -8.571906,41.158674 -8.572113,41.156487 -8.569422,41.155749 -8.567937,41.154669 -8.568135,41.153589 -8.569368,41.153364 -8.568882,41.152284 -8.568837,41.152158 -8.568801,41.152131 -8.568774,41.152122 -8.568747,41.152104 -8.568783,41.152122 -8.568783,41.152122 -8.568801,41.152131 -8.568783,41.152131 -8.568765,41.152131 -8.568774,41.152131 -8.568747,41.152122 -8.568765,41.15214 -8.568783,41.152149 -8.568765,41.152131 -8.568765,41.152149 -8.568747,41.152158 -8.568756,41.152185 -8.568747,41.152185 -8.568765,41.152203 -8.568774,41.152203 -8.568774,41.152203 -8.568756,41.152185 -8.568468,41.152284 -8.566938,41.152662 -8.56674,41.152482 -8.566794,41.152446\" opacity=\"0.8\" /></g></svg>"
      ],
      "text/plain": [
       "<LINESTRING (-8.608 41.148, -8.608 41.149, -8.608 41.149, -8.607 41.149, -8....>"
      ]
     },
     "execution_count": 147,
     "metadata": {},
     "output_type": "execute_result"
    }
   ],
   "source": [
    "s = taxi_train_data.sample()[\"lines\"].values[0]\n",
    "s"
   ]
  },
  {
   "cell_type": "markdown",
   "metadata": {},
   "source": [
    "Here, we grab the last 4 GPS coordinates from the `LineString`. This represents the end of a taxi trip, where a taxi is presumably parking to let a passenger out of their car. We recognize that this is not a perfect solution, as a taxi could be parking for other reasons, but we believe this is a good enough approximation for our purposes."
   ]
  },
  {
   "cell_type": "code",
   "execution_count": 148,
   "metadata": {},
   "outputs": [
    {
     "data": {
      "image/svg+xml": [
       "<svg xmlns=\"http://www.w3.org/2000/svg\" xmlns:xlink=\"http://www.w3.org/1999/xlink\" width=\"100.0\" height=\"100.0\" viewBox=\"-8.568537119999998 41.15221488 0.0018662399999982426 0.0005162399999960599\" preserveAspectRatio=\"xMinYMin meet\"><g transform=\"matrix(1,0,0,-1,0,82.304946)\"><polyline fill=\"none\" stroke=\"#66cc99\" stroke-width=\"3.732479999996485e-05\" points=\"-8.568468,41.152284 -8.566938,41.152662 -8.56674,41.152482 -8.566794,41.152446\" opacity=\"0.8\" /></g></svg>"
      ],
      "text/plain": [
       "<LINESTRING (-8.568 41.152, -8.567 41.153, -8.567 41.152, -8.567 41.152)>"
      ]
     },
     "execution_count": 148,
     "metadata": {},
     "output_type": "execute_result"
    }
   ],
   "source": [
    "lat, lon = s.coords.xy\n",
    "list(zip(lat, lon))[-4:]\n",
    "vis = LineString(list(zip(lat, lon))[-4:])\n",
    "vis"
   ]
  },
  {
   "cell_type": "markdown",
   "metadata": {},
   "source": [
    "We calculate the distance by using the `LineString` object"
   ]
  },
  {
   "cell_type": "code",
   "execution_count": 150,
   "metadata": {},
   "outputs": [
    {
     "data": {
      "text/plain": [
       "7163    8.495569e-16\n",
       "dtype: float64"
      ]
     },
     "execution_count": 150,
     "metadata": {},
     "output_type": "execute_result"
    }
   ],
   "source": [
    "s.distance(s.interpolate(0.5, normalized=True))"
   ]
  },
  {
   "cell_type": "code",
   "execution_count": 153,
   "metadata": {},
   "outputs": [
    {
     "name": "stderr",
     "output_type": "stream",
     "text": [
      "c:\\Users\\nicol\\Anaconda3\\envs\\tcss565\\Lib\\site-packages\\shapely\\measurement.py:72: RuntimeWarning: invalid value encountered in distance\n",
      "  return lib.distance(a, b, **kwargs)\n"
     ]
    },
    {
     "data": {
      "text/html": [
       "<div>\n",
       "<style scoped>\n",
       "    .dataframe tbody tr th:only-of-type {\n",
       "        vertical-align: middle;\n",
       "    }\n",
       "\n",
       "    .dataframe tbody tr th {\n",
       "        vertical-align: top;\n",
       "    }\n",
       "\n",
       "    .dataframe thead th {\n",
       "        text-align: right;\n",
       "    }\n",
       "</style>\n",
       "<table border=\"1\" class=\"dataframe\">\n",
       "  <thead>\n",
       "    <tr style=\"text-align: right;\">\n",
       "      <th></th>\n",
       "      <th>TRIP_ID</th>\n",
       "      <th>CALL_TYPE</th>\n",
       "      <th>ORIGIN_CALL</th>\n",
       "      <th>ORIGIN_STAND</th>\n",
       "      <th>TAXI_ID</th>\n",
       "      <th>TIMESTAMP</th>\n",
       "      <th>DAY_TYPE</th>\n",
       "      <th>MISSING_DATA</th>\n",
       "      <th>POLYLINE</th>\n",
       "      <th>traj</th>\n",
       "      <th>lines</th>\n",
       "      <th>distances</th>\n",
       "    </tr>\n",
       "  </thead>\n",
       "  <tbody>\n",
       "    <tr>\n",
       "      <th>0</th>\n",
       "      <td>1372636858620000589</td>\n",
       "      <td>C</td>\n",
       "      <td>NaN</td>\n",
       "      <td>NaN</td>\n",
       "      <td>20000589</td>\n",
       "      <td>1372636858</td>\n",
       "      <td>A</td>\n",
       "      <td>False</td>\n",
       "      <td>[[-8.618643,41.141412],[-8.618499,41.141376],[...</td>\n",
       "      <td>[[-8.618643, 41.141412], [-8.618499, 41.141376...</td>\n",
       "      <td>LINESTRING (-8.61864 41.14141, -8.61850 41.141...</td>\n",
       "      <td>1.390117e-15</td>\n",
       "    </tr>\n",
       "    <tr>\n",
       "      <th>1</th>\n",
       "      <td>1372637303620000596</td>\n",
       "      <td>B</td>\n",
       "      <td>NaN</td>\n",
       "      <td>7.0</td>\n",
       "      <td>20000596</td>\n",
       "      <td>1372637303</td>\n",
       "      <td>A</td>\n",
       "      <td>False</td>\n",
       "      <td>[[-8.639847,41.159826],[-8.640351,41.159871],[...</td>\n",
       "      <td>[[-8.639847, 41.159826], [-8.640351, 41.159871...</td>\n",
       "      <td>LINESTRING (-8.63985 41.15983, -8.64035 41.159...</td>\n",
       "      <td>2.135339e-15</td>\n",
       "    </tr>\n",
       "    <tr>\n",
       "      <th>3</th>\n",
       "      <td>1372636854620000520</td>\n",
       "      <td>C</td>\n",
       "      <td>NaN</td>\n",
       "      <td>NaN</td>\n",
       "      <td>20000520</td>\n",
       "      <td>1372636854</td>\n",
       "      <td>A</td>\n",
       "      <td>False</td>\n",
       "      <td>[[-8.574678,41.151951],[-8.574705,41.151942],[...</td>\n",
       "      <td>[[-8.574678, 41.151951], [-8.574705, 41.151942...</td>\n",
       "      <td>LINESTRING (-8.57468 41.15195, -8.57470 41.151...</td>\n",
       "      <td>1.331680e-15</td>\n",
       "    </tr>\n",
       "    <tr>\n",
       "      <th>4</th>\n",
       "      <td>1372637091620000337</td>\n",
       "      <td>C</td>\n",
       "      <td>NaN</td>\n",
       "      <td>NaN</td>\n",
       "      <td>20000337</td>\n",
       "      <td>1372637091</td>\n",
       "      <td>A</td>\n",
       "      <td>False</td>\n",
       "      <td>[[-8.645994,41.18049],[-8.645949,41.180517],[-...</td>\n",
       "      <td>[[-8.645994, 41.18049], [-8.645949, 41.180517]...</td>\n",
       "      <td>LINESTRING (-8.64599 41.18049, -8.64595 41.180...</td>\n",
       "      <td>2.006503e-15</td>\n",
       "    </tr>\n",
       "    <tr>\n",
       "      <th>5</th>\n",
       "      <td>1372636965620000231</td>\n",
       "      <td>C</td>\n",
       "      <td>NaN</td>\n",
       "      <td>NaN</td>\n",
       "      <td>20000231</td>\n",
       "      <td>1372636965</td>\n",
       "      <td>A</td>\n",
       "      <td>False</td>\n",
       "      <td>[[-8.615502,41.140674],[-8.614854,41.140926],[...</td>\n",
       "      <td>[[-8.615502, 41.140674], [-8.614854, 41.140926...</td>\n",
       "      <td>LINESTRING (-8.61550 41.14067, -8.61485 41.140...</td>\n",
       "      <td>2.209443e-15</td>\n",
       "    </tr>\n",
       "  </tbody>\n",
       "</table>\n",
       "</div>"
      ],
      "text/plain": [
       "               TRIP_ID CALL_TYPE  ORIGIN_CALL  ORIGIN_STAND   TAXI_ID  \\\n",
       "0  1372636858620000589         C          NaN           NaN  20000589   \n",
       "1  1372637303620000596         B          NaN           7.0  20000596   \n",
       "3  1372636854620000520         C          NaN           NaN  20000520   \n",
       "4  1372637091620000337         C          NaN           NaN  20000337   \n",
       "5  1372636965620000231         C          NaN           NaN  20000231   \n",
       "\n",
       "    TIMESTAMP DAY_TYPE  MISSING_DATA  \\\n",
       "0  1372636858        A         False   \n",
       "1  1372637303        A         False   \n",
       "3  1372636854        A         False   \n",
       "4  1372637091        A         False   \n",
       "5  1372636965        A         False   \n",
       "\n",
       "                                            POLYLINE  \\\n",
       "0  [[-8.618643,41.141412],[-8.618499,41.141376],[...   \n",
       "1  [[-8.639847,41.159826],[-8.640351,41.159871],[...   \n",
       "3  [[-8.574678,41.151951],[-8.574705,41.151942],[...   \n",
       "4  [[-8.645994,41.18049],[-8.645949,41.180517],[-...   \n",
       "5  [[-8.615502,41.140674],[-8.614854,41.140926],[...   \n",
       "\n",
       "                                                traj  \\\n",
       "0  [[-8.618643, 41.141412], [-8.618499, 41.141376...   \n",
       "1  [[-8.639847, 41.159826], [-8.640351, 41.159871...   \n",
       "3  [[-8.574678, 41.151951], [-8.574705, 41.151942...   \n",
       "4  [[-8.645994, 41.18049], [-8.645949, 41.180517]...   \n",
       "5  [[-8.615502, 41.140674], [-8.614854, 41.140926...   \n",
       "\n",
       "                                               lines     distances  \n",
       "0  LINESTRING (-8.61864 41.14141, -8.61850 41.141...  1.390117e-15  \n",
       "1  LINESTRING (-8.63985 41.15983, -8.64035 41.159...  2.135339e-15  \n",
       "3  LINESTRING (-8.57468 41.15195, -8.57470 41.151...  1.331680e-15  \n",
       "4  LINESTRING (-8.64599 41.18049, -8.64595 41.180...  2.006503e-15  \n",
       "5  LINESTRING (-8.61550 41.14067, -8.61485 41.140...  2.209443e-15  "
      ]
     },
     "execution_count": 153,
     "metadata": {},
     "output_type": "execute_result"
    }
   ],
   "source": [
    "taxi_train_data[\"distances\"] = taxi_train_data[\"lines\"].apply(lambda x: x.distance(x.interpolate(0.5, normalized=True)))\n",
    "taxi_train_data = taxi_train_data[taxi_train_data[\"distances\"].notnull()]\n",
    "taxi_train_data.head()"
   ]
  },
  {
   "cell_type": "markdown",
   "metadata": {},
   "source": [
    "We'll define the dataset by taking the last 4 timesteps of the data as an indication of \"looking for parking,\" and then another non-overlapping sample from the same timeseries of 4 timesteps is used for an indication of \"not looking for parking.\""
   ]
  },
  {
   "cell_type": "code",
   "execution_count": 154,
   "metadata": {},
   "outputs": [],
   "source": [
    "interval = 4\n",
    "train_index = taxi_train_data.index"
   ]
  },
  {
   "cell_type": "code",
   "execution_count": 155,
   "metadata": {},
   "outputs": [
    {
     "data": {
      "text/html": [
       "<div>\n",
       "<style scoped>\n",
       "    .dataframe tbody tr th:only-of-type {\n",
       "        vertical-align: middle;\n",
       "    }\n",
       "\n",
       "    .dataframe tbody tr th {\n",
       "        vertical-align: top;\n",
       "    }\n",
       "\n",
       "    .dataframe thead th {\n",
       "        text-align: right;\n",
       "    }\n",
       "</style>\n",
       "<table border=\"1\" class=\"dataframe\">\n",
       "  <thead>\n",
       "    <tr style=\"text-align: right;\">\n",
       "      <th></th>\n",
       "      <th>TRIP_ID</th>\n",
       "      <th>CALL_TYPE</th>\n",
       "      <th>ORIGIN_CALL</th>\n",
       "      <th>ORIGIN_STAND</th>\n",
       "      <th>TAXI_ID</th>\n",
       "      <th>TIMESTAMP</th>\n",
       "      <th>DAY_TYPE</th>\n",
       "      <th>MISSING_DATA</th>\n",
       "      <th>POLYLINE</th>\n",
       "      <th>traj</th>\n",
       "      <th>lines</th>\n",
       "      <th>distances</th>\n",
       "    </tr>\n",
       "  </thead>\n",
       "  <tbody>\n",
       "    <tr>\n",
       "      <th>0</th>\n",
       "      <td>1372636858620000589</td>\n",
       "      <td>C</td>\n",
       "      <td>NaN</td>\n",
       "      <td>NaN</td>\n",
       "      <td>20000589</td>\n",
       "      <td>1372636858</td>\n",
       "      <td>A</td>\n",
       "      <td>False</td>\n",
       "      <td>[[-8.618643,41.141412],[-8.618499,41.141376],[...</td>\n",
       "      <td>[[-8.618643, 41.141412], [-8.618499, 41.141376...</td>\n",
       "      <td>LINESTRING (-8.61864 41.14141, -8.61850 41.141...</td>\n",
       "      <td>1.390117e-15</td>\n",
       "    </tr>\n",
       "    <tr>\n",
       "      <th>1</th>\n",
       "      <td>1372637303620000596</td>\n",
       "      <td>B</td>\n",
       "      <td>NaN</td>\n",
       "      <td>7.0</td>\n",
       "      <td>20000596</td>\n",
       "      <td>1372637303</td>\n",
       "      <td>A</td>\n",
       "      <td>False</td>\n",
       "      <td>[[-8.639847,41.159826],[-8.640351,41.159871],[...</td>\n",
       "      <td>[[-8.639847, 41.159826], [-8.640351, 41.159871...</td>\n",
       "      <td>LINESTRING (-8.63985 41.15983, -8.64035 41.159...</td>\n",
       "      <td>2.135339e-15</td>\n",
       "    </tr>\n",
       "    <tr>\n",
       "      <th>3</th>\n",
       "      <td>1372636854620000520</td>\n",
       "      <td>C</td>\n",
       "      <td>NaN</td>\n",
       "      <td>NaN</td>\n",
       "      <td>20000520</td>\n",
       "      <td>1372636854</td>\n",
       "      <td>A</td>\n",
       "      <td>False</td>\n",
       "      <td>[[-8.574678,41.151951],[-8.574705,41.151942],[...</td>\n",
       "      <td>[[-8.574678, 41.151951], [-8.574705, 41.151942...</td>\n",
       "      <td>LINESTRING (-8.57468 41.15195, -8.57470 41.151...</td>\n",
       "      <td>1.331680e-15</td>\n",
       "    </tr>\n",
       "    <tr>\n",
       "      <th>4</th>\n",
       "      <td>1372637091620000337</td>\n",
       "      <td>C</td>\n",
       "      <td>NaN</td>\n",
       "      <td>NaN</td>\n",
       "      <td>20000337</td>\n",
       "      <td>1372637091</td>\n",
       "      <td>A</td>\n",
       "      <td>False</td>\n",
       "      <td>[[-8.645994,41.18049],[-8.645949,41.180517],[-...</td>\n",
       "      <td>[[-8.645994, 41.18049], [-8.645949, 41.180517]...</td>\n",
       "      <td>LINESTRING (-8.64599 41.18049, -8.64595 41.180...</td>\n",
       "      <td>2.006503e-15</td>\n",
       "    </tr>\n",
       "    <tr>\n",
       "      <th>5</th>\n",
       "      <td>1372636965620000231</td>\n",
       "      <td>C</td>\n",
       "      <td>NaN</td>\n",
       "      <td>NaN</td>\n",
       "      <td>20000231</td>\n",
       "      <td>1372636965</td>\n",
       "      <td>A</td>\n",
       "      <td>False</td>\n",
       "      <td>[[-8.615502,41.140674],[-8.614854,41.140926],[...</td>\n",
       "      <td>[[-8.615502, 41.140674], [-8.614854, 41.140926...</td>\n",
       "      <td>LINESTRING (-8.61550 41.14067, -8.61485 41.140...</td>\n",
       "      <td>2.209443e-15</td>\n",
       "    </tr>\n",
       "  </tbody>\n",
       "</table>\n",
       "</div>"
      ],
      "text/plain": [
       "               TRIP_ID CALL_TYPE  ORIGIN_CALL  ORIGIN_STAND   TAXI_ID  \\\n",
       "0  1372636858620000589         C          NaN           NaN  20000589   \n",
       "1  1372637303620000596         B          NaN           7.0  20000596   \n",
       "3  1372636854620000520         C          NaN           NaN  20000520   \n",
       "4  1372637091620000337         C          NaN           NaN  20000337   \n",
       "5  1372636965620000231         C          NaN           NaN  20000231   \n",
       "\n",
       "    TIMESTAMP DAY_TYPE  MISSING_DATA  \\\n",
       "0  1372636858        A         False   \n",
       "1  1372637303        A         False   \n",
       "3  1372636854        A         False   \n",
       "4  1372637091        A         False   \n",
       "5  1372636965        A         False   \n",
       "\n",
       "                                            POLYLINE  \\\n",
       "0  [[-8.618643,41.141412],[-8.618499,41.141376],[...   \n",
       "1  [[-8.639847,41.159826],[-8.640351,41.159871],[...   \n",
       "3  [[-8.574678,41.151951],[-8.574705,41.151942],[...   \n",
       "4  [[-8.645994,41.18049],[-8.645949,41.180517],[-...   \n",
       "5  [[-8.615502,41.140674],[-8.614854,41.140926],[...   \n",
       "\n",
       "                                                traj  \\\n",
       "0  [[-8.618643, 41.141412], [-8.618499, 41.141376...   \n",
       "1  [[-8.639847, 41.159826], [-8.640351, 41.159871...   \n",
       "3  [[-8.574678, 41.151951], [-8.574705, 41.151942...   \n",
       "4  [[-8.645994, 41.18049], [-8.645949, 41.180517]...   \n",
       "5  [[-8.615502, 41.140674], [-8.614854, 41.140926...   \n",
       "\n",
       "                                               lines     distances  \n",
       "0  LINESTRING (-8.61864 41.14141, -8.61850 41.141...  1.390117e-15  \n",
       "1  LINESTRING (-8.63985 41.15983, -8.64035 41.159...  2.135339e-15  \n",
       "3  LINESTRING (-8.57468 41.15195, -8.57470 41.151...  1.331680e-15  \n",
       "4  LINESTRING (-8.64599 41.18049, -8.64595 41.180...  2.006503e-15  \n",
       "5  LINESTRING (-8.61550 41.14067, -8.61485 41.140...  2.209443e-15  "
      ]
     },
     "execution_count": 155,
     "metadata": {},
     "output_type": "execute_result"
    }
   ],
   "source": [
    "taxi_train_data.head()"
   ]
  },
  {
   "cell_type": "code",
   "execution_count": 156,
   "metadata": {},
   "outputs": [
    {
     "data": {
      "text/plain": [
       "[[-8.624574, 41.158125],\n",
       " [-8.624007, 41.158845],\n",
       " [-8.623548, 41.158098],\n",
       " [-8.623458, 41.15781]]"
      ]
     },
     "execution_count": 156,
     "metadata": {},
     "output_type": "execute_result"
    }
   ],
   "source": [
    "from rich import inspect\n",
    "\n",
    "s = taxi_train_data.sample()[\"traj\"][-interval:].values[0]\n",
    "parking_coords = s[-interval:]\n",
    "parking_coords"
   ]
  },
  {
   "cell_type": "code",
   "execution_count": 157,
   "metadata": {},
   "outputs": [
    {
     "data": {
      "text/plain": [
       "0.00209493924379884"
      ]
     },
     "execution_count": 157,
     "metadata": {},
     "output_type": "execute_result"
    }
   ],
   "source": [
    "LineString(parking_coords).length"
   ]
  },
  {
   "cell_type": "code",
   "execution_count": 159,
   "metadata": {},
   "outputs": [
    {
     "data": {
      "text/plain": [
       "[[-8.630784, 41.157018],\n",
       " [-8.629965, 41.157198],\n",
       " [-8.628615, 41.157099],\n",
       " [-8.627805, 41.157567]]"
      ]
     },
     "execution_count": 159,
     "metadata": {},
     "output_type": "execute_result"
    }
   ],
   "source": [
    "def get_random_sample(x, interval=4):\n",
    "    start_idx = np.random.randint(0, len(x) - 2 * interval)\n",
    "    return x[start_idx : start_idx + interval]\n",
    "\n",
    "\n",
    "normal_coords = get_random_sample(s)\n",
    "normal_coords"
   ]
  },
  {
   "cell_type": "code",
   "execution_count": 160,
   "metadata": {},
   "outputs": [
    {
     "data": {
      "text/plain": [
       "0.0031276527154178897"
      ]
     },
     "execution_count": 160,
     "metadata": {},
     "output_type": "execute_result"
    }
   ],
   "source": [
    "LineString(normal_coords).length"
   ]
  },
  {
   "cell_type": "code",
   "execution_count": 161,
   "metadata": {},
   "outputs": [
    {
     "data": {
      "text/plain": [
       "0       [[-8.630829, 41.154507], [-8.630829, 41.154516...\n",
       "1       [[-8.668098, 41.168988], [-8.66664, 41.170005]...\n",
       "3       [[-8.607996, 41.142879], [-8.607987, 41.142888...\n",
       "4       [[-8.687502, 41.176755], [-8.687259, 41.177781...\n",
       "5       [[-8.578719, 41.156271], [-8.578629, 41.157693...\n",
       "                              ...                        \n",
       "9995    [[-8.620623, 41.146074], [-8.620128, 41.145966...\n",
       "9996    [[-8.638776, 41.164353], [-8.638776, 41.164344...\n",
       "9997    [[-8.596863, 41.204925], [-8.596656, 41.204403...\n",
       "9998    [[-8.670402, 41.238135], [-8.670033, 41.236884...\n",
       "9999    [[-8.631909, 41.185728], [-8.63208, 41.186484]...\n",
       "Name: parking_coords, Length: 9399, dtype: object"
      ]
     },
     "execution_count": 161,
     "metadata": {},
     "output_type": "execute_result"
    }
   ],
   "source": [
    "labels = [\"normal\", \"parking\"]\n",
    "\n",
    "parking_coords = taxi_train_data[\"traj\"].apply(lambda x: x[-interval:])\n",
    "parking_coords.name = \"parking_coords\"\n",
    "parking_coords"
   ]
  },
  {
   "cell_type": "code",
   "execution_count": 162,
   "metadata": {},
   "outputs": [
    {
     "data": {
      "text/plain": [
       "0       [[-8.62911, 41.151213], [-8.629128, 41.15124],...\n",
       "1       [[-8.646921, 41.160951], [-8.649999, 41.161491...\n",
       "3       [[-8.604045, 41.145417], [-8.604657, 41.144256...\n",
       "4       [[-8.656353, 41.177853], [-8.659647, 41.177277...\n",
       "5       [[-8.592993, 41.140008], [-8.589384, 41.140674...\n",
       "                              ...                        \n",
       "9995    [[-8.644851, 41.148252], [-8.642826, 41.148009...\n",
       "9996    [[-8.638767, 41.164488], [-8.638794, 41.164326...\n",
       "9997    [[-8.605575, 41.191542], [-8.605611, 41.192838...\n",
       "9998    [[-8.587242, 41.198949], [-8.586315, 41.198652...\n",
       "9999    [[-8.619867, 41.170986], [-8.621685, 41.169798...\n",
       "Name: normal_coords, Length: 9399, dtype: object"
      ]
     },
     "execution_count": 162,
     "metadata": {},
     "output_type": "execute_result"
    }
   ],
   "source": [
    "normal_coords = taxi_train_data[\"traj\"].apply(get_random_sample)\n",
    "normal_coords.name = \"normal_coords\"\n",
    "normal_coords"
   ]
  },
  {
   "cell_type": "code",
   "execution_count": 163,
   "metadata": {},
   "outputs": [],
   "source": [
    "normal_labels = pd.Series([0] * len(normal_coords), name=\"label\", index=normal_coords.index)\n",
    "parking_labels = pd.Series([1] * len(parking_coords), name=\"label\", index=parking_coords.index)"
   ]
  },
  {
   "cell_type": "code",
   "execution_count": 164,
   "metadata": {},
   "outputs": [],
   "source": [
    "normal_distances = normal_coords.apply(lambda x: LineString(x).length)\n",
    "normal_distances.name = \"distance\"\n",
    "parking_distances = parking_coords.apply(lambda x: LineString(x).length)\n",
    "parking_distances.name = \"distance\""
   ]
  },
  {
   "cell_type": "code",
   "execution_count": 165,
   "metadata": {},
   "outputs": [
    {
     "data": {
      "text/html": [
       "<div>\n",
       "<style scoped>\n",
       "    .dataframe tbody tr th:only-of-type {\n",
       "        vertical-align: middle;\n",
       "    }\n",
       "\n",
       "    .dataframe tbody tr th {\n",
       "        vertical-align: top;\n",
       "    }\n",
       "\n",
       "    .dataframe thead th {\n",
       "        text-align: right;\n",
       "    }\n",
       "</style>\n",
       "<table border=\"1\" class=\"dataframe\">\n",
       "  <thead>\n",
       "    <tr style=\"text-align: right;\">\n",
       "      <th></th>\n",
       "      <th>distance</th>\n",
       "      <th>label</th>\n",
       "    </tr>\n",
       "  </thead>\n",
       "  <tbody>\n",
       "    <tr>\n",
       "      <th>count</th>\n",
       "      <td>9399.000000</td>\n",
       "      <td>9399.0</td>\n",
       "    </tr>\n",
       "    <tr>\n",
       "      <th>mean</th>\n",
       "      <td>0.004002</td>\n",
       "      <td>0.0</td>\n",
       "    </tr>\n",
       "    <tr>\n",
       "      <th>std</th>\n",
       "      <td>0.003558</td>\n",
       "      <td>0.0</td>\n",
       "    </tr>\n",
       "    <tr>\n",
       "      <th>min</th>\n",
       "      <td>0.000000</td>\n",
       "      <td>0.0</td>\n",
       "    </tr>\n",
       "    <tr>\n",
       "      <th>25%</th>\n",
       "      <td>0.001693</td>\n",
       "      <td>0.0</td>\n",
       "    </tr>\n",
       "    <tr>\n",
       "      <th>50%</th>\n",
       "      <td>0.003253</td>\n",
       "      <td>0.0</td>\n",
       "    </tr>\n",
       "    <tr>\n",
       "      <th>75%</th>\n",
       "      <td>0.005172</td>\n",
       "      <td>0.0</td>\n",
       "    </tr>\n",
       "    <tr>\n",
       "      <th>max</th>\n",
       "      <td>0.052607</td>\n",
       "      <td>0.0</td>\n",
       "    </tr>\n",
       "  </tbody>\n",
       "</table>\n",
       "</div>"
      ],
      "text/plain": [
       "          distance   label\n",
       "count  9399.000000  9399.0\n",
       "mean      0.004002     0.0\n",
       "std       0.003558     0.0\n",
       "min       0.000000     0.0\n",
       "25%       0.001693     0.0\n",
       "50%       0.003253     0.0\n",
       "75%       0.005172     0.0\n",
       "max       0.052607     0.0"
      ]
     },
     "execution_count": 165,
     "metadata": {},
     "output_type": "execute_result"
    }
   ],
   "source": [
    "normal_data = pd.concat([normal_distances, normal_labels], axis=1)\n",
    "normal_data.describe()"
   ]
  },
  {
   "cell_type": "code",
   "execution_count": 166,
   "metadata": {},
   "outputs": [
    {
     "data": {
      "text/html": [
       "<div>\n",
       "<style scoped>\n",
       "    .dataframe tbody tr th:only-of-type {\n",
       "        vertical-align: middle;\n",
       "    }\n",
       "\n",
       "    .dataframe tbody tr th {\n",
       "        vertical-align: top;\n",
       "    }\n",
       "\n",
       "    .dataframe thead th {\n",
       "        text-align: right;\n",
       "    }\n",
       "</style>\n",
       "<table border=\"1\" class=\"dataframe\">\n",
       "  <thead>\n",
       "    <tr style=\"text-align: right;\">\n",
       "      <th></th>\n",
       "      <th>distance</th>\n",
       "      <th>label</th>\n",
       "    </tr>\n",
       "  </thead>\n",
       "  <tbody>\n",
       "    <tr>\n",
       "      <th>count</th>\n",
       "      <td>9399.000000</td>\n",
       "      <td>9399.0</td>\n",
       "    </tr>\n",
       "    <tr>\n",
       "      <th>mean</th>\n",
       "      <td>0.001747</td>\n",
       "      <td>1.0</td>\n",
       "    </tr>\n",
       "    <tr>\n",
       "      <th>std</th>\n",
       "      <td>0.002418</td>\n",
       "      <td>0.0</td>\n",
       "    </tr>\n",
       "    <tr>\n",
       "      <th>min</th>\n",
       "      <td>0.000000</td>\n",
       "      <td>1.0</td>\n",
       "    </tr>\n",
       "    <tr>\n",
       "      <th>25%</th>\n",
       "      <td>0.000176</td>\n",
       "      <td>1.0</td>\n",
       "    </tr>\n",
       "    <tr>\n",
       "      <th>50%</th>\n",
       "      <td>0.001092</td>\n",
       "      <td>1.0</td>\n",
       "    </tr>\n",
       "    <tr>\n",
       "      <th>75%</th>\n",
       "      <td>0.002578</td>\n",
       "      <td>1.0</td>\n",
       "    </tr>\n",
       "    <tr>\n",
       "      <th>max</th>\n",
       "      <td>0.054472</td>\n",
       "      <td>1.0</td>\n",
       "    </tr>\n",
       "  </tbody>\n",
       "</table>\n",
       "</div>"
      ],
      "text/plain": [
       "          distance   label\n",
       "count  9399.000000  9399.0\n",
       "mean      0.001747     1.0\n",
       "std       0.002418     0.0\n",
       "min       0.000000     1.0\n",
       "25%       0.000176     1.0\n",
       "50%       0.001092     1.0\n",
       "75%       0.002578     1.0\n",
       "max       0.054472     1.0"
      ]
     },
     "execution_count": 166,
     "metadata": {},
     "output_type": "execute_result"
    }
   ],
   "source": [
    "parking_data = pd.concat([parking_distances, parking_labels], axis=1)\n",
    "parking_data.describe()"
   ]
  },
  {
   "cell_type": "code",
   "execution_count": 169,
   "metadata": {},
   "outputs": [
    {
     "data": {
      "text/html": [
       "<div>\n",
       "<style scoped>\n",
       "    .dataframe tbody tr th:only-of-type {\n",
       "        vertical-align: middle;\n",
       "    }\n",
       "\n",
       "    .dataframe tbody tr th {\n",
       "        vertical-align: top;\n",
       "    }\n",
       "\n",
       "    .dataframe thead th {\n",
       "        text-align: right;\n",
       "    }\n",
       "</style>\n",
       "<table border=\"1\" class=\"dataframe\">\n",
       "  <thead>\n",
       "    <tr style=\"text-align: right;\">\n",
       "      <th></th>\n",
       "      <th>distance</th>\n",
       "      <th>label</th>\n",
       "    </tr>\n",
       "  </thead>\n",
       "  <tbody>\n",
       "    <tr>\n",
       "      <th>0</th>\n",
       "      <td>0.001252</td>\n",
       "      <td>0</td>\n",
       "    </tr>\n",
       "    <tr>\n",
       "      <th>1</th>\n",
       "      <td>0.009652</td>\n",
       "      <td>0</td>\n",
       "    </tr>\n",
       "    <tr>\n",
       "      <th>2</th>\n",
       "      <td>0.005499</td>\n",
       "      <td>0</td>\n",
       "    </tr>\n",
       "    <tr>\n",
       "      <th>3</th>\n",
       "      <td>0.008831</td>\n",
       "      <td>0</td>\n",
       "    </tr>\n",
       "    <tr>\n",
       "      <th>4</th>\n",
       "      <td>0.010130</td>\n",
       "      <td>0</td>\n",
       "    </tr>\n",
       "    <tr>\n",
       "      <th>...</th>\n",
       "      <td>...</td>\n",
       "      <td>...</td>\n",
       "    </tr>\n",
       "    <tr>\n",
       "      <th>18793</th>\n",
       "      <td>0.000533</td>\n",
       "      <td>1</td>\n",
       "    </tr>\n",
       "    <tr>\n",
       "      <th>18794</th>\n",
       "      <td>0.000536</td>\n",
       "      <td>1</td>\n",
       "    </tr>\n",
       "    <tr>\n",
       "      <th>18795</th>\n",
       "      <td>0.003316</td>\n",
       "      <td>1</td>\n",
       "    </tr>\n",
       "    <tr>\n",
       "      <th>18796</th>\n",
       "      <td>0.001675</td>\n",
       "      <td>1</td>\n",
       "    </tr>\n",
       "    <tr>\n",
       "      <th>18797</th>\n",
       "      <td>0.000864</td>\n",
       "      <td>1</td>\n",
       "    </tr>\n",
       "  </tbody>\n",
       "</table>\n",
       "<p>18798 rows × 2 columns</p>\n",
       "</div>"
      ],
      "text/plain": [
       "       distance  label\n",
       "0      0.001252      0\n",
       "1      0.009652      0\n",
       "2      0.005499      0\n",
       "3      0.008831      0\n",
       "4      0.010130      0\n",
       "...         ...    ...\n",
       "18793  0.000533      1\n",
       "18794  0.000536      1\n",
       "18795  0.003316      1\n",
       "18796  0.001675      1\n",
       "18797  0.000864      1\n",
       "\n",
       "[18798 rows x 2 columns]"
      ]
     },
     "execution_count": 169,
     "metadata": {},
     "output_type": "execute_result"
    }
   ],
   "source": [
    "def build_data(normal_data, parking_data):\n",
    "    data = pd.merge(normal_data, parking_data, how=\"outer\")\n",
    "    return data\n",
    "\n",
    "train_data = build_data(normal_data, parking_data)\n",
    "train_data"
   ]
  },
  {
   "cell_type": "code",
   "execution_count": 170,
   "metadata": {},
   "outputs": [
    {
     "data": {
      "image/png": "[encoded data removed]",
      "text/plain": [
       "<Figure size 558.875x500 with 1 Axes>"
      ]
     },
     "metadata": {},
     "output_type": "display_data"
    }
   ],
   "source": [
    "import seaborn as sns\n",
    "\n",
    "sns.displot(train_data, x=\"distance\", hue=\"label\", kind=\"kde\", fill=True);\n"
   ]
  },
  {
   "cell_type": "markdown",
   "metadata": {},
   "source": [
    "We will now create our training and test splits."
   ]
  },
  {
   "cell_type": "code",
   "execution_count": 171,
   "metadata": {},
   "outputs": [
    {
     "data": {
      "text/plain": [
       "((15038,), (3760,))"
      ]
     },
     "execution_count": 171,
     "metadata": {},
     "output_type": "execute_result"
    }
   ],
   "source": [
    "from sklearn.model_selection import train_test_split\n",
    "\n",
    "X_train, X_test, y_train, y_test = train_test_split(\n",
    "    train_data[\"distance\"].values.reshape(-1, 1),\n",
    "    train_data[\"label\"].values,\n",
    "    test_size=0.2,\n",
    "    random_state=random_state,\n",
    "    stratify=train_data[\"label\"].values,\n",
    ")\n",
    "y_train.shape, y_test.shape"
   ]
  },
  {
   "cell_type": "markdown",
   "metadata": {},
   "source": [
    "Lets look at the distribution of the training data:"
   ]
  },
  {
   "cell_type": "markdown",
   "metadata": {},
   "source": [
    "We can see from this density plot that the data is skewed towards the \"not looking for parking\" class. This is expected, as most of the time, people are not looking for parking. However, this is a problem for us, as we want to train a model that can accurately predict both classes."
   ]
  },
  {
   "cell_type": "markdown",
   "metadata": {},
   "source": [
    "# Experiments\n",
    "\n",
    "Here we have two main experiments: experiment 1 investigates different machine learning models for the parking driver profile, while experiment 2 demonstrates the model's ability to predict parking behavior in a real-time setting using user collected data."
   ]
  },
  {
   "cell_type": "markdown",
   "metadata": {},
   "source": [
    "## Experiment 1: Model training and evaluation\n",
    "Here we train 3 machine learning models and measure the performance of each model. We use the following models:\n",
    "- Logistic Regression\n",
    "- Support Vector Machine\n",
    "- Random Forest\n",
    "- XGBoost\n",
    "\n",
    "For metrics, we use the following:\n",
    "\n",
    "- Accuracy\n",
    "- Precision\n",
    "- Recall\n",
    "- F1 Score\n",
    "- ROC AUC\n",
    "\n",
    "These metrics are commonly used in classification problems, and thus we will use them to evaluate our models. Each metric is presented for every split. Cross validation is performed on the training data, and the best model is selected based on the ROC_AUC of the model.\n"
   ]
  },
  {
   "cell_type": "code",
   "execution_count": 132,
   "metadata": {},
   "outputs": [],
   "source": [
    "from sklearn.model_selection import GridSearchCV\n",
    "split_names = [\"train\", \"test\"]\n",
    "scoring = [\"accuracy\", \"precision\", \"recall\", \"f1\", \"roc_auc\"]\n"
   ]
  },
  {
   "cell_type": "markdown",
   "metadata": {},
   "source": [
    "### `Logistic Regression`"
   ]
  },
  {
   "cell_type": "code",
   "execution_count": 172,
   "metadata": {},
   "outputs": [
    {
     "name": "stdout",
     "output_type": "stream",
     "text": [
      "Fitting 5 folds for each of 84 candidates, totalling 420 fits\n"
     ]
    },
    {
     "data": {
      "text/html": [
       "<style>#sk-container-id-24 {color: black;}#sk-container-id-24 pre{padding: 0;}#sk-container-id-24 div.sk-toggleable {background-color: white;}#sk-container-id-24 label.sk-toggleable__label {cursor: pointer;display: block;width: 100%;margin-bottom: 0;padding: 0.3em;box-sizing: border-box;text-align: center;}#sk-container-id-24 label.sk-toggleable__label-arrow:before {content: \"▸\";float: left;margin-right: 0.25em;color: #696969;}#sk-container-id-24 label.sk-toggleable__label-arrow:hover:before {color: black;}#sk-container-id-24 div.sk-estimator:hover label.sk-toggleable__label-arrow:before {color: black;}#sk-container-id-24 div.sk-toggleable__content {max-height: 0;max-width: 0;overflow: hidden;text-align: left;background-color: #f0f8ff;}#sk-container-id-24 div.sk-toggleable__content pre {margin: 0.2em;color: black;border-radius: 0.25em;background-color: #f0f8ff;}#sk-container-id-24 input.sk-toggleable__control:checked~div.sk-toggleable__content {max-height: 200px;max-width: 100%;overflow: auto;}#sk-container-id-24 input.sk-toggleable__control:checked~label.sk-toggleable__label-arrow:before {content: \"▾\";}#sk-container-id-24 div.sk-estimator input.sk-toggleable__control:checked~label.sk-toggleable__label {background-color: #d4ebff;}#sk-container-id-24 div.sk-label input.sk-toggleable__control:checked~label.sk-toggleable__label {background-color: #d4ebff;}#sk-container-id-24 input.sk-hidden--visually {border: 0;clip: rect(1px 1px 1px 1px);clip: rect(1px, 1px, 1px, 1px);height: 1px;margin: -1px;overflow: hidden;padding: 0;position: absolute;width: 1px;}#sk-container-id-24 div.sk-estimator {font-family: monospace;background-color: #f0f8ff;border: 1px dotted black;border-radius: 0.25em;box-sizing: border-box;margin-bottom: 0.5em;}#sk-container-id-24 div.sk-estimator:hover {background-color: #d4ebff;}#sk-container-id-24 div.sk-parallel-item::after {content: \"\";width: 100%;border-bottom: 1px solid gray;flex-grow: 1;}#sk-container-id-24 div.sk-label:hover label.sk-toggleable__label {background-color: #d4ebff;}#sk-container-id-24 div.sk-serial::before {content: \"\";position: absolute;border-left: 1px solid gray;box-sizing: border-box;top: 0;bottom: 0;left: 50%;z-index: 0;}#sk-container-id-24 div.sk-serial {display: flex;flex-direction: column;align-items: center;background-color: white;padding-right: 0.2em;padding-left: 0.2em;position: relative;}#sk-container-id-24 div.sk-item {position: relative;z-index: 1;}#sk-container-id-24 div.sk-parallel {display: flex;align-items: stretch;justify-content: center;background-color: white;position: relative;}#sk-container-id-24 div.sk-item::before, #sk-container-id-24 div.sk-parallel-item::before {content: \"\";position: absolute;border-left: 1px solid gray;box-sizing: border-box;top: 0;bottom: 0;left: 50%;z-index: -1;}#sk-container-id-24 div.sk-parallel-item {display: flex;flex-direction: column;z-index: 1;position: relative;background-color: white;}#sk-container-id-24 div.sk-parallel-item:first-child::after {align-self: flex-end;width: 50%;}#sk-container-id-24 div.sk-parallel-item:last-child::after {align-self: flex-start;width: 50%;}#sk-container-id-24 div.sk-parallel-item:only-child::after {width: 0;}#sk-container-id-24 div.sk-dashed-wrapped {border: 1px dashed gray;margin: 0 0.4em 0.5em 0.4em;box-sizing: border-box;padding-bottom: 0.4em;background-color: white;}#sk-container-id-24 div.sk-label label {font-family: monospace;font-weight: bold;display: inline-block;line-height: 1.2em;}#sk-container-id-24 div.sk-label-container {text-align: center;}#sk-container-id-24 div.sk-container {/* jupyter's `normalize.less` sets `[hidden] { display: none; }` but bootstrap.min.css set `[hidden] { display: none !important; }` so we also need the `!important` here to be able to override the default hidden behavior on the sphinx rendered scikit-learn.org. See: https://github.com/scikit-learn/scikit-learn/issues/21755 */display: inline-block !important;position: relative;}#sk-container-id-24 div.sk-text-repr-fallback {display: none;}</style><div id=\"sk-container-id-24\" class=\"sk-top-container\"><div class=\"sk-text-repr-fallback\"><pre>GridSearchCV(cv=5, estimator=LogisticRegression(), n_jobs=-1,\n",
       "             param_grid={&#x27;C&#x27;: [0.001, 0.01, 0.1, 1, 10, 100, 1000],\n",
       "                         &#x27;max_iter&#x27;: [1000, 2500, 5000],\n",
       "                         &#x27;penalty&#x27;: [&#x27;l1&#x27;, &#x27;l2&#x27;],\n",
       "                         &#x27;solver&#x27;: [&#x27;liblinear&#x27;, &#x27;saga&#x27;]},\n",
       "             refit=&#x27;accuracy&#x27;, return_train_score=True,\n",
       "             scoring=[&#x27;accuracy&#x27;, &#x27;precision&#x27;, &#x27;recall&#x27;, &#x27;f1&#x27;, &#x27;roc_auc&#x27;],\n",
       "             verbose=2)</pre><b>In a Jupyter environment, please rerun this cell to show the HTML representation or trust the notebook. <br />On GitHub, the HTML representation is unable to render, please try loading this page with nbviewer.org.</b></div><div class=\"sk-container\" hidden><div class=\"sk-item sk-dashed-wrapped\"><div class=\"sk-label-container\"><div class=\"sk-label sk-toggleable\"><input class=\"sk-toggleable__control sk-hidden--visually\" id=\"sk-estimator-id-70\" type=\"checkbox\" ><label for=\"sk-estimator-id-70\" class=\"sk-toggleable__label sk-toggleable__label-arrow\">GridSearchCV</label><div class=\"sk-toggleable__content\"><pre>GridSearchCV(cv=5, estimator=LogisticRegression(), n_jobs=-1,\n",
       "             param_grid={&#x27;C&#x27;: [0.001, 0.01, 0.1, 1, 10, 100, 1000],\n",
       "                         &#x27;max_iter&#x27;: [1000, 2500, 5000],\n",
       "                         &#x27;penalty&#x27;: [&#x27;l1&#x27;, &#x27;l2&#x27;],\n",
       "                         &#x27;solver&#x27;: [&#x27;liblinear&#x27;, &#x27;saga&#x27;]},\n",
       "             refit=&#x27;accuracy&#x27;, return_train_score=True,\n",
       "             scoring=[&#x27;accuracy&#x27;, &#x27;precision&#x27;, &#x27;recall&#x27;, &#x27;f1&#x27;, &#x27;roc_auc&#x27;],\n",
       "             verbose=2)</pre></div></div></div><div class=\"sk-parallel\"><div class=\"sk-parallel-item\"><div class=\"sk-item\"><div class=\"sk-label-container\"><div class=\"sk-label sk-toggleable\"><input class=\"sk-toggleable__control sk-hidden--visually\" id=\"sk-estimator-id-71\" type=\"checkbox\" ><label for=\"sk-estimator-id-71\" class=\"sk-toggleable__label sk-toggleable__label-arrow\">estimator: LogisticRegression</label><div class=\"sk-toggleable__content\"><pre>LogisticRegression()</pre></div></div></div><div class=\"sk-serial\"><div class=\"sk-item\"><div class=\"sk-estimator sk-toggleable\"><input class=\"sk-toggleable__control sk-hidden--visually\" id=\"sk-estimator-id-72\" type=\"checkbox\" ><label for=\"sk-estimator-id-72\" class=\"sk-toggleable__label sk-toggleable__label-arrow\">LogisticRegression</label><div class=\"sk-toggleable__content\"><pre>LogisticRegression()</pre></div></div></div></div></div></div></div></div></div></div>"
      ],
      "text/plain": [
       "GridSearchCV(cv=5, estimator=LogisticRegression(), n_jobs=-1,\n",
       "             param_grid={'C': [0.001, 0.01, 0.1, 1, 10, 100, 1000],\n",
       "                         'max_iter': [1000, 2500, 5000],\n",
       "                         'penalty': ['l1', 'l2'],\n",
       "                         'solver': ['liblinear', 'saga']},\n",
       "             refit='accuracy', return_train_score=True,\n",
       "             scoring=['accuracy', 'precision', 'recall', 'f1', 'roc_auc'],\n",
       "             verbose=2)"
      ]
     },
     "execution_count": 172,
     "metadata": {},
     "output_type": "execute_result"
    }
   ],
   "source": [
    "from sklearn.linear_model import LogisticRegression\n",
    "\n",
    "params = {\n",
    "    \"C\": [0.001, 0.01, 0.1, 1, 10, 100, 1000],\n",
    "    \"penalty\": [\"l1\", \"l2\"],\n",
    "    \"solver\": [\"liblinear\", \"saga\"],\n",
    "    \"max_iter\": [1000, 2500, 5000],\n",
    "}\n",
    "logr = GridSearchCV(\n",
    "    LogisticRegression(),\n",
    "    params,\n",
    "    cv=5,\n",
    "    verbose=2,\n",
    "    n_jobs=-1,\n",
    "    refit=\"accuracy\",\n",
    "    scoring=scoring,\n",
    "    return_train_score=True,\n",
    ")\n",
    "logr.fit(X_train, y_train)"
   ]
  },
  {
   "cell_type": "markdown",
   "metadata": {},
   "source": [
    "We'll start keeping track of all of the results for easy documentation later:"
   ]
  },
  {
   "cell_type": "code",
   "execution_count": 173,
   "metadata": {},
   "outputs": [
    {
     "data": {
      "text/html": [
       "<div>\n",
       "<style scoped>\n",
       "    .dataframe tbody tr th:only-of-type {\n",
       "        vertical-align: middle;\n",
       "    }\n",
       "\n",
       "    .dataframe tbody tr th {\n",
       "        vertical-align: top;\n",
       "    }\n",
       "\n",
       "    .dataframe thead th {\n",
       "        text-align: right;\n",
       "    }\n",
       "</style>\n",
       "<table border=\"1\" class=\"dataframe\">\n",
       "  <thead>\n",
       "    <tr style=\"text-align: right;\">\n",
       "      <th></th>\n",
       "      <th>mean_train_accuracy</th>\n",
       "      <th>mean_train_precision</th>\n",
       "      <th>mean_train_recall</th>\n",
       "      <th>mean_train_f1</th>\n",
       "      <th>mean_train_roc_auc</th>\n",
       "      <th>mean_test_accuracy</th>\n",
       "      <th>mean_test_precision</th>\n",
       "      <th>mean_test_recall</th>\n",
       "      <th>mean_test_f1</th>\n",
       "      <th>mean_test_roc_auc</th>\n",
       "    </tr>\n",
       "    <tr>\n",
       "      <th>model_name</th>\n",
       "      <th></th>\n",
       "      <th></th>\n",
       "      <th></th>\n",
       "      <th></th>\n",
       "      <th></th>\n",
       "      <th></th>\n",
       "      <th></th>\n",
       "      <th></th>\n",
       "      <th></th>\n",
       "      <th></th>\n",
       "    </tr>\n",
       "  </thead>\n",
       "  <tbody>\n",
       "    <tr>\n",
       "      <th>LogisticRegression</th>\n",
       "      <td>0.625781</td>\n",
       "      <td>0.507532</td>\n",
       "      <td>0.620363</td>\n",
       "      <td>0.551385</td>\n",
       "      <td>0.697177</td>\n",
       "      <td>0.625727</td>\n",
       "      <td>0.507385</td>\n",
       "      <td>0.620301</td>\n",
       "      <td>0.551259</td>\n",
       "      <td>0.697142</td>\n",
       "    </tr>\n",
       "  </tbody>\n",
       "</table>\n",
       "</div>"
      ],
      "text/plain": [
       "                    mean_train_accuracy  mean_train_precision  \\\n",
       "model_name                                                      \n",
       "LogisticRegression             0.625781              0.507532   \n",
       "\n",
       "                    mean_train_recall  mean_train_f1  mean_train_roc_auc  \\\n",
       "model_name                                                                 \n",
       "LogisticRegression           0.620363       0.551385            0.697177   \n",
       "\n",
       "                    mean_test_accuracy  mean_test_precision  mean_test_recall  \\\n",
       "model_name                                                                      \n",
       "LogisticRegression            0.625727             0.507385          0.620301   \n",
       "\n",
       "                    mean_test_f1  mean_test_roc_auc  \n",
       "model_name                                           \n",
       "LogisticRegression      0.551259           0.697142  "
      ]
     },
     "execution_count": 173,
     "metadata": {},
     "output_type": "execute_result"
    }
   ],
   "source": [
    "def collect_metrics(model_name: str, results: dict):\n",
    "    result = [model_name]\n",
    "    split_metric_names = [\"model_name\"]\n",
    "    for split in split_names:\n",
    "        for metric in scoring:\n",
    "            split_metric_name = \"_\".join([\"mean\", split, metric])\n",
    "            split_metric_names.append(split_metric_name)\n",
    "\n",
    "    for split_metric_name in split_metric_names[1:]:\n",
    "        # print(split_metric_name, logr_results[split_metric_name].mean())\n",
    "        result.append(results[split_metric_name].mean())\n",
    "\n",
    "    return pd.DataFrame([result], columns=split_metric_names).set_index(\"model_name\")\n",
    "\n",
    "logr_results = collect_metrics(\"LogisticRegression\", logr.cv_results_)\n",
    "logr_results"
   ]
  },
  {
   "cell_type": "markdown",
   "metadata": {},
   "source": [
    "### `RandomForestClassifier`"
   ]
  },
  {
   "cell_type": "code",
   "execution_count": 174,
   "metadata": {},
   "outputs": [
    {
     "name": "stdout",
     "output_type": "stream",
     "text": [
      "Fitting 5 folds for each of 3 candidates, totalling 15 fits\n"
     ]
    },
    {
     "data": {
      "text/html": [
       "<style>#sk-container-id-25 {color: black;}#sk-container-id-25 pre{padding: 0;}#sk-container-id-25 div.sk-toggleable {background-color: white;}#sk-container-id-25 label.sk-toggleable__label {cursor: pointer;display: block;width: 100%;margin-bottom: 0;padding: 0.3em;box-sizing: border-box;text-align: center;}#sk-container-id-25 label.sk-toggleable__label-arrow:before {content: \"▸\";float: left;margin-right: 0.25em;color: #696969;}#sk-container-id-25 label.sk-toggleable__label-arrow:hover:before {color: black;}#sk-container-id-25 div.sk-estimator:hover label.sk-toggleable__label-arrow:before {color: black;}#sk-container-id-25 div.sk-toggleable__content {max-height: 0;max-width: 0;overflow: hidden;text-align: left;background-color: #f0f8ff;}#sk-container-id-25 div.sk-toggleable__content pre {margin: 0.2em;color: black;border-radius: 0.25em;background-color: #f0f8ff;}#sk-container-id-25 input.sk-toggleable__control:checked~div.sk-toggleable__content {max-height: 200px;max-width: 100%;overflow: auto;}#sk-container-id-25 input.sk-toggleable__control:checked~label.sk-toggleable__label-arrow:before {content: \"▾\";}#sk-container-id-25 div.sk-estimator input.sk-toggleable__control:checked~label.sk-toggleable__label {background-color: #d4ebff;}#sk-container-id-25 div.sk-label input.sk-toggleable__control:checked~label.sk-toggleable__label {background-color: #d4ebff;}#sk-container-id-25 input.sk-hidden--visually {border: 0;clip: rect(1px 1px 1px 1px);clip: rect(1px, 1px, 1px, 1px);height: 1px;margin: -1px;overflow: hidden;padding: 0;position: absolute;width: 1px;}#sk-container-id-25 div.sk-estimator {font-family: monospace;background-color: #f0f8ff;border: 1px dotted black;border-radius: 0.25em;box-sizing: border-box;margin-bottom: 0.5em;}#sk-container-id-25 div.sk-estimator:hover {background-color: #d4ebff;}#sk-container-id-25 div.sk-parallel-item::after {content: \"\";width: 100%;border-bottom: 1px solid gray;flex-grow: 1;}#sk-container-id-25 div.sk-label:hover label.sk-toggleable__label {background-color: #d4ebff;}#sk-container-id-25 div.sk-serial::before {content: \"\";position: absolute;border-left: 1px solid gray;box-sizing: border-box;top: 0;bottom: 0;left: 50%;z-index: 0;}#sk-container-id-25 div.sk-serial {display: flex;flex-direction: column;align-items: center;background-color: white;padding-right: 0.2em;padding-left: 0.2em;position: relative;}#sk-container-id-25 div.sk-item {position: relative;z-index: 1;}#sk-container-id-25 div.sk-parallel {display: flex;align-items: stretch;justify-content: center;background-color: white;position: relative;}#sk-container-id-25 div.sk-item::before, #sk-container-id-25 div.sk-parallel-item::before {content: \"\";position: absolute;border-left: 1px solid gray;box-sizing: border-box;top: 0;bottom: 0;left: 50%;z-index: -1;}#sk-container-id-25 div.sk-parallel-item {display: flex;flex-direction: column;z-index: 1;position: relative;background-color: white;}#sk-container-id-25 div.sk-parallel-item:first-child::after {align-self: flex-end;width: 50%;}#sk-container-id-25 div.sk-parallel-item:last-child::after {align-self: flex-start;width: 50%;}#sk-container-id-25 div.sk-parallel-item:only-child::after {width: 0;}#sk-container-id-25 div.sk-dashed-wrapped {border: 1px dashed gray;margin: 0 0.4em 0.5em 0.4em;box-sizing: border-box;padding-bottom: 0.4em;background-color: white;}#sk-container-id-25 div.sk-label label {font-family: monospace;font-weight: bold;display: inline-block;line-height: 1.2em;}#sk-container-id-25 div.sk-label-container {text-align: center;}#sk-container-id-25 div.sk-container {/* jupyter's `normalize.less` sets `[hidden] { display: none; }` but bootstrap.min.css set `[hidden] { display: none !important; }` so we also need the `!important` here to be able to override the default hidden behavior on the sphinx rendered scikit-learn.org. See: https://github.com/scikit-learn/scikit-learn/issues/21755 */display: inline-block !important;position: relative;}#sk-container-id-25 div.sk-text-repr-fallback {display: none;}</style><div id=\"sk-container-id-25\" class=\"sk-top-container\"><div class=\"sk-text-repr-fallback\"><pre>GridSearchCV(cv=5, estimator=RandomForestClassifier(), n_jobs=-1,\n",
       "             param_grid={&#x27;n_estimators&#x27;: [10, 100, 1000]}, refit=&#x27;accuracy&#x27;,\n",
       "             return_train_score=True,\n",
       "             scoring=[&#x27;accuracy&#x27;, &#x27;precision&#x27;, &#x27;recall&#x27;, &#x27;f1&#x27;, &#x27;roc_auc&#x27;],\n",
       "             verbose=3)</pre><b>In a Jupyter environment, please rerun this cell to show the HTML representation or trust the notebook. <br />On GitHub, the HTML representation is unable to render, please try loading this page with nbviewer.org.</b></div><div class=\"sk-container\" hidden><div class=\"sk-item sk-dashed-wrapped\"><div class=\"sk-label-container\"><div class=\"sk-label sk-toggleable\"><input class=\"sk-toggleable__control sk-hidden--visually\" id=\"sk-estimator-id-73\" type=\"checkbox\" ><label for=\"sk-estimator-id-73\" class=\"sk-toggleable__label sk-toggleable__label-arrow\">GridSearchCV</label><div class=\"sk-toggleable__content\"><pre>GridSearchCV(cv=5, estimator=RandomForestClassifier(), n_jobs=-1,\n",
       "             param_grid={&#x27;n_estimators&#x27;: [10, 100, 1000]}, refit=&#x27;accuracy&#x27;,\n",
       "             return_train_score=True,\n",
       "             scoring=[&#x27;accuracy&#x27;, &#x27;precision&#x27;, &#x27;recall&#x27;, &#x27;f1&#x27;, &#x27;roc_auc&#x27;],\n",
       "             verbose=3)</pre></div></div></div><div class=\"sk-parallel\"><div class=\"sk-parallel-item\"><div class=\"sk-item\"><div class=\"sk-label-container\"><div class=\"sk-label sk-toggleable\"><input class=\"sk-toggleable__control sk-hidden--visually\" id=\"sk-estimator-id-74\" type=\"checkbox\" ><label for=\"sk-estimator-id-74\" class=\"sk-toggleable__label sk-toggleable__label-arrow\">estimator: RandomForestClassifier</label><div class=\"sk-toggleable__content\"><pre>RandomForestClassifier()</pre></div></div></div><div class=\"sk-serial\"><div class=\"sk-item\"><div class=\"sk-estimator sk-toggleable\"><input class=\"sk-toggleable__control sk-hidden--visually\" id=\"sk-estimator-id-75\" type=\"checkbox\" ><label for=\"sk-estimator-id-75\" class=\"sk-toggleable__label sk-toggleable__label-arrow\">RandomForestClassifier</label><div class=\"sk-toggleable__content\"><pre>RandomForestClassifier()</pre></div></div></div></div></div></div></div></div></div></div>"
      ],
      "text/plain": [
       "GridSearchCV(cv=5, estimator=RandomForestClassifier(), n_jobs=-1,\n",
       "             param_grid={'n_estimators': [10, 100, 1000]}, refit='accuracy',\n",
       "             return_train_score=True,\n",
       "             scoring=['accuracy', 'precision', 'recall', 'f1', 'roc_auc'],\n",
       "             verbose=3)"
      ]
     },
     "execution_count": 174,
     "metadata": {},
     "output_type": "execute_result"
    }
   ],
   "source": [
    "from sklearn.ensemble import RandomForestClassifier\n",
    "\n",
    "params = {\n",
    "    \"n_estimators\": [10, 100, 1000],\n",
    "    # \"max_depth\": [None, 5, 10, 20],\n",
    "    # \"max_features\": [\"auto\", \"sqrt\", \"log2\"],\n",
    "    # \"criterion\": [\"gini\", \"entropy\"],\n",
    "}\n",
    "rf = GridSearchCV(\n",
    "    RandomForestClassifier(),\n",
    "    params,\n",
    "    cv=5,\n",
    "    verbose=3,\n",
    "    n_jobs=-1,\n",
    "    refit=\"accuracy\",\n",
    "    scoring=scoring,\n",
    "    return_train_score=True,\n",
    ")\n",
    "rf.fit(X_train, y_train)"
   ]
  },
  {
   "cell_type": "code",
   "execution_count": 175,
   "metadata": {},
   "outputs": [
    {
     "data": {
      "text/html": [
       "<div>\n",
       "<style scoped>\n",
       "    .dataframe tbody tr th:only-of-type {\n",
       "        vertical-align: middle;\n",
       "    }\n",
       "\n",
       "    .dataframe tbody tr th {\n",
       "        vertical-align: top;\n",
       "    }\n",
       "\n",
       "    .dataframe thead th {\n",
       "        text-align: right;\n",
       "    }\n",
       "</style>\n",
       "<table border=\"1\" class=\"dataframe\">\n",
       "  <thead>\n",
       "    <tr style=\"text-align: right;\">\n",
       "      <th></th>\n",
       "      <th>mean_train_accuracy</th>\n",
       "      <th>mean_train_precision</th>\n",
       "      <th>mean_train_recall</th>\n",
       "      <th>mean_train_f1</th>\n",
       "      <th>mean_train_roc_auc</th>\n",
       "      <th>mean_test_accuracy</th>\n",
       "      <th>mean_test_precision</th>\n",
       "      <th>mean_test_recall</th>\n",
       "      <th>mean_test_f1</th>\n",
       "      <th>mean_test_roc_auc</th>\n",
       "    </tr>\n",
       "    <tr>\n",
       "      <th>model_name</th>\n",
       "      <th></th>\n",
       "      <th></th>\n",
       "      <th></th>\n",
       "      <th></th>\n",
       "      <th></th>\n",
       "      <th></th>\n",
       "      <th></th>\n",
       "      <th></th>\n",
       "      <th></th>\n",
       "      <th></th>\n",
       "    </tr>\n",
       "  </thead>\n",
       "  <tbody>\n",
       "    <tr>\n",
       "      <th>RandomForestClassifier</th>\n",
       "      <td>0.9189</td>\n",
       "      <td>0.907189</td>\n",
       "      <td>0.933136</td>\n",
       "      <td>0.919917</td>\n",
       "      <td>0.974561</td>\n",
       "      <td>0.616504</td>\n",
       "      <td>0.614107</td>\n",
       "      <td>0.62712</td>\n",
       "      <td>0.620468</td>\n",
       "      <td>0.656635</td>\n",
       "    </tr>\n",
       "  </tbody>\n",
       "</table>\n",
       "</div>"
      ],
      "text/plain": [
       "                        mean_train_accuracy  mean_train_precision  \\\n",
       "model_name                                                          \n",
       "RandomForestClassifier               0.9189              0.907189   \n",
       "\n",
       "                        mean_train_recall  mean_train_f1  mean_train_roc_auc  \\\n",
       "model_name                                                                     \n",
       "RandomForestClassifier           0.933136       0.919917            0.974561   \n",
       "\n",
       "                        mean_test_accuracy  mean_test_precision  \\\n",
       "model_name                                                        \n",
       "RandomForestClassifier            0.616504             0.614107   \n",
       "\n",
       "                        mean_test_recall  mean_test_f1  mean_test_roc_auc  \n",
       "model_name                                                                 \n",
       "RandomForestClassifier           0.62712      0.620468           0.656635  "
      ]
     },
     "execution_count": 175,
     "metadata": {},
     "output_type": "execute_result"
    }
   ],
   "source": [
    "rf_results = collect_metrics(\"RandomForestClassifier\", rf.cv_results_)\n",
    "rf_results"
   ]
  },
  {
   "cell_type": "markdown",
   "metadata": {},
   "source": [
    "### `SVC`"
   ]
  },
  {
   "cell_type": "code",
   "execution_count": 176,
   "metadata": {},
   "outputs": [
    {
     "name": "stdout",
     "output_type": "stream",
     "text": [
      "Fitting 5 folds for each of 9 candidates, totalling 45 fits\n"
     ]
    },
    {
     "data": {
      "text/html": [
       "<style>#sk-container-id-26 {color: black;}#sk-container-id-26 pre{padding: 0;}#sk-container-id-26 div.sk-toggleable {background-color: white;}#sk-container-id-26 label.sk-toggleable__label {cursor: pointer;display: block;width: 100%;margin-bottom: 0;padding: 0.3em;box-sizing: border-box;text-align: center;}#sk-container-id-26 label.sk-toggleable__label-arrow:before {content: \"▸\";float: left;margin-right: 0.25em;color: #696969;}#sk-container-id-26 label.sk-toggleable__label-arrow:hover:before {color: black;}#sk-container-id-26 div.sk-estimator:hover label.sk-toggleable__label-arrow:before {color: black;}#sk-container-id-26 div.sk-toggleable__content {max-height: 0;max-width: 0;overflow: hidden;text-align: left;background-color: #f0f8ff;}#sk-container-id-26 div.sk-toggleable__content pre {margin: 0.2em;color: black;border-radius: 0.25em;background-color: #f0f8ff;}#sk-container-id-26 input.sk-toggleable__control:checked~div.sk-toggleable__content {max-height: 200px;max-width: 100%;overflow: auto;}#sk-container-id-26 input.sk-toggleable__control:checked~label.sk-toggleable__label-arrow:before {content: \"▾\";}#sk-container-id-26 div.sk-estimator input.sk-toggleable__control:checked~label.sk-toggleable__label {background-color: #d4ebff;}#sk-container-id-26 div.sk-label input.sk-toggleable__control:checked~label.sk-toggleable__label {background-color: #d4ebff;}#sk-container-id-26 input.sk-hidden--visually {border: 0;clip: rect(1px 1px 1px 1px);clip: rect(1px, 1px, 1px, 1px);height: 1px;margin: -1px;overflow: hidden;padding: 0;position: absolute;width: 1px;}#sk-container-id-26 div.sk-estimator {font-family: monospace;background-color: #f0f8ff;border: 1px dotted black;border-radius: 0.25em;box-sizing: border-box;margin-bottom: 0.5em;}#sk-container-id-26 div.sk-estimator:hover {background-color: #d4ebff;}#sk-container-id-26 div.sk-parallel-item::after {content: \"\";width: 100%;border-bottom: 1px solid gray;flex-grow: 1;}#sk-container-id-26 div.sk-label:hover label.sk-toggleable__label {background-color: #d4ebff;}#sk-container-id-26 div.sk-serial::before {content: \"\";position: absolute;border-left: 1px solid gray;box-sizing: border-box;top: 0;bottom: 0;left: 50%;z-index: 0;}#sk-container-id-26 div.sk-serial {display: flex;flex-direction: column;align-items: center;background-color: white;padding-right: 0.2em;padding-left: 0.2em;position: relative;}#sk-container-id-26 div.sk-item {position: relative;z-index: 1;}#sk-container-id-26 div.sk-parallel {display: flex;align-items: stretch;justify-content: center;background-color: white;position: relative;}#sk-container-id-26 div.sk-item::before, #sk-container-id-26 div.sk-parallel-item::before {content: \"\";position: absolute;border-left: 1px solid gray;box-sizing: border-box;top: 0;bottom: 0;left: 50%;z-index: -1;}#sk-container-id-26 div.sk-parallel-item {display: flex;flex-direction: column;z-index: 1;position: relative;background-color: white;}#sk-container-id-26 div.sk-parallel-item:first-child::after {align-self: flex-end;width: 50%;}#sk-container-id-26 div.sk-parallel-item:last-child::after {align-self: flex-start;width: 50%;}#sk-container-id-26 div.sk-parallel-item:only-child::after {width: 0;}#sk-container-id-26 div.sk-dashed-wrapped {border: 1px dashed gray;margin: 0 0.4em 0.5em 0.4em;box-sizing: border-box;padding-bottom: 0.4em;background-color: white;}#sk-container-id-26 div.sk-label label {font-family: monospace;font-weight: bold;display: inline-block;line-height: 1.2em;}#sk-container-id-26 div.sk-label-container {text-align: center;}#sk-container-id-26 div.sk-container {/* jupyter's `normalize.less` sets `[hidden] { display: none; }` but bootstrap.min.css set `[hidden] { display: none !important; }` so we also need the `!important` here to be able to override the default hidden behavior on the sphinx rendered scikit-learn.org. See: https://github.com/scikit-learn/scikit-learn/issues/21755 */display: inline-block !important;position: relative;}#sk-container-id-26 div.sk-text-repr-fallback {display: none;}</style><div id=\"sk-container-id-26\" class=\"sk-top-container\"><div class=\"sk-text-repr-fallback\"><pre>GridSearchCV(cv=5, estimator=SVC(), n_jobs=-1,\n",
       "             param_grid={&#x27;C&#x27;: [0.1, 1, 10], &#x27;degree&#x27;: [2, 3, 4]},\n",
       "             refit=&#x27;accuracy&#x27;, return_train_score=True,\n",
       "             scoring=[&#x27;accuracy&#x27;, &#x27;precision&#x27;, &#x27;recall&#x27;, &#x27;f1&#x27;, &#x27;roc_auc&#x27;],\n",
       "             verbose=2)</pre><b>In a Jupyter environment, please rerun this cell to show the HTML representation or trust the notebook. <br />On GitHub, the HTML representation is unable to render, please try loading this page with nbviewer.org.</b></div><div class=\"sk-container\" hidden><div class=\"sk-item sk-dashed-wrapped\"><div class=\"sk-label-container\"><div class=\"sk-label sk-toggleable\"><input class=\"sk-toggleable__control sk-hidden--visually\" id=\"sk-estimator-id-76\" type=\"checkbox\" ><label for=\"sk-estimator-id-76\" class=\"sk-toggleable__label sk-toggleable__label-arrow\">GridSearchCV</label><div class=\"sk-toggleable__content\"><pre>GridSearchCV(cv=5, estimator=SVC(), n_jobs=-1,\n",
       "             param_grid={&#x27;C&#x27;: [0.1, 1, 10], &#x27;degree&#x27;: [2, 3, 4]},\n",
       "             refit=&#x27;accuracy&#x27;, return_train_score=True,\n",
       "             scoring=[&#x27;accuracy&#x27;, &#x27;precision&#x27;, &#x27;recall&#x27;, &#x27;f1&#x27;, &#x27;roc_auc&#x27;],\n",
       "             verbose=2)</pre></div></div></div><div class=\"sk-parallel\"><div class=\"sk-parallel-item\"><div class=\"sk-item\"><div class=\"sk-label-container\"><div class=\"sk-label sk-toggleable\"><input class=\"sk-toggleable__control sk-hidden--visually\" id=\"sk-estimator-id-77\" type=\"checkbox\" ><label for=\"sk-estimator-id-77\" class=\"sk-toggleable__label sk-toggleable__label-arrow\">estimator: SVC</label><div class=\"sk-toggleable__content\"><pre>SVC()</pre></div></div></div><div class=\"sk-serial\"><div class=\"sk-item\"><div class=\"sk-estimator sk-toggleable\"><input class=\"sk-toggleable__control sk-hidden--visually\" id=\"sk-estimator-id-78\" type=\"checkbox\" ><label for=\"sk-estimator-id-78\" class=\"sk-toggleable__label sk-toggleable__label-arrow\">SVC</label><div class=\"sk-toggleable__content\"><pre>SVC()</pre></div></div></div></div></div></div></div></div></div></div>"
      ],
      "text/plain": [
       "GridSearchCV(cv=5, estimator=SVC(), n_jobs=-1,\n",
       "             param_grid={'C': [0.1, 1, 10], 'degree': [2, 3, 4]},\n",
       "             refit='accuracy', return_train_score=True,\n",
       "             scoring=['accuracy', 'precision', 'recall', 'f1', 'roc_auc'],\n",
       "             verbose=2)"
      ]
     },
     "execution_count": 176,
     "metadata": {},
     "output_type": "execute_result"
    }
   ],
   "source": [
    "from sklearn.svm import SVC\n",
    "\n",
    "params = {\n",
    "    \"C\": [0.1, 1, 10],\n",
    "    \"degree\": [2, 3, 4],\n",
    "}\n",
    "svc = GridSearchCV(\n",
    "    SVC(), params, cv=5, verbose=2, n_jobs=-1, refit=\"accuracy\", scoring=scoring, return_train_score=True\n",
    ")\n",
    "svc.fit(X_train, y_train)"
   ]
  },
  {
   "cell_type": "code",
   "execution_count": 177,
   "metadata": {},
   "outputs": [
    {
     "data": {
      "text/html": [
       "<div>\n",
       "<style scoped>\n",
       "    .dataframe tbody tr th:only-of-type {\n",
       "        vertical-align: middle;\n",
       "    }\n",
       "\n",
       "    .dataframe tbody tr th {\n",
       "        vertical-align: top;\n",
       "    }\n",
       "\n",
       "    .dataframe thead th {\n",
       "        text-align: right;\n",
       "    }\n",
       "</style>\n",
       "<table border=\"1\" class=\"dataframe\">\n",
       "  <thead>\n",
       "    <tr style=\"text-align: right;\">\n",
       "      <th></th>\n",
       "      <th>mean_train_accuracy</th>\n",
       "      <th>mean_train_precision</th>\n",
       "      <th>mean_train_recall</th>\n",
       "      <th>mean_train_f1</th>\n",
       "      <th>mean_train_roc_auc</th>\n",
       "      <th>mean_test_accuracy</th>\n",
       "      <th>mean_test_precision</th>\n",
       "      <th>mean_test_recall</th>\n",
       "      <th>mean_test_f1</th>\n",
       "      <th>mean_test_roc_auc</th>\n",
       "    </tr>\n",
       "    <tr>\n",
       "      <th>model_name</th>\n",
       "      <th></th>\n",
       "      <th></th>\n",
       "      <th></th>\n",
       "      <th></th>\n",
       "      <th></th>\n",
       "      <th></th>\n",
       "      <th></th>\n",
       "      <th></th>\n",
       "      <th></th>\n",
       "      <th></th>\n",
       "    </tr>\n",
       "  </thead>\n",
       "  <tbody>\n",
       "    <tr>\n",
       "      <th>SVC</th>\n",
       "      <td>0.683962</td>\n",
       "      <td>0.68508</td>\n",
       "      <td>0.681053</td>\n",
       "      <td>0.683021</td>\n",
       "      <td>0.732617</td>\n",
       "      <td>0.683557</td>\n",
       "      <td>0.68478</td>\n",
       "      <td>0.680409</td>\n",
       "      <td>0.682537</td>\n",
       "      <td>0.731889</td>\n",
       "    </tr>\n",
       "  </tbody>\n",
       "</table>\n",
       "</div>"
      ],
      "text/plain": [
       "            mean_train_accuracy  mean_train_precision  mean_train_recall  \\\n",
       "model_name                                                                 \n",
       "SVC                    0.683962               0.68508           0.681053   \n",
       "\n",
       "            mean_train_f1  mean_train_roc_auc  mean_test_accuracy  \\\n",
       "model_name                                                          \n",
       "SVC              0.683021            0.732617            0.683557   \n",
       "\n",
       "            mean_test_precision  mean_test_recall  mean_test_f1  \\\n",
       "model_name                                                        \n",
       "SVC                     0.68478          0.680409      0.682537   \n",
       "\n",
       "            mean_test_roc_auc  \n",
       "model_name                     \n",
       "SVC                  0.731889  "
      ]
     },
     "execution_count": 177,
     "metadata": {},
     "output_type": "execute_result"
    }
   ],
   "source": [
    "svc_results = collect_metrics(\"SVC\", svc.cv_results_)\n",
    "svc_results"
   ]
  },
  {
   "cell_type": "markdown",
   "metadata": {},
   "source": [
    "### `XGBoost`"
   ]
  },
  {
   "cell_type": "code",
   "execution_count": 178,
   "metadata": {},
   "outputs": [
    {
     "name": "stdout",
     "output_type": "stream",
     "text": [
      "Fitting 5 folds for each of 27 candidates, totalling 135 fits\n"
     ]
    },
    {
     "data": {
      "text/html": [
       "<style>#sk-container-id-27 {color: black;}#sk-container-id-27 pre{padding: 0;}#sk-container-id-27 div.sk-toggleable {background-color: white;}#sk-container-id-27 label.sk-toggleable__label {cursor: pointer;display: block;width: 100%;margin-bottom: 0;padding: 0.3em;box-sizing: border-box;text-align: center;}#sk-container-id-27 label.sk-toggleable__label-arrow:before {content: \"▸\";float: left;margin-right: 0.25em;color: #696969;}#sk-container-id-27 label.sk-toggleable__label-arrow:hover:before {color: black;}#sk-container-id-27 div.sk-estimator:hover label.sk-toggleable__label-arrow:before {color: black;}#sk-container-id-27 div.sk-toggleable__content {max-height: 0;max-width: 0;overflow: hidden;text-align: left;background-color: #f0f8ff;}#sk-container-id-27 div.sk-toggleable__content pre {margin: 0.2em;color: black;border-radius: 0.25em;background-color: #f0f8ff;}#sk-container-id-27 input.sk-toggleable__control:checked~div.sk-toggleable__content {max-height: 200px;max-width: 100%;overflow: auto;}#sk-container-id-27 input.sk-toggleable__control:checked~label.sk-toggleable__label-arrow:before {content: \"▾\";}#sk-container-id-27 div.sk-estimator input.sk-toggleable__control:checked~label.sk-toggleable__label {background-color: #d4ebff;}#sk-container-id-27 div.sk-label input.sk-toggleable__control:checked~label.sk-toggleable__label {background-color: #d4ebff;}#sk-container-id-27 input.sk-hidden--visually {border: 0;clip: rect(1px 1px 1px 1px);clip: rect(1px, 1px, 1px, 1px);height: 1px;margin: -1px;overflow: hidden;padding: 0;position: absolute;width: 1px;}#sk-container-id-27 div.sk-estimator {font-family: monospace;background-color: #f0f8ff;border: 1px dotted black;border-radius: 0.25em;box-sizing: border-box;margin-bottom: 0.5em;}#sk-container-id-27 div.sk-estimator:hover {background-color: #d4ebff;}#sk-container-id-27 div.sk-parallel-item::after {content: \"\";width: 100%;border-bottom: 1px solid gray;flex-grow: 1;}#sk-container-id-27 div.sk-label:hover label.sk-toggleable__label {background-color: #d4ebff;}#sk-container-id-27 div.sk-serial::before {content: \"\";position: absolute;border-left: 1px solid gray;box-sizing: border-box;top: 0;bottom: 0;left: 50%;z-index: 0;}#sk-container-id-27 div.sk-serial {display: flex;flex-direction: column;align-items: center;background-color: white;padding-right: 0.2em;padding-left: 0.2em;position: relative;}#sk-container-id-27 div.sk-item {position: relative;z-index: 1;}#sk-container-id-27 div.sk-parallel {display: flex;align-items: stretch;justify-content: center;background-color: white;position: relative;}#sk-container-id-27 div.sk-item::before, #sk-container-id-27 div.sk-parallel-item::before {content: \"\";position: absolute;border-left: 1px solid gray;box-sizing: border-box;top: 0;bottom: 0;left: 50%;z-index: -1;}#sk-container-id-27 div.sk-parallel-item {display: flex;flex-direction: column;z-index: 1;position: relative;background-color: white;}#sk-container-id-27 div.sk-parallel-item:first-child::after {align-self: flex-end;width: 50%;}#sk-container-id-27 div.sk-parallel-item:last-child::after {align-self: flex-start;width: 50%;}#sk-container-id-27 div.sk-parallel-item:only-child::after {width: 0;}#sk-container-id-27 div.sk-dashed-wrapped {border: 1px dashed gray;margin: 0 0.4em 0.5em 0.4em;box-sizing: border-box;padding-bottom: 0.4em;background-color: white;}#sk-container-id-27 div.sk-label label {font-family: monospace;font-weight: bold;display: inline-block;line-height: 1.2em;}#sk-container-id-27 div.sk-label-container {text-align: center;}#sk-container-id-27 div.sk-container {/* jupyter's `normalize.less` sets `[hidden] { display: none; }` but bootstrap.min.css set `[hidden] { display: none !important; }` so we also need the `!important` here to be able to override the default hidden behavior on the sphinx rendered scikit-learn.org. See: https://github.com/scikit-learn/scikit-learn/issues/21755 */display: inline-block !important;position: relative;}#sk-container-id-27 div.sk-text-repr-fallback {display: none;}</style><div id=\"sk-container-id-27\" class=\"sk-top-container\"><div class=\"sk-text-repr-fallback\"><pre>GridSearchCV(cv=5,\n",
       "             estimator=XGBClassifier(base_score=None, booster=None,\n",
       "                                     callbacks=None, colsample_bylevel=None,\n",
       "                                     colsample_bynode=None,\n",
       "                                     colsample_bytree=None, device=None,\n",
       "                                     early_stopping_rounds=None,\n",
       "                                     enable_categorical=False, eval_metric=None,\n",
       "                                     feature_types=None, gamma=None,\n",
       "                                     grow_policy=None, importance_type=None,\n",
       "                                     interaction_constraints=None,\n",
       "                                     learning_rate=None,...\n",
       "                                     missing=nan, monotone_constraints=None,\n",
       "                                     multi_strategy=None, n_estimators=None,\n",
       "                                     n_jobs=None, num_parallel_tree=None,\n",
       "                                     random_state=None, ...),\n",
       "             n_jobs=-1,\n",
       "             param_grid={&#x27;learning_rate&#x27;: [0.01, 0.1, 0.5],\n",
       "                         &#x27;max_depth&#x27;: [3, 5, 7],\n",
       "                         &#x27;n_estimators&#x27;: [100, 500, 1000],\n",
       "                         &#x27;objective&#x27;: [&#x27;binary:logistic&#x27;]},\n",
       "             refit=&#x27;accuracy&#x27;, return_train_score=True,\n",
       "             scoring=[&#x27;accuracy&#x27;, &#x27;precision&#x27;, &#x27;recall&#x27;, &#x27;f1&#x27;, &#x27;roc_auc&#x27;],\n",
       "             verbose=2)</pre><b>In a Jupyter environment, please rerun this cell to show the HTML representation or trust the notebook. <br />On GitHub, the HTML representation is unable to render, please try loading this page with nbviewer.org.</b></div><div class=\"sk-container\" hidden><div class=\"sk-item sk-dashed-wrapped\"><div class=\"sk-label-container\"><div class=\"sk-label sk-toggleable\"><input class=\"sk-toggleable__control sk-hidden--visually\" id=\"sk-estimator-id-79\" type=\"checkbox\" ><label for=\"sk-estimator-id-79\" class=\"sk-toggleable__label sk-toggleable__label-arrow\">GridSearchCV</label><div class=\"sk-toggleable__content\"><pre>GridSearchCV(cv=5,\n",
       "             estimator=XGBClassifier(base_score=None, booster=None,\n",
       "                                     callbacks=None, colsample_bylevel=None,\n",
       "                                     colsample_bynode=None,\n",
       "                                     colsample_bytree=None, device=None,\n",
       "                                     early_stopping_rounds=None,\n",
       "                                     enable_categorical=False, eval_metric=None,\n",
       "                                     feature_types=None, gamma=None,\n",
       "                                     grow_policy=None, importance_type=None,\n",
       "                                     interaction_constraints=None,\n",
       "                                     learning_rate=None,...\n",
       "                                     missing=nan, monotone_constraints=None,\n",
       "                                     multi_strategy=None, n_estimators=None,\n",
       "                                     n_jobs=None, num_parallel_tree=None,\n",
       "                                     random_state=None, ...),\n",
       "             n_jobs=-1,\n",
       "             param_grid={&#x27;learning_rate&#x27;: [0.01, 0.1, 0.5],\n",
       "                         &#x27;max_depth&#x27;: [3, 5, 7],\n",
       "                         &#x27;n_estimators&#x27;: [100, 500, 1000],\n",
       "                         &#x27;objective&#x27;: [&#x27;binary:logistic&#x27;]},\n",
       "             refit=&#x27;accuracy&#x27;, return_train_score=True,\n",
       "             scoring=[&#x27;accuracy&#x27;, &#x27;precision&#x27;, &#x27;recall&#x27;, &#x27;f1&#x27;, &#x27;roc_auc&#x27;],\n",
       "             verbose=2)</pre></div></div></div><div class=\"sk-parallel\"><div class=\"sk-parallel-item\"><div class=\"sk-item\"><div class=\"sk-label-container\"><div class=\"sk-label sk-toggleable\"><input class=\"sk-toggleable__control sk-hidden--visually\" id=\"sk-estimator-id-80\" type=\"checkbox\" ><label for=\"sk-estimator-id-80\" class=\"sk-toggleable__label sk-toggleable__label-arrow\">estimator: XGBClassifier</label><div class=\"sk-toggleable__content\"><pre>XGBClassifier(base_score=None, booster=None, callbacks=None,\n",
       "              colsample_bylevel=None, colsample_bynode=None,\n",
       "              colsample_bytree=None, device=None, early_stopping_rounds=None,\n",
       "              enable_categorical=False, eval_metric=None, feature_types=None,\n",
       "              gamma=None, grow_policy=None, importance_type=None,\n",
       "              interaction_constraints=None, learning_rate=None, max_bin=None,\n",
       "              max_cat_threshold=None, max_cat_to_onehot=None,\n",
       "              max_delta_step=None, max_depth=None, max_leaves=None,\n",
       "              min_child_weight=None, missing=nan, monotone_constraints=None,\n",
       "              multi_strategy=None, n_estimators=None, n_jobs=None,\n",
       "              num_parallel_tree=None, random_state=None, ...)</pre></div></div></div><div class=\"sk-serial\"><div class=\"sk-item\"><div class=\"sk-estimator sk-toggleable\"><input class=\"sk-toggleable__control sk-hidden--visually\" id=\"sk-estimator-id-81\" type=\"checkbox\" ><label for=\"sk-estimator-id-81\" class=\"sk-toggleable__label sk-toggleable__label-arrow\">XGBClassifier</label><div class=\"sk-toggleable__content\"><pre>XGBClassifier(base_score=None, booster=None, callbacks=None,\n",
       "              colsample_bylevel=None, colsample_bynode=None,\n",
       "              colsample_bytree=None, device=None, early_stopping_rounds=None,\n",
       "              enable_categorical=False, eval_metric=None, feature_types=None,\n",
       "              gamma=None, grow_policy=None, importance_type=None,\n",
       "              interaction_constraints=None, learning_rate=None, max_bin=None,\n",
       "              max_cat_threshold=None, max_cat_to_onehot=None,\n",
       "              max_delta_step=None, max_depth=None, max_leaves=None,\n",
       "              min_child_weight=None, missing=nan, monotone_constraints=None,\n",
       "              multi_strategy=None, n_estimators=None, n_jobs=None,\n",
       "              num_parallel_tree=None, random_state=None, ...)</pre></div></div></div></div></div></div></div></div></div></div>"
      ],
      "text/plain": [
       "GridSearchCV(cv=5,\n",
       "             estimator=XGBClassifier(base_score=None, booster=None,\n",
       "                                     callbacks=None, colsample_bylevel=None,\n",
       "                                     colsample_bynode=None,\n",
       "                                     colsample_bytree=None, device=None,\n",
       "                                     early_stopping_rounds=None,\n",
       "                                     enable_categorical=False, eval_metric=None,\n",
       "                                     feature_types=None, gamma=None,\n",
       "                                     grow_policy=None, importance_type=None,\n",
       "                                     interaction_constraints=None,\n",
       "                                     learning_rate=None,...\n",
       "                                     missing=nan, monotone_constraints=None,\n",
       "                                     multi_strategy=None, n_estimators=None,\n",
       "                                     n_jobs=None, num_parallel_tree=None,\n",
       "                                     random_state=None, ...),\n",
       "             n_jobs=-1,\n",
       "             param_grid={'learning_rate': [0.01, 0.1, 0.5],\n",
       "                         'max_depth': [3, 5, 7],\n",
       "                         'n_estimators': [100, 500, 1000],\n",
       "                         'objective': ['binary:logistic']},\n",
       "             refit='accuracy', return_train_score=True,\n",
       "             scoring=['accuracy', 'precision', 'recall', 'f1', 'roc_auc'],\n",
       "             verbose=2)"
      ]
     },
     "execution_count": 178,
     "metadata": {},
     "output_type": "execute_result"
    }
   ],
   "source": [
    "import xgboost as xgb\n",
    "\n",
    "params = {\n",
    "    \"n_estimators\": [100, 500, 1000],\n",
    "    \"max_depth\": [3, 5, 7],\n",
    "    \"learning_rate\": [0.01, 0.1, 0.5],\n",
    "    \"objective\": [\"binary:logistic\"],\n",
    "}\n",
    "\n",
    "xg = GridSearchCV(\n",
    "    xgb.XGBClassifier(),\n",
    "    params,\n",
    "    cv=5,\n",
    "    verbose=2,\n",
    "    n_jobs=-1,\n",
    "    refit=\"accuracy\",\n",
    "    scoring=scoring,\n",
    "    return_train_score=True,\n",
    ")\n",
    "xg.fit(train_data[[\"distance\"]], train_data[\"label\"])"
   ]
  },
  {
   "cell_type": "code",
   "execution_count": 179,
   "metadata": {},
   "outputs": [
    {
     "data": {
      "text/html": [
       "<div>\n",
       "<style scoped>\n",
       "    .dataframe tbody tr th:only-of-type {\n",
       "        vertical-align: middle;\n",
       "    }\n",
       "\n",
       "    .dataframe tbody tr th {\n",
       "        vertical-align: top;\n",
       "    }\n",
       "\n",
       "    .dataframe thead th {\n",
       "        text-align: right;\n",
       "    }\n",
       "</style>\n",
       "<table border=\"1\" class=\"dataframe\">\n",
       "  <thead>\n",
       "    <tr style=\"text-align: right;\">\n",
       "      <th></th>\n",
       "      <th>mean_train_accuracy</th>\n",
       "      <th>mean_train_precision</th>\n",
       "      <th>mean_train_recall</th>\n",
       "      <th>mean_train_f1</th>\n",
       "      <th>mean_train_roc_auc</th>\n",
       "      <th>mean_test_accuracy</th>\n",
       "      <th>mean_test_precision</th>\n",
       "      <th>mean_test_recall</th>\n",
       "      <th>mean_test_f1</th>\n",
       "      <th>mean_test_roc_auc</th>\n",
       "    </tr>\n",
       "    <tr>\n",
       "      <th>model_name</th>\n",
       "      <th></th>\n",
       "      <th></th>\n",
       "      <th></th>\n",
       "      <th></th>\n",
       "      <th></th>\n",
       "      <th></th>\n",
       "      <th></th>\n",
       "      <th></th>\n",
       "      <th></th>\n",
       "      <th></th>\n",
       "    </tr>\n",
       "  </thead>\n",
       "  <tbody>\n",
       "    <tr>\n",
       "      <th>XGBClassifier</th>\n",
       "      <td>0.688851</td>\n",
       "      <td>0.690963</td>\n",
       "      <td>0.683974</td>\n",
       "      <td>0.687243</td>\n",
       "      <td>0.75798</td>\n",
       "      <td>0.677814</td>\n",
       "      <td>0.680882</td>\n",
       "      <td>0.67384</td>\n",
       "      <td>0.675926</td>\n",
       "      <td>0.742846</td>\n",
       "    </tr>\n",
       "  </tbody>\n",
       "</table>\n",
       "</div>"
      ],
      "text/plain": [
       "               mean_train_accuracy  mean_train_precision  mean_train_recall  \\\n",
       "model_name                                                                    \n",
       "XGBClassifier             0.688851              0.690963           0.683974   \n",
       "\n",
       "               mean_train_f1  mean_train_roc_auc  mean_test_accuracy  \\\n",
       "model_name                                                             \n",
       "XGBClassifier       0.687243             0.75798            0.677814   \n",
       "\n",
       "               mean_test_precision  mean_test_recall  mean_test_f1  \\\n",
       "model_name                                                           \n",
       "XGBClassifier             0.680882           0.67384      0.675926   \n",
       "\n",
       "               mean_test_roc_auc  \n",
       "model_name                        \n",
       "XGBClassifier           0.742846  "
      ]
     },
     "execution_count": 179,
     "metadata": {},
     "output_type": "execute_result"
    }
   ],
   "source": [
    "xg_results = collect_metrics(\"XGBClassifier\", xg.cv_results_)\n",
    "xg_results"
   ]
  },
  {
   "cell_type": "markdown",
   "metadata": {},
   "source": [
    "### Training results"
   ]
  },
  {
   "cell_type": "code",
   "execution_count": 184,
   "metadata": {},
   "outputs": [
    {
     "data": {
      "text/html": [
       "<div>\n",
       "<style scoped>\n",
       "    .dataframe tbody tr th:only-of-type {\n",
       "        vertical-align: middle;\n",
       "    }\n",
       "\n",
       "    .dataframe tbody tr th {\n",
       "        vertical-align: top;\n",
       "    }\n",
       "\n",
       "    .dataframe thead th {\n",
       "        text-align: right;\n",
       "    }\n",
       "</style>\n",
       "<table border=\"1\" class=\"dataframe\">\n",
       "  <thead>\n",
       "    <tr style=\"text-align: right;\">\n",
       "      <th></th>\n",
       "      <th>mean_train_accuracy</th>\n",
       "      <th>mean_train_precision</th>\n",
       "      <th>mean_train_recall</th>\n",
       "      <th>mean_train_f1</th>\n",
       "      <th>mean_train_roc_auc</th>\n",
       "      <th>mean_test_accuracy</th>\n",
       "      <th>mean_test_precision</th>\n",
       "      <th>mean_test_recall</th>\n",
       "      <th>mean_test_f1</th>\n",
       "      <th>mean_test_roc_auc</th>\n",
       "    </tr>\n",
       "    <tr>\n",
       "      <th>model_name</th>\n",
       "      <th></th>\n",
       "      <th></th>\n",
       "      <th></th>\n",
       "      <th></th>\n",
       "      <th></th>\n",
       "      <th></th>\n",
       "      <th></th>\n",
       "      <th></th>\n",
       "      <th></th>\n",
       "      <th></th>\n",
       "    </tr>\n",
       "  </thead>\n",
       "  <tbody>\n",
       "    <tr>\n",
       "      <th>LogisticRegression</th>\n",
       "      <td>0.625781</td>\n",
       "      <td>0.507532</td>\n",
       "      <td>0.620363</td>\n",
       "      <td>0.551385</td>\n",
       "      <td>0.697177</td>\n",
       "      <td>0.625727</td>\n",
       "      <td>0.507385</td>\n",
       "      <td>0.620301</td>\n",
       "      <td>0.551259</td>\n",
       "      <td>0.697142</td>\n",
       "    </tr>\n",
       "    <tr>\n",
       "      <th>RandomForestClassifier</th>\n",
       "      <td>0.918900</td>\n",
       "      <td>0.907189</td>\n",
       "      <td>0.933136</td>\n",
       "      <td>0.919917</td>\n",
       "      <td>0.974561</td>\n",
       "      <td>0.616504</td>\n",
       "      <td>0.614107</td>\n",
       "      <td>0.627120</td>\n",
       "      <td>0.620468</td>\n",
       "      <td>0.656635</td>\n",
       "    </tr>\n",
       "    <tr>\n",
       "      <th>SVC</th>\n",
       "      <td>0.683962</td>\n",
       "      <td>0.685080</td>\n",
       "      <td>0.681053</td>\n",
       "      <td>0.683021</td>\n",
       "      <td>0.732617</td>\n",
       "      <td>0.683557</td>\n",
       "      <td>0.684780</td>\n",
       "      <td>0.680409</td>\n",
       "      <td>0.682537</td>\n",
       "      <td>0.731889</td>\n",
       "    </tr>\n",
       "    <tr>\n",
       "      <th>XGBClassifier</th>\n",
       "      <td>0.688851</td>\n",
       "      <td>0.690963</td>\n",
       "      <td>0.683974</td>\n",
       "      <td>0.687243</td>\n",
       "      <td>0.757980</td>\n",
       "      <td>0.677814</td>\n",
       "      <td>0.680882</td>\n",
       "      <td>0.673840</td>\n",
       "      <td>0.675926</td>\n",
       "      <td>0.742846</td>\n",
       "    </tr>\n",
       "  </tbody>\n",
       "</table>\n",
       "</div>"
      ],
      "text/plain": [
       "                        mean_train_accuracy  mean_train_precision  \\\n",
       "model_name                                                          \n",
       "LogisticRegression                 0.625781              0.507532   \n",
       "RandomForestClassifier             0.918900              0.907189   \n",
       "SVC                                0.683962              0.685080   \n",
       "XGBClassifier                      0.688851              0.690963   \n",
       "\n",
       "                        mean_train_recall  mean_train_f1  mean_train_roc_auc  \\\n",
       "model_name                                                                     \n",
       "LogisticRegression               0.620363       0.551385            0.697177   \n",
       "RandomForestClassifier           0.933136       0.919917            0.974561   \n",
       "SVC                              0.681053       0.683021            0.732617   \n",
       "XGBClassifier                    0.683974       0.687243            0.757980   \n",
       "\n",
       "                        mean_test_accuracy  mean_test_precision  \\\n",
       "model_name                                                        \n",
       "LogisticRegression                0.625727             0.507385   \n",
       "RandomForestClassifier            0.616504             0.614107   \n",
       "SVC                               0.683557             0.684780   \n",
       "XGBClassifier                     0.677814             0.680882   \n",
       "\n",
       "                        mean_test_recall  mean_test_f1  mean_test_roc_auc  \n",
       "model_name                                                                 \n",
       "LogisticRegression              0.620301      0.551259           0.697142  \n",
       "RandomForestClassifier          0.627120      0.620468           0.656635  \n",
       "SVC                             0.680409      0.682537           0.731889  \n",
       "XGBClassifier                   0.673840      0.675926           0.742846  "
      ]
     },
     "execution_count": 184,
     "metadata": {},
     "output_type": "execute_result"
    }
   ],
   "source": [
    "results = pd.concat([logr_results, rf_results, svc_results, xg_results])\n",
    "results"
   ]
  },
  {
   "cell_type": "code",
   "execution_count": 185,
   "metadata": {},
   "outputs": [
    {
     "name": "stdout",
     "output_type": "stream",
     "text": [
      "Saving results to 'results/2023-11-30_21-17-53_experiment1_train_results.csv'\n"
     ]
    }
   ],
   "source": [
    "from datetime import datetime\n",
    "\n",
    "now = datetime.now().strftime(\"%Y-%m-%d_%H-%M-%S\")\n",
    "save_filename = f\"results/{now}_experiment1_train_results.csv\"\n",
    "print(f\"Saving results to '{save_filename}'\")\n",
    "results.to_csv(save_filename)"
   ]
  },
  {
   "cell_type": "markdown",
   "metadata": {},
   "source": [
    "Now we get the same information for the test split using each fitted model:"
   ]
  },
  {
   "cell_type": "code",
   "execution_count": 208,
   "metadata": {},
   "outputs": [
    {
     "name": "stdout",
     "output_type": "stream",
     "text": [
      "Results for:\tLogisticRegression\n",
      "\n",
      "ROC AUC:\t0.6688829787234042\n",
      "\n",
      "              precision    recall  f1-score   support\n",
      "\n",
      "      normal     0.7018    0.5872    0.6394      1880\n",
      "     parking     0.6452    0.7505    0.6939      1880\n",
      "\n",
      "    accuracy                         0.6689      3760\n",
      "   macro avg     0.6735    0.6689    0.6667      3760\n",
      "weighted avg     0.6735    0.6689    0.6667      3760\n",
      "\n"
     ]
    },
    {
     "data": {
      "image/png": "[encoded data removed]",
      "text/plain": [
       "<Figure size 640x480 with 2 Axes>"
      ]
     },
     "metadata": {},
     "output_type": "display_data"
    }
   ],
   "source": [
    "from sklearn.metrics import confusion_matrix, classification_report, ConfusionMatrixDisplay, roc_auc_score\n",
    "\n",
    "\n",
    "def get_evaluation_results(model, X_test, y_test):\n",
    "    y_pred = model.predict(X_test)\n",
    "    cfm = confusion_matrix(y_test, y_pred)\n",
    "    model_name = model.best_estimator_.__class__.__name__\n",
    "    print(f\"Results for:\\t{model_name}\\n\")\n",
    "    roc_auc = roc_auc_score(y_test, y_pred)\n",
    "    print(f\"ROC AUC:\\t{roc_auc}\\n\")\n",
    "    cr = classification_report(y_test, y_pred, digits=4, target_names=labels)\n",
    "    print(cr)\n",
    "    cfm_display = ConfusionMatrixDisplay(cfm, display_labels=labels)\n",
    "    cfm_display.plot();\n",
    "    return cfm, cr\n",
    "\n",
    "\n",
    "_ = get_evaluation_results(logr, X_test, y_test)"
   ]
  },
  {
   "cell_type": "code",
   "execution_count": 209,
   "metadata": {},
   "outputs": [
    {
     "name": "stdout",
     "output_type": "stream",
     "text": [
      "Results for:\tRandomForestClassifier\n",
      "\n",
      "ROC AUC:\t0.6002659574468086\n",
      "\n",
      "              precision    recall  f1-score   support\n",
      "\n",
      "      normal     0.5992    0.6059    0.6025      1880\n",
      "     parking     0.6014    0.5947    0.5980      1880\n",
      "\n",
      "    accuracy                         0.6003      3760\n",
      "   macro avg     0.6003    0.6003    0.6003      3760\n",
      "weighted avg     0.6003    0.6003    0.6003      3760\n",
      "\n"
     ]
    },
    {
     "data": {
      "image/png": "[encoded data removed]",
      "text/plain": [
       "<Figure size 640x480 with 2 Axes>"
      ]
     },
     "metadata": {},
     "output_type": "display_data"
    }
   ],
   "source": [
    "_ = get_evaluation_results(rf, X_test, y_test)"
   ]
  },
  {
   "cell_type": "code",
   "execution_count": 210,
   "metadata": {},
   "outputs": [
    {
     "name": "stdout",
     "output_type": "stream",
     "text": [
      "Results for:\tSVC\n",
      "\n",
      "ROC AUC:\t0.6702127659574469\n",
      "\n",
      "              precision    recall  f1-score   support\n",
      "\n",
      "      normal     0.6711    0.6676    0.6693      1880\n",
      "     parking     0.6693    0.6729    0.6711      1880\n",
      "\n",
      "    accuracy                         0.6702      3760\n",
      "   macro avg     0.6702    0.6702    0.6702      3760\n",
      "weighted avg     0.6702    0.6702    0.6702      3760\n",
      "\n"
     ]
    },
    {
     "data": {
      "image/png": "[encoded data removed]",
      "text/plain": [
       "<Figure size 640x480 with 2 Axes>"
      ]
     },
     "metadata": {},
     "output_type": "display_data"
    }
   ],
   "source": [
    "_ = get_evaluation_results(svc, X_test, y_test)"
   ]
  },
  {
   "cell_type": "code",
   "execution_count": 211,
   "metadata": {},
   "outputs": [
    {
     "name": "stdout",
     "output_type": "stream",
     "text": [
      "Results for:\tXGBClassifier\n",
      "\n",
      "ROC AUC:\t0.6795212765957446\n",
      "\n",
      "              precision    recall  f1-score   support\n",
      "\n",
      "      normal     0.6783    0.6830    0.6806      1880\n",
      "     parking     0.6808    0.6761    0.6784      1880\n",
      "\n",
      "    accuracy                         0.6795      3760\n",
      "   macro avg     0.6795    0.6795    0.6795      3760\n",
      "weighted avg     0.6795    0.6795    0.6795      3760\n",
      "\n"
     ]
    },
    {
     "data": {
      "image/png": "[encoded data removed]",
      "text/plain": [
       "<Figure size 640x480 with 2 Axes>"
      ]
     },
     "metadata": {},
     "output_type": "display_data"
    }
   ],
   "source": [
    "_ = get_evaluation_results(xg, X_test, y_test)"
   ]
  },
  {
   "cell_type": "markdown",
   "metadata": {},
   "source": [
    "Based on the results above, we see that `XGBoost` performs the best on the test split. We will use this model for our real-time prediction experiment."
   ]
  },
  {
   "cell_type": "markdown",
   "metadata": {},
   "source": [
    "## Experiment 2: Prediction on user collected data\n",
    "\n",
    "Additional real worl data was collected via a GPS logging mobile application. The data is sampled at 1 second intervals, so we must resample the data to align with the sampling interval of the taxi dataset."
   ]
  },
  {
   "cell_type": "code",
   "execution_count": 241,
   "metadata": {},
   "outputs": [
    {
     "name": "stdout",
     "output_type": "stream",
     "text": [
      "\n",
      "Results for file: 'data/test/trip1.csv'\n",
      "LogisticRegression prediction: 'NORMAL'\n",
      "RandomForestClassifier prediction: 'PARKING'\n",
      "SVC prediction: 'NORMAL'\n",
      "XGBClassifier prediction: 'NORMAL'\n",
      "\n",
      "Results for file: 'data/test/trip2.csv'\n",
      "LogisticRegression prediction: 'NORMAL'\n",
      "RandomForestClassifier prediction: 'NORMAL'\n",
      "SVC prediction: 'NORMAL'\n",
      "XGBClassifier prediction: 'NORMAL'\n",
      "\n",
      "Results for file: 'data/test/trip3.csv'\n",
      "LogisticRegression prediction: 'NORMAL'\n",
      "RandomForestClassifier prediction: 'PARKING'\n",
      "SVC prediction: 'NORMAL'\n",
      "XGBClassifier prediction: 'NORMAL'\n"
     ]
    }
   ],
   "source": [
    "from sklearn.metrics import classification_report\n",
    "\n",
    "current_interval = 60\n",
    "test_data_files = [\"data/test/trip1.csv\", \"data/test/trip2.csv\", \"data/test/trip3.csv\"]\n",
    "resample_num = current_interval // interval\n",
    "models = [logr, rf, svc, xg]\n",
    "\n",
    "for test_file in test_data_files:\n",
    "    print(f\"\\nResults for file: '{test_file}'\")\n",
    "    data = pd.read_csv(test_file)\n",
    "    lats, longs = data[\"latitude\"].values, data[\"longitude\"].values\n",
    "    data = list(zip(lats, longs))[-60:]\n",
    "    length = LineString(data).length\n",
    "\n",
    "    for model in models:\n",
    "        model_name = model.best_estimator_.__class__.__name__\n",
    "        pred = model.predict([[length]])[0]\n",
    "        print(f\"{model_name} prediction: '{labels[pred].upper()}'\")\n",
    "\n"
   ]
  }
 ],
 "metadata": {
  "kernelspec": {
   "display_name": "tcss565",
   "language": "python",
   "name": "python3"
  },
  "language_info": {
   "codemirror_mode": {
    "name": "ipython",
    "version": 3
   },
   "file_extension": ".py",
   "mimetype": "text/x-python",
   "name": "python",
   "nbconvert_exporter": "python",
   "pygments_lexer": "ipython3",
   "version": "3.11.5"
  }
 },
 "nbformat": 4,
 "nbformat_minor": 2
}
