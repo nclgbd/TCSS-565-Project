{
 "cells": [
  {
   "cell_type": "markdown",
   "metadata": {},
   "source": [
    "# Final Project Demo Submission\n",
    "\n",
    "This notebook serves as a demo for the final project submission for the course TCSS 565 - Spatial Databases. The point of this project is to determine whether a user is looking for parking or driving normally based on their GPS data. The training dataset for this is a [Taxi Trajectory dataset](https://www.kaggle.com/datasets/crailtap/taxi-trajectory).\n"
   ]
  },
  {
   "cell_type": "code",
   "execution_count": 1,
   "metadata": {},
   "outputs": [],
   "source": [
    "import json\n",
    "import numpy as np\n",
    "import pandas as pd\n",
    "from rich import inspect\n",
    "from rich.console import Console\n",
    "\n",
    "# GIS imports\n",
    "import geopandas as gpd\n",
    "from shapely.geometry import LineString\n"
   ]
  },
  {
   "cell_type": "code",
   "execution_count": 2,
   "metadata": {},
   "outputs": [],
   "source": [
    "# constants\n",
    "file_path = \"data/train.csv\"\n",
    "interval = 4\n",
    "random_state = 21\n",
    "sampling_interval = 15\n",
    "console = Console()"
   ]
  },
  {
   "cell_type": "markdown",
   "metadata": {},
   "source": [
    "## Data preparation and cleaning\n",
    "\n",
    "We filter out any coordinates strings that have less than `2 * interval` coordinates. This is to ensure the trip is long enough to get an accurate measurement. Due to the large size of the data, we limit the number of rows to 10,000.\n"
   ]
  },
  {
   "cell_type": "code",
   "execution_count": 3,
   "metadata": {},
   "outputs": [
    {
     "data": {
      "text/html": [
       "<div>\n",
       "<style scoped>\n",
       "    .dataframe tbody tr th:only-of-type {\n",
       "        vertical-align: middle;\n",
       "    }\n",
       "\n",
       "    .dataframe tbody tr th {\n",
       "        vertical-align: top;\n",
       "    }\n",
       "\n",
       "    .dataframe thead th {\n",
       "        text-align: right;\n",
       "    }\n",
       "</style>\n",
       "<table border=\"1\" class=\"dataframe\">\n",
       "  <thead>\n",
       "    <tr style=\"text-align: right;\">\n",
       "      <th></th>\n",
       "      <th>TRIP_ID</th>\n",
       "      <th>CALL_TYPE</th>\n",
       "      <th>ORIGIN_CALL</th>\n",
       "      <th>ORIGIN_STAND</th>\n",
       "      <th>TAXI_ID</th>\n",
       "      <th>TIMESTAMP</th>\n",
       "      <th>DAY_TYPE</th>\n",
       "      <th>MISSING_DATA</th>\n",
       "      <th>POLYLINE</th>\n",
       "      <th>traj</th>\n",
       "      <th>lines</th>\n",
       "    </tr>\n",
       "  </thead>\n",
       "  <tbody>\n",
       "    <tr>\n",
       "      <th>0</th>\n",
       "      <td>1372636858620000589</td>\n",
       "      <td>C</td>\n",
       "      <td>NaN</td>\n",
       "      <td>NaN</td>\n",
       "      <td>20000589</td>\n",
       "      <td>1372636858</td>\n",
       "      <td>A</td>\n",
       "      <td>False</td>\n",
       "      <td>[[-8.618643,41.141412],[-8.618499,41.141376],[...</td>\n",
       "      <td>[[-8.618643, 41.141412], [-8.618499, 41.141376...</td>\n",
       "      <td>LINESTRING (-8.61864 41.14141, -8.61850 41.141...</td>\n",
       "    </tr>\n",
       "    <tr>\n",
       "      <th>1</th>\n",
       "      <td>1372637303620000596</td>\n",
       "      <td>B</td>\n",
       "      <td>NaN</td>\n",
       "      <td>7.0</td>\n",
       "      <td>20000596</td>\n",
       "      <td>1372637303</td>\n",
       "      <td>A</td>\n",
       "      <td>False</td>\n",
       "      <td>[[-8.639847,41.159826],[-8.640351,41.159871],[...</td>\n",
       "      <td>[[-8.639847, 41.159826], [-8.640351, 41.159871...</td>\n",
       "      <td>LINESTRING (-8.63985 41.15983, -8.64035 41.159...</td>\n",
       "    </tr>\n",
       "    <tr>\n",
       "      <th>2</th>\n",
       "      <td>1372636951620000320</td>\n",
       "      <td>C</td>\n",
       "      <td>NaN</td>\n",
       "      <td>NaN</td>\n",
       "      <td>20000320</td>\n",
       "      <td>1372636951</td>\n",
       "      <td>A</td>\n",
       "      <td>False</td>\n",
       "      <td>[[-8.612964,41.140359],[-8.613378,41.14035],[-...</td>\n",
       "      <td>[[-8.612964, 41.140359], [-8.613378, 41.14035]...</td>\n",
       "      <td>LINESTRING (-8.61296 41.14036, -8.61338 41.140...</td>\n",
       "    </tr>\n",
       "    <tr>\n",
       "      <th>3</th>\n",
       "      <td>1372636854620000520</td>\n",
       "      <td>C</td>\n",
       "      <td>NaN</td>\n",
       "      <td>NaN</td>\n",
       "      <td>20000520</td>\n",
       "      <td>1372636854</td>\n",
       "      <td>A</td>\n",
       "      <td>False</td>\n",
       "      <td>[[-8.574678,41.151951],[-8.574705,41.151942],[...</td>\n",
       "      <td>[[-8.574678, 41.151951], [-8.574705, 41.151942...</td>\n",
       "      <td>LINESTRING (-8.57468 41.15195, -8.57470 41.151...</td>\n",
       "    </tr>\n",
       "    <tr>\n",
       "      <th>4</th>\n",
       "      <td>1372637091620000337</td>\n",
       "      <td>C</td>\n",
       "      <td>NaN</td>\n",
       "      <td>NaN</td>\n",
       "      <td>20000337</td>\n",
       "      <td>1372637091</td>\n",
       "      <td>A</td>\n",
       "      <td>False</td>\n",
       "      <td>[[-8.645994,41.18049],[-8.645949,41.180517],[-...</td>\n",
       "      <td>[[-8.645994, 41.18049], [-8.645949, 41.180517]...</td>\n",
       "      <td>LINESTRING (-8.64599 41.18049, -8.64595 41.180...</td>\n",
       "    </tr>\n",
       "    <tr>\n",
       "      <th>...</th>\n",
       "      <td>...</td>\n",
       "      <td>...</td>\n",
       "      <td>...</td>\n",
       "      <td>...</td>\n",
       "      <td>...</td>\n",
       "      <td>...</td>\n",
       "      <td>...</td>\n",
       "      <td>...</td>\n",
       "      <td>...</td>\n",
       "      <td>...</td>\n",
       "      <td>...</td>\n",
       "    </tr>\n",
       "    <tr>\n",
       "      <th>9995</th>\n",
       "      <td>1372839081620000157</td>\n",
       "      <td>A</td>\n",
       "      <td>2002.0</td>\n",
       "      <td>NaN</td>\n",
       "      <td>20000157</td>\n",
       "      <td>1372839081</td>\n",
       "      <td>A</td>\n",
       "      <td>False</td>\n",
       "      <td>[[-8.66808,41.154651],[-8.668089,41.154651],[-...</td>\n",
       "      <td>[[-8.66808, 41.154651], [-8.668089, 41.154651]...</td>\n",
       "      <td>LINESTRING (-8.66808 41.15465, -8.66809 41.154...</td>\n",
       "    </tr>\n",
       "    <tr>\n",
       "      <th>9996</th>\n",
       "      <td>1372839306620000084</td>\n",
       "      <td>A</td>\n",
       "      <td>2001.0</td>\n",
       "      <td>NaN</td>\n",
       "      <td>20000084</td>\n",
       "      <td>1372839306</td>\n",
       "      <td>A</td>\n",
       "      <td>False</td>\n",
       "      <td>[[-8.583129,41.164731],[-8.583129,41.164785],[...</td>\n",
       "      <td>[[-8.583129, 41.164731], [-8.583129, 41.164785...</td>\n",
       "      <td>LINESTRING (-8.58313 41.16473, -8.58313 41.164...</td>\n",
       "    </tr>\n",
       "    <tr>\n",
       "      <th>9997</th>\n",
       "      <td>1372837509620000467</td>\n",
       "      <td>C</td>\n",
       "      <td>NaN</td>\n",
       "      <td>NaN</td>\n",
       "      <td>20000467</td>\n",
       "      <td>1372837509</td>\n",
       "      <td>A</td>\n",
       "      <td>False</td>\n",
       "      <td>[[-8.600103,41.18274],[-8.599806,41.182722],[-...</td>\n",
       "      <td>[[-8.600103, 41.18274], [-8.599806, 41.182722]...</td>\n",
       "      <td>LINESTRING (-8.60010 41.18274, -8.59981 41.182...</td>\n",
       "    </tr>\n",
       "    <tr>\n",
       "      <th>9998</th>\n",
       "      <td>1372822350620000688</td>\n",
       "      <td>A</td>\n",
       "      <td>53492.0</td>\n",
       "      <td>NaN</td>\n",
       "      <td>20000688</td>\n",
       "      <td>1372822350</td>\n",
       "      <td>A</td>\n",
       "      <td>False</td>\n",
       "      <td>[[-8.5878,41.174568],[-8.587782,41.174595],[-8...</td>\n",
       "      <td>[[-8.5878, 41.174568], [-8.587782, 41.174595],...</td>\n",
       "      <td>LINESTRING (-8.58780 41.17457, -8.58778 41.174...</td>\n",
       "    </tr>\n",
       "    <tr>\n",
       "      <th>9999</th>\n",
       "      <td>1372838111620000104</td>\n",
       "      <td>B</td>\n",
       "      <td>NaN</td>\n",
       "      <td>11.0</td>\n",
       "      <td>20000104</td>\n",
       "      <td>1372838111</td>\n",
       "      <td>A</td>\n",
       "      <td>False</td>\n",
       "      <td>[[-8.613144,41.166774],[-8.613333,41.166675],[...</td>\n",
       "      <td>[[-8.613144, 41.166774], [-8.613333, 41.166675...</td>\n",
       "      <td>LINESTRING (-8.61314 41.16677, -8.61333 41.166...</td>\n",
       "    </tr>\n",
       "  </tbody>\n",
       "</table>\n",
       "<p>9705 rows × 11 columns</p>\n",
       "</div>"
      ],
      "text/plain": [
       "                  TRIP_ID CALL_TYPE  ORIGIN_CALL  ORIGIN_STAND   TAXI_ID  \\\n",
       "0     1372636858620000589         C          NaN           NaN  20000589   \n",
       "1     1372637303620000596         B          NaN           7.0  20000596   \n",
       "2     1372636951620000320         C          NaN           NaN  20000320   \n",
       "3     1372636854620000520         C          NaN           NaN  20000520   \n",
       "4     1372637091620000337         C          NaN           NaN  20000337   \n",
       "...                   ...       ...          ...           ...       ...   \n",
       "9995  1372839081620000157         A       2002.0           NaN  20000157   \n",
       "9996  1372839306620000084         A       2001.0           NaN  20000084   \n",
       "9997  1372837509620000467         C          NaN           NaN  20000467   \n",
       "9998  1372822350620000688         A      53492.0           NaN  20000688   \n",
       "9999  1372838111620000104         B          NaN          11.0  20000104   \n",
       "\n",
       "       TIMESTAMP DAY_TYPE  MISSING_DATA  \\\n",
       "0     1372636858        A         False   \n",
       "1     1372637303        A         False   \n",
       "2     1372636951        A         False   \n",
       "3     1372636854        A         False   \n",
       "4     1372637091        A         False   \n",
       "...          ...      ...           ...   \n",
       "9995  1372839081        A         False   \n",
       "9996  1372839306        A         False   \n",
       "9997  1372837509        A         False   \n",
       "9998  1372822350        A         False   \n",
       "9999  1372838111        A         False   \n",
       "\n",
       "                                               POLYLINE  \\\n",
       "0     [[-8.618643,41.141412],[-8.618499,41.141376],[...   \n",
       "1     [[-8.639847,41.159826],[-8.640351,41.159871],[...   \n",
       "2     [[-8.612964,41.140359],[-8.613378,41.14035],[-...   \n",
       "3     [[-8.574678,41.151951],[-8.574705,41.151942],[...   \n",
       "4     [[-8.645994,41.18049],[-8.645949,41.180517],[-...   \n",
       "...                                                 ...   \n",
       "9995  [[-8.66808,41.154651],[-8.668089,41.154651],[-...   \n",
       "9996  [[-8.583129,41.164731],[-8.583129,41.164785],[...   \n",
       "9997  [[-8.600103,41.18274],[-8.599806,41.182722],[-...   \n",
       "9998  [[-8.5878,41.174568],[-8.587782,41.174595],[-8...   \n",
       "9999  [[-8.613144,41.166774],[-8.613333,41.166675],[...   \n",
       "\n",
       "                                                   traj  \\\n",
       "0     [[-8.618643, 41.141412], [-8.618499, 41.141376...   \n",
       "1     [[-8.639847, 41.159826], [-8.640351, 41.159871...   \n",
       "2     [[-8.612964, 41.140359], [-8.613378, 41.14035]...   \n",
       "3     [[-8.574678, 41.151951], [-8.574705, 41.151942...   \n",
       "4     [[-8.645994, 41.18049], [-8.645949, 41.180517]...   \n",
       "...                                                 ...   \n",
       "9995  [[-8.66808, 41.154651], [-8.668089, 41.154651]...   \n",
       "9996  [[-8.583129, 41.164731], [-8.583129, 41.164785...   \n",
       "9997  [[-8.600103, 41.18274], [-8.599806, 41.182722]...   \n",
       "9998  [[-8.5878, 41.174568], [-8.587782, 41.174595],...   \n",
       "9999  [[-8.613144, 41.166774], [-8.613333, 41.166675...   \n",
       "\n",
       "                                                  lines  \n",
       "0     LINESTRING (-8.61864 41.14141, -8.61850 41.141...  \n",
       "1     LINESTRING (-8.63985 41.15983, -8.64035 41.159...  \n",
       "2     LINESTRING (-8.61296 41.14036, -8.61338 41.140...  \n",
       "3     LINESTRING (-8.57468 41.15195, -8.57470 41.151...  \n",
       "4     LINESTRING (-8.64599 41.18049, -8.64595 41.180...  \n",
       "...                                                 ...  \n",
       "9995  LINESTRING (-8.66808 41.15465, -8.66809 41.154...  \n",
       "9996  LINESTRING (-8.58313 41.16473, -8.58313 41.164...  \n",
       "9997  LINESTRING (-8.60010 41.18274, -8.59981 41.182...  \n",
       "9998  LINESTRING (-8.58780 41.17457, -8.58778 41.174...  \n",
       "9999  LINESTRING (-8.61314 41.16677, -8.61333 41.166...  \n",
       "\n",
       "[9705 rows x 11 columns]"
      ]
     },
     "execution_count": 3,
     "metadata": {},
     "output_type": "execute_result"
    }
   ],
   "source": [
    "def load_data(path: str, nrows=10000):\n",
    "    df = pd.read_csv(path, nrows=nrows)\n",
    "    return df\n",
    "\n",
    "\n",
    "def preprocess_data(df: pd.DataFrame):\n",
    "    def prepare_linestrings(x):\n",
    "        return LineString(x) #, srid=4326)\n",
    "\n",
    "    df[\"traj\"] = json.loads(\"[\" + df.POLYLINE.str.cat(sep=\",\") + \"]\")\n",
    "    df = df[df.traj.str.len() > interval * 2].copy()\n",
    "    df[\"lines\"] = gpd.GeoSeries(df.traj.apply(prepare_linestrings))\n",
    "    gdf = gpd.GeoDataFrame(df, geometry=\"lines\")\n",
    "    return gdf\n",
    "\n",
    "\n",
    "df = load_data(file_path)\n",
    "gdf = preprocess_data(df)\n",
    "gdf"
   ]
  },
  {
   "cell_type": "markdown",
   "metadata": {},
   "source": [
    "Data with long stretches of straight travel like the one shown above will be removed from the visualization using the method created by Michael Ganger (credit found at top of section)"
   ]
  },
  {
   "cell_type": "code",
   "execution_count": 4,
   "metadata": {},
   "outputs": [],
   "source": [
    "from sklearn.metrics import DistanceMetric\n",
    "\n",
    "metric = DistanceMetric.get_metric(\"haversine\")\n",
    "dt = sampling_interval / 3600  # 15 second intervals over the course of 1 hour (3600 seconds)\n",
    "R = 6371  # 6371 is the radius of the earth in kilometers\n",
    "\n",
    "\n",
    "def fit_rational(x, y, w=1):\n",
    "    ws = np.sqrt(w)\n",
    "    (a, b), _, _, _ = np.linalg.lstsq(\n",
    "        np.column_stack([x, -y]) * ws[:, None], x * y * ws, rcond=None\n",
    "    )\n",
    "    return a * x / (x + b), (a, b)\n",
    "\n",
    "\n",
    "def dist_sequence(coords):\n",
    "    n = len(coords)\n",
    "    dist = R * metric.pairwise(np.radians(coords)).ravel()\n",
    "    offsets = (np.arange(n)[:, None] - np.arange(n)).ravel()\n",
    "    return pd.DataFrame(\n",
    "        [offsets[offsets > 0] * dt * 60, dist[offsets > 0]],\n",
    "        index=[\"time_offset\", \"distance\"],\n",
    "    ).T\n",
    "\n",
    "\n",
    "dist_ungrouped = pd.concat(gdf.traj.apply(dist_sequence).values).set_index(\"time_offset\")\n",
    "dists = np.sqrt((dist_ungrouped**2).groupby(\"time_offset\").mean() / 2)\n",
    "thresh = -2\n",
    "dists[\"curve\"], coeffs = fit_rational(\n",
    "    dists.index.values,\n",
    "    dists.distance.values,\n",
    "    ((1 + np.arange(len(dists))) / (1 + len(dists))) ** -3,\n",
    ")\n",
    "\n",
    "\n",
    "def likelihood(coords, ab):\n",
    "    n = len(coords)\n",
    "    a, b = coeffs\n",
    "    dist = R * metric.pairwise(np.radians(coords))\n",
    "    time = dt * 60 * np.abs(np.arange(n)[:, None] - np.arange(n))\n",
    "    sigma = a * time / (time + b) + np.eye(n)\n",
    "    lr = -0.5 * (dist**2 / sigma**2).sum(axis=1)\n",
    "    return lr\n",
    "\n",
    "\n",
    "def norm_lr(lr):\n",
    "    return (lr - lr.max()) / len(lr)\n",
    "\n",
    "\n",
    "bad_routes = gdf.traj.apply(\n",
    "    lambda t: (norm_lr(likelihood(t, coeffs)) < thresh).any()\n",
    ").values\n"
   ]
  },
  {
   "cell_type": "code",
   "execution_count": 5,
   "metadata": {},
   "outputs": [
    {
     "data": {
      "text/html": [
       "<div>\n",
       "<style scoped>\n",
       "    .dataframe tbody tr th:only-of-type {\n",
       "        vertical-align: middle;\n",
       "    }\n",
       "\n",
       "    .dataframe tbody tr th {\n",
       "        vertical-align: top;\n",
       "    }\n",
       "\n",
       "    .dataframe thead th {\n",
       "        text-align: right;\n",
       "    }\n",
       "</style>\n",
       "<table border=\"1\" class=\"dataframe\">\n",
       "  <thead>\n",
       "    <tr style=\"text-align: right;\">\n",
       "      <th></th>\n",
       "      <th>TRIP_ID</th>\n",
       "      <th>CALL_TYPE</th>\n",
       "      <th>ORIGIN_CALL</th>\n",
       "      <th>ORIGIN_STAND</th>\n",
       "      <th>TAXI_ID</th>\n",
       "      <th>TIMESTAMP</th>\n",
       "      <th>DAY_TYPE</th>\n",
       "      <th>MISSING_DATA</th>\n",
       "      <th>POLYLINE</th>\n",
       "      <th>traj</th>\n",
       "      <th>lines</th>\n",
       "    </tr>\n",
       "  </thead>\n",
       "  <tbody>\n",
       "    <tr>\n",
       "      <th>0</th>\n",
       "      <td>1372636858620000589</td>\n",
       "      <td>C</td>\n",
       "      <td>NaN</td>\n",
       "      <td>NaN</td>\n",
       "      <td>20000589</td>\n",
       "      <td>1372636858</td>\n",
       "      <td>A</td>\n",
       "      <td>False</td>\n",
       "      <td>[[-8.618643,41.141412],[-8.618499,41.141376],[...</td>\n",
       "      <td>[[-8.618643, 41.141412], [-8.618499, 41.141376...</td>\n",
       "      <td>LINESTRING (-8.61864 41.14141, -8.61850 41.141...</td>\n",
       "    </tr>\n",
       "    <tr>\n",
       "      <th>1</th>\n",
       "      <td>1372637303620000596</td>\n",
       "      <td>B</td>\n",
       "      <td>NaN</td>\n",
       "      <td>7.0</td>\n",
       "      <td>20000596</td>\n",
       "      <td>1372637303</td>\n",
       "      <td>A</td>\n",
       "      <td>False</td>\n",
       "      <td>[[-8.639847,41.159826],[-8.640351,41.159871],[...</td>\n",
       "      <td>[[-8.639847, 41.159826], [-8.640351, 41.159871...</td>\n",
       "      <td>LINESTRING (-8.63985 41.15983, -8.64035 41.159...</td>\n",
       "    </tr>\n",
       "    <tr>\n",
       "      <th>3</th>\n",
       "      <td>1372636854620000520</td>\n",
       "      <td>C</td>\n",
       "      <td>NaN</td>\n",
       "      <td>NaN</td>\n",
       "      <td>20000520</td>\n",
       "      <td>1372636854</td>\n",
       "      <td>A</td>\n",
       "      <td>False</td>\n",
       "      <td>[[-8.574678,41.151951],[-8.574705,41.151942],[...</td>\n",
       "      <td>[[-8.574678, 41.151951], [-8.574705, 41.151942...</td>\n",
       "      <td>LINESTRING (-8.57468 41.15195, -8.57470 41.151...</td>\n",
       "    </tr>\n",
       "    <tr>\n",
       "      <th>4</th>\n",
       "      <td>1372637091620000337</td>\n",
       "      <td>C</td>\n",
       "      <td>NaN</td>\n",
       "      <td>NaN</td>\n",
       "      <td>20000337</td>\n",
       "      <td>1372637091</td>\n",
       "      <td>A</td>\n",
       "      <td>False</td>\n",
       "      <td>[[-8.645994,41.18049],[-8.645949,41.180517],[-...</td>\n",
       "      <td>[[-8.645994, 41.18049], [-8.645949, 41.180517]...</td>\n",
       "      <td>LINESTRING (-8.64599 41.18049, -8.64595 41.180...</td>\n",
       "    </tr>\n",
       "    <tr>\n",
       "      <th>5</th>\n",
       "      <td>1372636965620000231</td>\n",
       "      <td>C</td>\n",
       "      <td>NaN</td>\n",
       "      <td>NaN</td>\n",
       "      <td>20000231</td>\n",
       "      <td>1372636965</td>\n",
       "      <td>A</td>\n",
       "      <td>False</td>\n",
       "      <td>[[-8.615502,41.140674],[-8.614854,41.140926],[...</td>\n",
       "      <td>[[-8.615502, 41.140674], [-8.614854, 41.140926...</td>\n",
       "      <td>LINESTRING (-8.61550 41.14067, -8.61485 41.140...</td>\n",
       "    </tr>\n",
       "    <tr>\n",
       "      <th>...</th>\n",
       "      <td>...</td>\n",
       "      <td>...</td>\n",
       "      <td>...</td>\n",
       "      <td>...</td>\n",
       "      <td>...</td>\n",
       "      <td>...</td>\n",
       "      <td>...</td>\n",
       "      <td>...</td>\n",
       "      <td>...</td>\n",
       "      <td>...</td>\n",
       "      <td>...</td>\n",
       "    </tr>\n",
       "    <tr>\n",
       "      <th>9995</th>\n",
       "      <td>1372839081620000157</td>\n",
       "      <td>A</td>\n",
       "      <td>2002.0</td>\n",
       "      <td>NaN</td>\n",
       "      <td>20000157</td>\n",
       "      <td>1372839081</td>\n",
       "      <td>A</td>\n",
       "      <td>False</td>\n",
       "      <td>[[-8.66808,41.154651],[-8.668089,41.154651],[-...</td>\n",
       "      <td>[[-8.66808, 41.154651], [-8.668089, 41.154651]...</td>\n",
       "      <td>LINESTRING (-8.66808 41.15465, -8.66809 41.154...</td>\n",
       "    </tr>\n",
       "    <tr>\n",
       "      <th>9996</th>\n",
       "      <td>1372839306620000084</td>\n",
       "      <td>A</td>\n",
       "      <td>2001.0</td>\n",
       "      <td>NaN</td>\n",
       "      <td>20000084</td>\n",
       "      <td>1372839306</td>\n",
       "      <td>A</td>\n",
       "      <td>False</td>\n",
       "      <td>[[-8.583129,41.164731],[-8.583129,41.164785],[...</td>\n",
       "      <td>[[-8.583129, 41.164731], [-8.583129, 41.164785...</td>\n",
       "      <td>LINESTRING (-8.58313 41.16473, -8.58313 41.164...</td>\n",
       "    </tr>\n",
       "    <tr>\n",
       "      <th>9997</th>\n",
       "      <td>1372837509620000467</td>\n",
       "      <td>C</td>\n",
       "      <td>NaN</td>\n",
       "      <td>NaN</td>\n",
       "      <td>20000467</td>\n",
       "      <td>1372837509</td>\n",
       "      <td>A</td>\n",
       "      <td>False</td>\n",
       "      <td>[[-8.600103,41.18274],[-8.599806,41.182722],[-...</td>\n",
       "      <td>[[-8.600103, 41.18274], [-8.599806, 41.182722]...</td>\n",
       "      <td>LINESTRING (-8.60010 41.18274, -8.59981 41.182...</td>\n",
       "    </tr>\n",
       "    <tr>\n",
       "      <th>9998</th>\n",
       "      <td>1372822350620000688</td>\n",
       "      <td>A</td>\n",
       "      <td>53492.0</td>\n",
       "      <td>NaN</td>\n",
       "      <td>20000688</td>\n",
       "      <td>1372822350</td>\n",
       "      <td>A</td>\n",
       "      <td>False</td>\n",
       "      <td>[[-8.5878,41.174568],[-8.587782,41.174595],[-8...</td>\n",
       "      <td>[[-8.5878, 41.174568], [-8.587782, 41.174595],...</td>\n",
       "      <td>LINESTRING (-8.58780 41.17457, -8.58778 41.174...</td>\n",
       "    </tr>\n",
       "    <tr>\n",
       "      <th>9999</th>\n",
       "      <td>1372838111620000104</td>\n",
       "      <td>B</td>\n",
       "      <td>NaN</td>\n",
       "      <td>11.0</td>\n",
       "      <td>20000104</td>\n",
       "      <td>1372838111</td>\n",
       "      <td>A</td>\n",
       "      <td>False</td>\n",
       "      <td>[[-8.613144,41.166774],[-8.613333,41.166675],[...</td>\n",
       "      <td>[[-8.613144, 41.166774], [-8.613333, 41.166675...</td>\n",
       "      <td>LINESTRING (-8.61314 41.16677, -8.61333 41.166...</td>\n",
       "    </tr>\n",
       "  </tbody>\n",
       "</table>\n",
       "<p>9399 rows × 11 columns</p>\n",
       "</div>"
      ],
      "text/plain": [
       "                  TRIP_ID CALL_TYPE  ORIGIN_CALL  ORIGIN_STAND   TAXI_ID  \\\n",
       "0     1372636858620000589         C          NaN           NaN  20000589   \n",
       "1     1372637303620000596         B          NaN           7.0  20000596   \n",
       "3     1372636854620000520         C          NaN           NaN  20000520   \n",
       "4     1372637091620000337         C          NaN           NaN  20000337   \n",
       "5     1372636965620000231         C          NaN           NaN  20000231   \n",
       "...                   ...       ...          ...           ...       ...   \n",
       "9995  1372839081620000157         A       2002.0           NaN  20000157   \n",
       "9996  1372839306620000084         A       2001.0           NaN  20000084   \n",
       "9997  1372837509620000467         C          NaN           NaN  20000467   \n",
       "9998  1372822350620000688         A      53492.0           NaN  20000688   \n",
       "9999  1372838111620000104         B          NaN          11.0  20000104   \n",
       "\n",
       "       TIMESTAMP DAY_TYPE  MISSING_DATA  \\\n",
       "0     1372636858        A         False   \n",
       "1     1372637303        A         False   \n",
       "3     1372636854        A         False   \n",
       "4     1372637091        A         False   \n",
       "5     1372636965        A         False   \n",
       "...          ...      ...           ...   \n",
       "9995  1372839081        A         False   \n",
       "9996  1372839306        A         False   \n",
       "9997  1372837509        A         False   \n",
       "9998  1372822350        A         False   \n",
       "9999  1372838111        A         False   \n",
       "\n",
       "                                               POLYLINE  \\\n",
       "0     [[-8.618643,41.141412],[-8.618499,41.141376],[...   \n",
       "1     [[-8.639847,41.159826],[-8.640351,41.159871],[...   \n",
       "3     [[-8.574678,41.151951],[-8.574705,41.151942],[...   \n",
       "4     [[-8.645994,41.18049],[-8.645949,41.180517],[-...   \n",
       "5     [[-8.615502,41.140674],[-8.614854,41.140926],[...   \n",
       "...                                                 ...   \n",
       "9995  [[-8.66808,41.154651],[-8.668089,41.154651],[-...   \n",
       "9996  [[-8.583129,41.164731],[-8.583129,41.164785],[...   \n",
       "9997  [[-8.600103,41.18274],[-8.599806,41.182722],[-...   \n",
       "9998  [[-8.5878,41.174568],[-8.587782,41.174595],[-8...   \n",
       "9999  [[-8.613144,41.166774],[-8.613333,41.166675],[...   \n",
       "\n",
       "                                                   traj  \\\n",
       "0     [[-8.618643, 41.141412], [-8.618499, 41.141376...   \n",
       "1     [[-8.639847, 41.159826], [-8.640351, 41.159871...   \n",
       "3     [[-8.574678, 41.151951], [-8.574705, 41.151942...   \n",
       "4     [[-8.645994, 41.18049], [-8.645949, 41.180517]...   \n",
       "5     [[-8.615502, 41.140674], [-8.614854, 41.140926...   \n",
       "...                                                 ...   \n",
       "9995  [[-8.66808, 41.154651], [-8.668089, 41.154651]...   \n",
       "9996  [[-8.583129, 41.164731], [-8.583129, 41.164785...   \n",
       "9997  [[-8.600103, 41.18274], [-8.599806, 41.182722]...   \n",
       "9998  [[-8.5878, 41.174568], [-8.587782, 41.174595],...   \n",
       "9999  [[-8.613144, 41.166774], [-8.613333, 41.166675...   \n",
       "\n",
       "                                                  lines  \n",
       "0     LINESTRING (-8.61864 41.14141, -8.61850 41.141...  \n",
       "1     LINESTRING (-8.63985 41.15983, -8.64035 41.159...  \n",
       "3     LINESTRING (-8.57468 41.15195, -8.57470 41.151...  \n",
       "4     LINESTRING (-8.64599 41.18049, -8.64595 41.180...  \n",
       "5     LINESTRING (-8.61550 41.14067, -8.61485 41.140...  \n",
       "...                                                 ...  \n",
       "9995  LINESTRING (-8.66808 41.15465, -8.66809 41.154...  \n",
       "9996  LINESTRING (-8.58313 41.16473, -8.58313 41.164...  \n",
       "9997  LINESTRING (-8.60010 41.18274, -8.59981 41.182...  \n",
       "9998  LINESTRING (-8.58780 41.17457, -8.58778 41.174...  \n",
       "9999  LINESTRING (-8.61314 41.16677, -8.61333 41.166...  \n",
       "\n",
       "[9399 rows x 11 columns]"
      ]
     },
     "execution_count": 5,
     "metadata": {},
     "output_type": "execute_result"
    }
   ],
   "source": [
    "df = gdf[~bad_routes]\n",
    "df"
   ]
  },
  {
   "cell_type": "code",
   "execution_count": 6,
   "metadata": {},
   "outputs": [
    {
     "data": {
      "image/png": "[encoded data removed]",
      "text/plain": [
       "<Figure size 640x480 with 1 Axes>"
      ]
     },
     "metadata": {},
     "output_type": "display_data"
    }
   ],
   "source": [
    "taxi_train_data = df.copy()\n",
    "taxi_train_data[\"lines\"].plot();"
   ]
  },
  {
   "cell_type": "code",
   "execution_count": 7,
   "metadata": {},
   "outputs": [
    {
     "data": {
      "image/svg+xml": [
       "<svg xmlns=\"http://www.w3.org/2000/svg\" xmlns:xlink=\"http://www.w3.org/1999/xlink\" width=\"100.0\" height=\"100.0\" viewBox=\"-8.60136948 41.146247519999996 0.005430960000001761 0.005520960000005459\" preserveAspectRatio=\"xMinYMin meet\"><g transform=\"matrix(1,0,0,-1,0,82.29801599999999)\"><polyline fill=\"none\" stroke=\"#66cc99\" stroke-width=\"0.00011041920000010918\" points=\"-8.601093,41.151564 -8.601165,41.151411 -8.600742,41.151078 -8.600409,41.150988 -8.600166,41.150799 -8.600382,41.149539 -8.599419,41.149323 -8.598699,41.148738 -8.598654,41.148567 -8.598672,41.148576 -8.598375,41.148378 -8.597844,41.147496 -8.597214,41.146659 -8.596143,41.146452\" opacity=\"0.8\" /></g></svg>"
      ],
      "text/plain": [
       "<LINESTRING (-8.601 41.152, -8.601 41.151, -8.601 41.151, -8.6 41.151, -8.6 ...>"
      ]
     },
     "execution_count": 7,
     "metadata": {},
     "output_type": "execute_result"
    }
   ],
   "source": [
    "s = taxi_train_data.sample()[\"lines\"].values[0]\n",
    "s"
   ]
  },
  {
   "cell_type": "markdown",
   "metadata": {},
   "source": [
    "Here, we grab the last 4 GPS coordinates from the `LineString`. This represents the end of a taxi trip, where a taxi is presumably parking to let a passenger out of their car. We recognize that this is not a perfect solution, as a taxi could be parking for other reasons, but we believe this is a good enough approximation for our purposes."
   ]
  },
  {
   "cell_type": "code",
   "execution_count": 8,
   "metadata": {},
   "outputs": [
    {
     "data": {
      "image/svg+xml": [
       "<svg xmlns=\"http://www.w3.org/2000/svg\" xmlns:xlink=\"http://www.w3.org/1999/xlink\" width=\"100.0\" height=\"100.0\" viewBox=\"-8.59846428 41.14636272 0.0024105599999995064 0.002104559999999367\" preserveAspectRatio=\"xMinYMin meet\"><g transform=\"matrix(1,0,0,-1,0,82.29482999999999)\"><polyline fill=\"none\" stroke=\"#66cc99\" stroke-width=\"4.821119999999013e-05\" points=\"-8.598375,41.148378 -8.597844,41.147496 -8.597214,41.146659 -8.596143,41.146452\" opacity=\"0.8\" /></g></svg>"
      ],
      "text/plain": [
       "<LINESTRING (-8.598 41.148, -8.598 41.147, -8.597 41.147, -8.596 41.146)>"
      ]
     },
     "execution_count": 8,
     "metadata": {},
     "output_type": "execute_result"
    }
   ],
   "source": [
    "lat, lon = s.coords.xy\n",
    "list(zip(lat, lon))[-4:]\n",
    "vis = LineString(list(zip(lat, lon))[-4:])\n",
    "vis"
   ]
  },
  {
   "cell_type": "markdown",
   "metadata": {},
   "source": [
    "We calculate the distance by using the `LineString` object"
   ]
  },
  {
   "cell_type": "code",
   "execution_count": 9,
   "metadata": {},
   "outputs": [
    {
     "data": {
      "text/plain": [
       "1.9106943508410085e-15"
      ]
     },
     "execution_count": 9,
     "metadata": {},
     "output_type": "execute_result"
    }
   ],
   "source": [
    "s.distance(s.interpolate(0.5, normalized=True))"
   ]
  },
  {
   "cell_type": "code",
   "execution_count": 10,
   "metadata": {},
   "outputs": [
    {
     "data": {
      "text/html": [
       "<div>\n",
       "<style scoped>\n",
       "    .dataframe tbody tr th:only-of-type {\n",
       "        vertical-align: middle;\n",
       "    }\n",
       "\n",
       "    .dataframe tbody tr th {\n",
       "        vertical-align: top;\n",
       "    }\n",
       "\n",
       "    .dataframe thead th {\n",
       "        text-align: right;\n",
       "    }\n",
       "</style>\n",
       "<table border=\"1\" class=\"dataframe\">\n",
       "  <thead>\n",
       "    <tr style=\"text-align: right;\">\n",
       "      <th></th>\n",
       "      <th>TRIP_ID</th>\n",
       "      <th>CALL_TYPE</th>\n",
       "      <th>ORIGIN_CALL</th>\n",
       "      <th>ORIGIN_STAND</th>\n",
       "      <th>TAXI_ID</th>\n",
       "      <th>TIMESTAMP</th>\n",
       "      <th>DAY_TYPE</th>\n",
       "      <th>MISSING_DATA</th>\n",
       "      <th>POLYLINE</th>\n",
       "      <th>traj</th>\n",
       "      <th>lines</th>\n",
       "      <th>distances</th>\n",
       "    </tr>\n",
       "  </thead>\n",
       "  <tbody>\n",
       "    <tr>\n",
       "      <th>0</th>\n",
       "      <td>1372636858620000589</td>\n",
       "      <td>C</td>\n",
       "      <td>NaN</td>\n",
       "      <td>NaN</td>\n",
       "      <td>20000589</td>\n",
       "      <td>1372636858</td>\n",
       "      <td>A</td>\n",
       "      <td>False</td>\n",
       "      <td>[[-8.618643,41.141412],[-8.618499,41.141376],[...</td>\n",
       "      <td>[[-8.618643, 41.141412], [-8.618499, 41.141376...</td>\n",
       "      <td>LINESTRING (-8.61864 41.14141, -8.61850 41.141...</td>\n",
       "      <td>0.028718</td>\n",
       "    </tr>\n",
       "    <tr>\n",
       "      <th>1</th>\n",
       "      <td>1372637303620000596</td>\n",
       "      <td>B</td>\n",
       "      <td>NaN</td>\n",
       "      <td>7.0</td>\n",
       "      <td>20000596</td>\n",
       "      <td>1372637303</td>\n",
       "      <td>A</td>\n",
       "      <td>False</td>\n",
       "      <td>[[-8.639847,41.159826],[-8.640351,41.159871],[...</td>\n",
       "      <td>[[-8.639847, 41.159826], [-8.640351, 41.159871...</td>\n",
       "      <td>LINESTRING (-8.63985 41.15983, -8.64035 41.159...</td>\n",
       "      <td>0.039557</td>\n",
       "    </tr>\n",
       "    <tr>\n",
       "      <th>3</th>\n",
       "      <td>1372636854620000520</td>\n",
       "      <td>C</td>\n",
       "      <td>NaN</td>\n",
       "      <td>NaN</td>\n",
       "      <td>20000520</td>\n",
       "      <td>1372636854</td>\n",
       "      <td>A</td>\n",
       "      <td>False</td>\n",
       "      <td>[[-8.574678,41.151951],[-8.574705,41.151942],[...</td>\n",
       "      <td>[[-8.574678, 41.151951], [-8.574705, 41.151942...</td>\n",
       "      <td>LINESTRING (-8.57468 41.15195, -8.57470 41.151...</td>\n",
       "      <td>0.091168</td>\n",
       "    </tr>\n",
       "    <tr>\n",
       "      <th>4</th>\n",
       "      <td>1372637091620000337</td>\n",
       "      <td>C</td>\n",
       "      <td>NaN</td>\n",
       "      <td>NaN</td>\n",
       "      <td>20000337</td>\n",
       "      <td>1372637091</td>\n",
       "      <td>A</td>\n",
       "      <td>False</td>\n",
       "      <td>[[-8.645994,41.18049],[-8.645949,41.180517],[-...</td>\n",
       "      <td>[[-8.645994, 41.18049], [-8.645949, 41.180517]...</td>\n",
       "      <td>LINESTRING (-8.64599 41.18049, -8.64595 41.180...</td>\n",
       "      <td>0.053230</td>\n",
       "    </tr>\n",
       "    <tr>\n",
       "      <th>5</th>\n",
       "      <td>1372636965620000231</td>\n",
       "      <td>C</td>\n",
       "      <td>NaN</td>\n",
       "      <td>NaN</td>\n",
       "      <td>20000231</td>\n",
       "      <td>1372636965</td>\n",
       "      <td>A</td>\n",
       "      <td>False</td>\n",
       "      <td>[[-8.615502,41.140674],[-8.614854,41.140926],[...</td>\n",
       "      <td>[[-8.615502, 41.140674], [-8.614854, 41.140926...</td>\n",
       "      <td>LINESTRING (-8.61550 41.14067, -8.61485 41.140...</td>\n",
       "      <td>0.060772</td>\n",
       "    </tr>\n",
       "  </tbody>\n",
       "</table>\n",
       "</div>"
      ],
      "text/plain": [
       "               TRIP_ID CALL_TYPE  ORIGIN_CALL  ORIGIN_STAND   TAXI_ID  \\\n",
       "0  1372636858620000589         C          NaN           NaN  20000589   \n",
       "1  1372637303620000596         B          NaN           7.0  20000596   \n",
       "3  1372636854620000520         C          NaN           NaN  20000520   \n",
       "4  1372637091620000337         C          NaN           NaN  20000337   \n",
       "5  1372636965620000231         C          NaN           NaN  20000231   \n",
       "\n",
       "    TIMESTAMP DAY_TYPE  MISSING_DATA  \\\n",
       "0  1372636858        A         False   \n",
       "1  1372637303        A         False   \n",
       "3  1372636854        A         False   \n",
       "4  1372637091        A         False   \n",
       "5  1372636965        A         False   \n",
       "\n",
       "                                            POLYLINE  \\\n",
       "0  [[-8.618643,41.141412],[-8.618499,41.141376],[...   \n",
       "1  [[-8.639847,41.159826],[-8.640351,41.159871],[...   \n",
       "3  [[-8.574678,41.151951],[-8.574705,41.151942],[...   \n",
       "4  [[-8.645994,41.18049],[-8.645949,41.180517],[-...   \n",
       "5  [[-8.615502,41.140674],[-8.614854,41.140926],[...   \n",
       "\n",
       "                                                traj  \\\n",
       "0  [[-8.618643, 41.141412], [-8.618499, 41.141376...   \n",
       "1  [[-8.639847, 41.159826], [-8.640351, 41.159871...   \n",
       "3  [[-8.574678, 41.151951], [-8.574705, 41.151942...   \n",
       "4  [[-8.645994, 41.18049], [-8.645949, 41.180517]...   \n",
       "5  [[-8.615502, 41.140674], [-8.614854, 41.140926...   \n",
       "\n",
       "                                               lines  distances  \n",
       "0  LINESTRING (-8.61864 41.14141, -8.61850 41.141...   0.028718  \n",
       "1  LINESTRING (-8.63985 41.15983, -8.64035 41.159...   0.039557  \n",
       "3  LINESTRING (-8.57468 41.15195, -8.57470 41.151...   0.091168  \n",
       "4  LINESTRING (-8.64599 41.18049, -8.64595 41.180...   0.053230  \n",
       "5  LINESTRING (-8.61550 41.14067, -8.61485 41.140...   0.060772  "
      ]
     },
     "execution_count": 10,
     "metadata": {},
     "output_type": "execute_result"
    }
   ],
   "source": [
    "taxi_train_data[\"distances\"] = taxi_train_data[\"lines\"].apply(lambda x: LineString(x).length) # x.distance(x.interpolate(0.5, normalized=True)))\n",
    "taxi_train_data = taxi_train_data[taxi_train_data[\"distances\"].notnull()]\n",
    "taxi_train_data.head()"
   ]
  },
  {
   "cell_type": "markdown",
   "metadata": {},
   "source": [
    "We'll define the dataset by taking the last 4 timesteps of the data as an indication of \"looking for parking,\" and then another non-overlapping sample from the same timeseries of 4 timesteps is used for an indication of \"not looking for parking.\""
   ]
  },
  {
   "cell_type": "code",
   "execution_count": 11,
   "metadata": {},
   "outputs": [
    {
     "data": {
      "text/html": [
       "<div>\n",
       "<style scoped>\n",
       "    .dataframe tbody tr th:only-of-type {\n",
       "        vertical-align: middle;\n",
       "    }\n",
       "\n",
       "    .dataframe tbody tr th {\n",
       "        vertical-align: top;\n",
       "    }\n",
       "\n",
       "    .dataframe thead th {\n",
       "        text-align: right;\n",
       "    }\n",
       "</style>\n",
       "<table border=\"1\" class=\"dataframe\">\n",
       "  <thead>\n",
       "    <tr style=\"text-align: right;\">\n",
       "      <th></th>\n",
       "      <th>TRIP_ID</th>\n",
       "      <th>CALL_TYPE</th>\n",
       "      <th>ORIGIN_CALL</th>\n",
       "      <th>ORIGIN_STAND</th>\n",
       "      <th>TAXI_ID</th>\n",
       "      <th>TIMESTAMP</th>\n",
       "      <th>DAY_TYPE</th>\n",
       "      <th>MISSING_DATA</th>\n",
       "      <th>POLYLINE</th>\n",
       "      <th>traj</th>\n",
       "      <th>lines</th>\n",
       "      <th>distances</th>\n",
       "    </tr>\n",
       "  </thead>\n",
       "  <tbody>\n",
       "    <tr>\n",
       "      <th>0</th>\n",
       "      <td>1372636858620000589</td>\n",
       "      <td>C</td>\n",
       "      <td>NaN</td>\n",
       "      <td>NaN</td>\n",
       "      <td>20000589</td>\n",
       "      <td>1372636858</td>\n",
       "      <td>A</td>\n",
       "      <td>False</td>\n",
       "      <td>[[-8.618643,41.141412],[-8.618499,41.141376],[...</td>\n",
       "      <td>[[-8.618643, 41.141412], [-8.618499, 41.141376...</td>\n",
       "      <td>LINESTRING (-8.61864 41.14141, -8.61850 41.141...</td>\n",
       "      <td>0.028718</td>\n",
       "    </tr>\n",
       "    <tr>\n",
       "      <th>1</th>\n",
       "      <td>1372637303620000596</td>\n",
       "      <td>B</td>\n",
       "      <td>NaN</td>\n",
       "      <td>7.0</td>\n",
       "      <td>20000596</td>\n",
       "      <td>1372637303</td>\n",
       "      <td>A</td>\n",
       "      <td>False</td>\n",
       "      <td>[[-8.639847,41.159826],[-8.640351,41.159871],[...</td>\n",
       "      <td>[[-8.639847, 41.159826], [-8.640351, 41.159871...</td>\n",
       "      <td>LINESTRING (-8.63985 41.15983, -8.64035 41.159...</td>\n",
       "      <td>0.039557</td>\n",
       "    </tr>\n",
       "    <tr>\n",
       "      <th>3</th>\n",
       "      <td>1372636854620000520</td>\n",
       "      <td>C</td>\n",
       "      <td>NaN</td>\n",
       "      <td>NaN</td>\n",
       "      <td>20000520</td>\n",
       "      <td>1372636854</td>\n",
       "      <td>A</td>\n",
       "      <td>False</td>\n",
       "      <td>[[-8.574678,41.151951],[-8.574705,41.151942],[...</td>\n",
       "      <td>[[-8.574678, 41.151951], [-8.574705, 41.151942...</td>\n",
       "      <td>LINESTRING (-8.57468 41.15195, -8.57470 41.151...</td>\n",
       "      <td>0.091168</td>\n",
       "    </tr>\n",
       "    <tr>\n",
       "      <th>4</th>\n",
       "      <td>1372637091620000337</td>\n",
       "      <td>C</td>\n",
       "      <td>NaN</td>\n",
       "      <td>NaN</td>\n",
       "      <td>20000337</td>\n",
       "      <td>1372637091</td>\n",
       "      <td>A</td>\n",
       "      <td>False</td>\n",
       "      <td>[[-8.645994,41.18049],[-8.645949,41.180517],[-...</td>\n",
       "      <td>[[-8.645994, 41.18049], [-8.645949, 41.180517]...</td>\n",
       "      <td>LINESTRING (-8.64599 41.18049, -8.64595 41.180...</td>\n",
       "      <td>0.053230</td>\n",
       "    </tr>\n",
       "    <tr>\n",
       "      <th>5</th>\n",
       "      <td>1372636965620000231</td>\n",
       "      <td>C</td>\n",
       "      <td>NaN</td>\n",
       "      <td>NaN</td>\n",
       "      <td>20000231</td>\n",
       "      <td>1372636965</td>\n",
       "      <td>A</td>\n",
       "      <td>False</td>\n",
       "      <td>[[-8.615502,41.140674],[-8.614854,41.140926],[...</td>\n",
       "      <td>[[-8.615502, 41.140674], [-8.614854, 41.140926...</td>\n",
       "      <td>LINESTRING (-8.61550 41.14067, -8.61485 41.140...</td>\n",
       "      <td>0.060772</td>\n",
       "    </tr>\n",
       "  </tbody>\n",
       "</table>\n",
       "</div>"
      ],
      "text/plain": [
       "               TRIP_ID CALL_TYPE  ORIGIN_CALL  ORIGIN_STAND   TAXI_ID  \\\n",
       "0  1372636858620000589         C          NaN           NaN  20000589   \n",
       "1  1372637303620000596         B          NaN           7.0  20000596   \n",
       "3  1372636854620000520         C          NaN           NaN  20000520   \n",
       "4  1372637091620000337         C          NaN           NaN  20000337   \n",
       "5  1372636965620000231         C          NaN           NaN  20000231   \n",
       "\n",
       "    TIMESTAMP DAY_TYPE  MISSING_DATA  \\\n",
       "0  1372636858        A         False   \n",
       "1  1372637303        A         False   \n",
       "3  1372636854        A         False   \n",
       "4  1372637091        A         False   \n",
       "5  1372636965        A         False   \n",
       "\n",
       "                                            POLYLINE  \\\n",
       "0  [[-8.618643,41.141412],[-8.618499,41.141376],[...   \n",
       "1  [[-8.639847,41.159826],[-8.640351,41.159871],[...   \n",
       "3  [[-8.574678,41.151951],[-8.574705,41.151942],[...   \n",
       "4  [[-8.645994,41.18049],[-8.645949,41.180517],[-...   \n",
       "5  [[-8.615502,41.140674],[-8.614854,41.140926],[...   \n",
       "\n",
       "                                                traj  \\\n",
       "0  [[-8.618643, 41.141412], [-8.618499, 41.141376...   \n",
       "1  [[-8.639847, 41.159826], [-8.640351, 41.159871...   \n",
       "3  [[-8.574678, 41.151951], [-8.574705, 41.151942...   \n",
       "4  [[-8.645994, 41.18049], [-8.645949, 41.180517]...   \n",
       "5  [[-8.615502, 41.140674], [-8.614854, 41.140926...   \n",
       "\n",
       "                                               lines  distances  \n",
       "0  LINESTRING (-8.61864 41.14141, -8.61850 41.141...   0.028718  \n",
       "1  LINESTRING (-8.63985 41.15983, -8.64035 41.159...   0.039557  \n",
       "3  LINESTRING (-8.57468 41.15195, -8.57470 41.151...   0.091168  \n",
       "4  LINESTRING (-8.64599 41.18049, -8.64595 41.180...   0.053230  \n",
       "5  LINESTRING (-8.61550 41.14067, -8.61485 41.140...   0.060772  "
      ]
     },
     "execution_count": 11,
     "metadata": {},
     "output_type": "execute_result"
    }
   ],
   "source": [
    "train_index = taxi_train_data.index\n",
    "taxi_train_data.head()"
   ]
  },
  {
   "cell_type": "code",
   "execution_count": 12,
   "metadata": {},
   "outputs": [
    {
     "data": {
      "text/plain": [
       "[[-8.667846, 41.236614],\n",
       " [-8.668737, 41.238648],\n",
       " [-8.669979, 41.239071],\n",
       " [-8.670357, 41.237928]]"
      ]
     },
     "execution_count": 12,
     "metadata": {},
     "output_type": "execute_result"
    }
   ],
   "source": [
    "s = taxi_train_data.sample()[\"traj\"][-interval:].values[0]\n",
    "parking_coords = s[-interval:]\n",
    "parking_coords"
   ]
  },
  {
   "cell_type": "code",
   "execution_count": 13,
   "metadata": {},
   "outputs": [
    {
     "data": {
      "text/plain": [
       "2.989155095786191e-15"
      ]
     },
     "execution_count": 13,
     "metadata": {},
     "output_type": "execute_result"
    }
   ],
   "source": [
    "pls = LineString(parking_coords)\n",
    "pls.distance(pls.interpolate(0.5, normalized=True))"
   ]
  },
  {
   "cell_type": "code",
   "execution_count": 14,
   "metadata": {},
   "outputs": [
    {
     "data": {
      "text/plain": [
       "[[-8.607636, 41.184756],\n",
       " [-8.610381, 41.184351],\n",
       " [-8.612154, 41.183631],\n",
       " [-8.612856, 41.183406]]"
      ]
     },
     "execution_count": 14,
     "metadata": {},
     "output_type": "execute_result"
    }
   ],
   "source": [
    "def get_random_sample(x, interval=4):\n",
    "    start_idx = np.random.randint(0, len(x) - 2 * interval)\n",
    "    return x[start_idx : start_idx + interval]\n",
    "\n",
    "\n",
    "normal_coords = get_random_sample(s)\n",
    "normal_coords"
   ]
  },
  {
   "cell_type": "code",
   "execution_count": 15,
   "metadata": {},
   "outputs": [
    {
     "data": {
      "text/plain": [
       "8.8153858471377965e-16"
      ]
     },
     "execution_count": 15,
     "metadata": {},
     "output_type": "execute_result"
    }
   ],
   "source": [
    "nls = LineString(normal_coords)\n",
    "nls.distance(nls.interpolate(0.5, normalized=True))"
   ]
  },
  {
   "cell_type": "code",
   "execution_count": 16,
   "metadata": {},
   "outputs": [
    {
     "data": {
      "text/plain": [
       "0       [[-8.630829, 41.154507], [-8.630829, 41.154516...\n",
       "1       [[-8.668098, 41.168988], [-8.66664, 41.170005]...\n",
       "3       [[-8.607996, 41.142879], [-8.607987, 41.142888...\n",
       "4       [[-8.687502, 41.176755], [-8.687259, 41.177781...\n",
       "5       [[-8.578719, 41.156271], [-8.578629, 41.157693...\n",
       "                              ...                        \n",
       "9995    [[-8.620623, 41.146074], [-8.620128, 41.145966...\n",
       "9996    [[-8.638776, 41.164353], [-8.638776, 41.164344...\n",
       "9997    [[-8.596863, 41.204925], [-8.596656, 41.204403...\n",
       "9998    [[-8.670402, 41.238135], [-8.670033, 41.236884...\n",
       "9999    [[-8.631909, 41.185728], [-8.63208, 41.186484]...\n",
       "Name: parking_coords, Length: 9399, dtype: object"
      ]
     },
     "execution_count": 16,
     "metadata": {},
     "output_type": "execute_result"
    }
   ],
   "source": [
    "labels = [\"normal\", \"parking\"]\n",
    "\n",
    "parking_coords = taxi_train_data[\"traj\"].apply(lambda x: x[-interval:])\n",
    "parking_coords.name = \"parking_coords\"\n",
    "parking_coords"
   ]
  },
  {
   "cell_type": "code",
   "execution_count": 17,
   "metadata": {},
   "outputs": [
    {
     "data": {
      "text/plain": [
       "0       [[-8.627373, 41.144697], [-8.630226, 41.14521]...\n",
       "1       [[-8.663112, 41.163687], [-8.666235, 41.1642],...\n",
       "3       [[-8.60328, 41.145597], [-8.604045, 41.145417]...\n",
       "4       [[-8.667432, 41.178537], [-8.668944, 41.176674...\n",
       "5       [[-8.613351, 41.14152], [-8.609976, 41.140854]...\n",
       "                              ...                        \n",
       "9995    [[-8.667792, 41.154579], [-8.666739, 41.154219...\n",
       "9996    [[-8.638776, 41.164533], [-8.638767, 41.164488...\n",
       "9997    [[-8.596485, 41.203845], [-8.596485, 41.203854...\n",
       "9998    [[-8.622855, 41.204943], [-8.626275, 41.206428...\n",
       "9999    [[-8.622999, 41.170608], [-8.622234, 41.172381...\n",
       "Name: normal_coords, Length: 9399, dtype: object"
      ]
     },
     "execution_count": 17,
     "metadata": {},
     "output_type": "execute_result"
    }
   ],
   "source": [
    "normal_coords = taxi_train_data[\"traj\"].apply(get_random_sample)\n",
    "normal_coords.name = \"normal_coords\"\n",
    "normal_coords"
   ]
  },
  {
   "cell_type": "markdown",
   "metadata": {},
   "source": [
    "Below are the functions used to create feature data. This allows us to create a dataset of features that we can use to train our model."
   ]
  },
  {
   "cell_type": "code",
   "execution_count": 61,
   "metadata": {},
   "outputs": [],
   "source": [
    "from sklearn.preprocessing import MinMaxScaler, StandardScaler\n",
    "\n",
    "scaler = StandardScaler()\n",
    "features = {}"
   ]
  },
  {
   "cell_type": "code",
   "execution_count": 62,
   "metadata": {},
   "outputs": [],
   "source": [
    "def calculate_distance1(x):\n",
    "    ls = LineString(x)\n",
    "    return ls.length\n",
    "\n",
    "features[\"distance1\"] = calculate_distance1\n"
   ]
  },
  {
   "cell_type": "code",
   "execution_count": 63,
   "metadata": {},
   "outputs": [],
   "source": [
    "def calculate_distance2(x):\n",
    "    ls = LineString(x)\n",
    "    return ls.distance(ls.interpolate(0.5, normalized=True))\n",
    "\n",
    "features[\"distance2\"] = calculate_distance2"
   ]
  },
  {
   "cell_type": "code",
   "execution_count": 64,
   "metadata": {},
   "outputs": [
    {
     "data": {
      "text/plain": [
       "{'distance1': <function __main__.calculate_distance1(x)>,\n",
       " 'distance2': <function __main__.calculate_distance2(x)>,\n",
       " 'area': <function __main__.calculate_area(x)>}"
      ]
     },
     "execution_count": 64,
     "metadata": {},
     "output_type": "execute_result"
    }
   ],
   "source": [
    "def calculate_area(x):\n",
    "    ls = LineString(x)\n",
    "    raw_area = ls.convex_hull.area\n",
    "    return abs(0 if raw_area == 0 else np.log(raw_area))\n",
    "\n",
    "\n",
    "features[\"area\"] = calculate_area\n",
    "features"
   ]
  },
  {
   "cell_type": "markdown",
   "metadata": {},
   "source": [
    "Here, we apply each feature function to the dataset and create a new column for each feature."
   ]
  },
  {
   "cell_type": "code",
   "execution_count": 65,
   "metadata": {},
   "outputs": [
    {
     "name": "stderr",
     "output_type": "stream",
     "text": [
      "c:\\Users\\nicol\\Anaconda3\\envs\\tcss565\\Lib\\site-packages\\shapely\\measurement.py:72: RuntimeWarning:\n",
      "\n",
      "invalid value encountered in distance\n",
      "\n"
     ]
    },
    {
     "data": {
      "text/html": [
       "<div>\n",
       "<style scoped>\n",
       "    .dataframe tbody tr th:only-of-type {\n",
       "        vertical-align: middle;\n",
       "    }\n",
       "\n",
       "    .dataframe tbody tr th {\n",
       "        vertical-align: top;\n",
       "    }\n",
       "\n",
       "    .dataframe thead th {\n",
       "        text-align: right;\n",
       "    }\n",
       "</style>\n",
       "<table border=\"1\" class=\"dataframe\">\n",
       "  <thead>\n",
       "    <tr style=\"text-align: right;\">\n",
       "      <th></th>\n",
       "      <th>distance1</th>\n",
       "      <th>distance2</th>\n",
       "      <th>area</th>\n",
       "      <th>label</th>\n",
       "    </tr>\n",
       "  </thead>\n",
       "  <tbody>\n",
       "    <tr>\n",
       "      <th>count</th>\n",
       "      <td>9.152000e+03</td>\n",
       "      <td>9.152000e+03</td>\n",
       "      <td>9.152000e+03</td>\n",
       "      <td>9152.0</td>\n",
       "    </tr>\n",
       "    <tr>\n",
       "      <th>mean</th>\n",
       "      <td>-9.006005e-17</td>\n",
       "      <td>-2.554289e-16</td>\n",
       "      <td>-5.978124e-16</td>\n",
       "      <td>0.0</td>\n",
       "    </tr>\n",
       "    <tr>\n",
       "      <th>std</th>\n",
       "      <td>1.000055e+00</td>\n",
       "      <td>1.000055e+00</td>\n",
       "      <td>1.000055e+00</td>\n",
       "      <td>0.0</td>\n",
       "    </tr>\n",
       "    <tr>\n",
       "      <th>min</th>\n",
       "      <td>-1.149481e+00</td>\n",
       "      <td>-1.394224e+00</td>\n",
       "      <td>-2.242342e+00</td>\n",
       "      <td>0.0</td>\n",
       "    </tr>\n",
       "    <tr>\n",
       "      <th>25%</th>\n",
       "      <td>-6.480423e-01</td>\n",
       "      <td>-8.505394e-01</td>\n",
       "      <td>-6.906916e-01</td>\n",
       "      <td>0.0</td>\n",
       "    </tr>\n",
       "    <tr>\n",
       "      <th>50%</th>\n",
       "      <td>-2.266966e-01</td>\n",
       "      <td>-2.058007e-01</td>\n",
       "      <td>-1.459067e-01</td>\n",
       "      <td>0.0</td>\n",
       "    </tr>\n",
       "    <tr>\n",
       "      <th>75%</th>\n",
       "      <td>3.291472e-01</td>\n",
       "      <td>7.438612e-01</td>\n",
       "      <td>5.268372e-01</td>\n",
       "      <td>0.0</td>\n",
       "    </tr>\n",
       "    <tr>\n",
       "      <th>max</th>\n",
       "      <td>1.106249e+01</td>\n",
       "      <td>2.441665e+00</td>\n",
       "      <td>1.234216e+01</td>\n",
       "      <td>0.0</td>\n",
       "    </tr>\n",
       "  </tbody>\n",
       "</table>\n",
       "</div>"
      ],
      "text/plain": [
       "          distance1     distance2          area   label\n",
       "count  9.152000e+03  9.152000e+03  9.152000e+03  9152.0\n",
       "mean  -9.006005e-17 -2.554289e-16 -5.978124e-16     0.0\n",
       "std    1.000055e+00  1.000055e+00  1.000055e+00     0.0\n",
       "min   -1.149481e+00 -1.394224e+00 -2.242342e+00     0.0\n",
       "25%   -6.480423e-01 -8.505394e-01 -6.906916e-01     0.0\n",
       "50%   -2.266966e-01 -2.058007e-01 -1.459067e-01     0.0\n",
       "75%    3.291472e-01  7.438612e-01  5.268372e-01     0.0\n",
       "max    1.106249e+01  2.441665e+00  1.234216e+01     0.0"
      ]
     },
     "execution_count": 65,
     "metadata": {},
     "output_type": "execute_result"
    }
   ],
   "source": [
    "def generate_features(coords: pd.DataFrame, features: dict, encoding: int):\n",
    "    concat_features = []\n",
    "    for name, func in features.items():\n",
    "        func_output: pd.Series = coords.apply(func)\n",
    "        func_output.name = name\n",
    "        func_output = func_output.replace(0, np.nan)\n",
    "        concat_features.append(func_output)\n",
    "\n",
    "    concat_features = pd.concat(concat_features, axis=1).dropna().reset_index(drop=True)\n",
    "    concat_features = scaler.fit_transform(concat_features)\n",
    "    labels = pd.Series([encoding] * len(concat_features), name=\"label\", dtype=int)\n",
    "    concat_features = pd.DataFrame(concat_features, columns=features.keys())\n",
    "    concat_features = pd.concat([concat_features, labels], axis=1)\n",
    "\n",
    "    return concat_features\n",
    "\n",
    "\n",
    "normal_data = generate_features(normal_coords, features, encoding=0)\n",
    "normal_data.describe()"
   ]
  },
  {
   "cell_type": "code",
   "execution_count": 66,
   "metadata": {},
   "outputs": [
    {
     "name": "stderr",
     "output_type": "stream",
     "text": [
      "c:\\Users\\nicol\\Anaconda3\\envs\\tcss565\\Lib\\site-packages\\shapely\\measurement.py:72: RuntimeWarning:\n",
      "\n",
      "invalid value encountered in distance\n",
      "\n"
     ]
    },
    {
     "data": {
      "text/html": [
       "<div>\n",
       "<style scoped>\n",
       "    .dataframe tbody tr th:only-of-type {\n",
       "        vertical-align: middle;\n",
       "    }\n",
       "\n",
       "    .dataframe tbody tr th {\n",
       "        vertical-align: top;\n",
       "    }\n",
       "\n",
       "    .dataframe thead th {\n",
       "        text-align: right;\n",
       "    }\n",
       "</style>\n",
       "<table border=\"1\" class=\"dataframe\">\n",
       "  <thead>\n",
       "    <tr style=\"text-align: right;\">\n",
       "      <th></th>\n",
       "      <th>distance1</th>\n",
       "      <th>distance2</th>\n",
       "      <th>area</th>\n",
       "      <th>label</th>\n",
       "    </tr>\n",
       "  </thead>\n",
       "  <tbody>\n",
       "    <tr>\n",
       "      <th>0</th>\n",
       "      <td>0.410234</td>\n",
       "      <td>1.177156</td>\n",
       "      <td>-0.068434</td>\n",
       "      <td>1</td>\n",
       "    </tr>\n",
       "    <tr>\n",
       "      <th>1</th>\n",
       "      <td>-0.748763</td>\n",
       "      <td>-0.925047</td>\n",
       "      <td>1.419900</td>\n",
       "      <td>1</td>\n",
       "    </tr>\n",
       "    <tr>\n",
       "      <th>2</th>\n",
       "      <td>-0.215133</td>\n",
       "      <td>-0.748553</td>\n",
       "      <td>-0.134153</td>\n",
       "      <td>1</td>\n",
       "    </tr>\n",
       "    <tr>\n",
       "      <th>3</th>\n",
       "      <td>1.056735</td>\n",
       "      <td>-0.976730</td>\n",
       "      <td>-0.793784</td>\n",
       "      <td>1</td>\n",
       "    </tr>\n",
       "    <tr>\n",
       "      <th>4</th>\n",
       "      <td>-0.443663</td>\n",
       "      <td>-0.009870</td>\n",
       "      <td>0.386274</td>\n",
       "      <td>1</td>\n",
       "    </tr>\n",
       "    <tr>\n",
       "      <th>...</th>\n",
       "      <td>...</td>\n",
       "      <td>...</td>\n",
       "      <td>...</td>\n",
       "      <td>...</td>\n",
       "    </tr>\n",
       "    <tr>\n",
       "      <th>8557</th>\n",
       "      <td>-0.552576</td>\n",
       "      <td>1.246805</td>\n",
       "      <td>0.979448</td>\n",
       "      <td>1</td>\n",
       "    </tr>\n",
       "    <tr>\n",
       "      <th>8558</th>\n",
       "      <td>-0.748599</td>\n",
       "      <td>1.337053</td>\n",
       "      <td>1.640125</td>\n",
       "      <td>1</td>\n",
       "    </tr>\n",
       "    <tr>\n",
       "      <th>8559</th>\n",
       "      <td>0.580206</td>\n",
       "      <td>-0.971886</td>\n",
       "      <td>-0.912805</td>\n",
       "      <td>1</td>\n",
       "    </tr>\n",
       "    <tr>\n",
       "      <th>8560</th>\n",
       "      <td>-0.088647</td>\n",
       "      <td>-0.417888</td>\n",
       "      <td>-0.041655</td>\n",
       "      <td>1</td>\n",
       "    </tr>\n",
       "    <tr>\n",
       "      <th>8561</th>\n",
       "      <td>-0.418960</td>\n",
       "      <td>-1.258972</td>\n",
       "      <td>0.101038</td>\n",
       "      <td>1</td>\n",
       "    </tr>\n",
       "  </tbody>\n",
       "</table>\n",
       "<p>8562 rows × 4 columns</p>\n",
       "</div>"
      ],
      "text/plain": [
       "      distance1  distance2      area  label\n",
       "0      0.410234   1.177156 -0.068434      1\n",
       "1     -0.748763  -0.925047  1.419900      1\n",
       "2     -0.215133  -0.748553 -0.134153      1\n",
       "3      1.056735  -0.976730 -0.793784      1\n",
       "4     -0.443663  -0.009870  0.386274      1\n",
       "...         ...        ...       ...    ...\n",
       "8557  -0.552576   1.246805  0.979448      1\n",
       "8558  -0.748599   1.337053  1.640125      1\n",
       "8559   0.580206  -0.971886 -0.912805      1\n",
       "8560  -0.088647  -0.417888 -0.041655      1\n",
       "8561  -0.418960  -1.258972  0.101038      1\n",
       "\n",
       "[8562 rows x 4 columns]"
      ]
     },
     "execution_count": 66,
     "metadata": {},
     "output_type": "execute_result"
    }
   ],
   "source": [
    "parking_data = generate_features(parking_coords, features, encoding=1)\n",
    "parking_data"
   ]
  },
  {
   "cell_type": "code",
   "execution_count": 67,
   "metadata": {},
   "outputs": [
    {
     "data": {
      "text/html": [
       "<div>\n",
       "<style scoped>\n",
       "    .dataframe tbody tr th:only-of-type {\n",
       "        vertical-align: middle;\n",
       "    }\n",
       "\n",
       "    .dataframe tbody tr th {\n",
       "        vertical-align: top;\n",
       "    }\n",
       "\n",
       "    .dataframe thead th {\n",
       "        text-align: right;\n",
       "    }\n",
       "</style>\n",
       "<table border=\"1\" class=\"dataframe\">\n",
       "  <thead>\n",
       "    <tr style=\"text-align: right;\">\n",
       "      <th></th>\n",
       "      <th>distance1</th>\n",
       "      <th>distance2</th>\n",
       "      <th>area</th>\n",
       "      <th>label</th>\n",
       "    </tr>\n",
       "  </thead>\n",
       "  <tbody>\n",
       "    <tr>\n",
       "      <th>0</th>\n",
       "      <td>0.985016</td>\n",
       "      <td>0.753248</td>\n",
       "      <td>-1.359513</td>\n",
       "      <td>0</td>\n",
       "    </tr>\n",
       "    <tr>\n",
       "      <th>1</th>\n",
       "      <td>1.065718</td>\n",
       "      <td>2.382806</td>\n",
       "      <td>-0.308680</td>\n",
       "      <td>0</td>\n",
       "    </tr>\n",
       "    <tr>\n",
       "      <th>2</th>\n",
       "      <td>0.022315</td>\n",
       "      <td>-0.954803</td>\n",
       "      <td>-0.573171</td>\n",
       "      <td>0</td>\n",
       "    </tr>\n",
       "    <tr>\n",
       "      <th>3</th>\n",
       "      <td>1.209984</td>\n",
       "      <td>-1.365140</td>\n",
       "      <td>-0.897618</td>\n",
       "      <td>0</td>\n",
       "    </tr>\n",
       "    <tr>\n",
       "      <th>4</th>\n",
       "      <td>1.610993</td>\n",
       "      <td>0.778477</td>\n",
       "      <td>-1.135868</td>\n",
       "      <td>0</td>\n",
       "    </tr>\n",
       "    <tr>\n",
       "      <th>...</th>\n",
       "      <td>...</td>\n",
       "      <td>...</td>\n",
       "      <td>...</td>\n",
       "      <td>...</td>\n",
       "    </tr>\n",
       "    <tr>\n",
       "      <th>17709</th>\n",
       "      <td>-0.552576</td>\n",
       "      <td>1.246805</td>\n",
       "      <td>0.979448</td>\n",
       "      <td>1</td>\n",
       "    </tr>\n",
       "    <tr>\n",
       "      <th>17710</th>\n",
       "      <td>-0.748599</td>\n",
       "      <td>1.337053</td>\n",
       "      <td>1.640125</td>\n",
       "      <td>1</td>\n",
       "    </tr>\n",
       "    <tr>\n",
       "      <th>17711</th>\n",
       "      <td>0.580206</td>\n",
       "      <td>-0.971886</td>\n",
       "      <td>-0.912805</td>\n",
       "      <td>1</td>\n",
       "    </tr>\n",
       "    <tr>\n",
       "      <th>17712</th>\n",
       "      <td>-0.088647</td>\n",
       "      <td>-0.417888</td>\n",
       "      <td>-0.041655</td>\n",
       "      <td>1</td>\n",
       "    </tr>\n",
       "    <tr>\n",
       "      <th>17713</th>\n",
       "      <td>-0.418960</td>\n",
       "      <td>-1.258972</td>\n",
       "      <td>0.101038</td>\n",
       "      <td>1</td>\n",
       "    </tr>\n",
       "  </tbody>\n",
       "</table>\n",
       "<p>17714 rows × 4 columns</p>\n",
       "</div>"
      ],
      "text/plain": [
       "       distance1  distance2      area  label\n",
       "0       0.985016   0.753248 -1.359513      0\n",
       "1       1.065718   2.382806 -0.308680      0\n",
       "2       0.022315  -0.954803 -0.573171      0\n",
       "3       1.209984  -1.365140 -0.897618      0\n",
       "4       1.610993   0.778477 -1.135868      0\n",
       "...          ...        ...       ...    ...\n",
       "17709  -0.552576   1.246805  0.979448      1\n",
       "17710  -0.748599   1.337053  1.640125      1\n",
       "17711   0.580206  -0.971886 -0.912805      1\n",
       "17712  -0.088647  -0.417888 -0.041655      1\n",
       "17713  -0.418960  -1.258972  0.101038      1\n",
       "\n",
       "[17714 rows x 4 columns]"
      ]
     },
     "execution_count": 67,
     "metadata": {},
     "output_type": "execute_result"
    }
   ],
   "source": [
    "def build_data(normal_data, parking_data):\n",
    "    data = pd.merge(normal_data, parking_data, how=\"outer\")\n",
    "    return data\n",
    "\n",
    "train_data = build_data(normal_data, parking_data)\n",
    "train_data"
   ]
  },
  {
   "cell_type": "code",
   "execution_count": 68,
   "metadata": {},
   "outputs": [
    {
     "data": {
      "text/html": [
       "<pre style=\"white-space:pre;overflow-x:auto;line-height:normal;font-family:Menlo,'DejaVu Sans Mono',consolas,'Courier New',monospace\"><span style=\"color: #800080; text-decoration-color: #800080; font-weight: bold\">Counter</span><span style=\"font-weight: bold\">({</span><span style=\"color: #008080; text-decoration-color: #008080; font-weight: bold\">0</span>: <span style=\"color: #008080; text-decoration-color: #008080; font-weight: bold\">9152</span>, <span style=\"color: #008080; text-decoration-color: #008080; font-weight: bold\">1</span>: <span style=\"color: #008080; text-decoration-color: #008080; font-weight: bold\">8562</span><span style=\"font-weight: bold\">})</span>\n",
       "</pre>\n"
      ],
      "text/plain": [
       "\u001b[1;35mCounter\u001b[0m\u001b[1m(\u001b[0m\u001b[1m{\u001b[0m\u001b[1;36m0\u001b[0m: \u001b[1;36m9152\u001b[0m, \u001b[1;36m1\u001b[0m: \u001b[1;36m8562\u001b[0m\u001b[1m}\u001b[0m\u001b[1m)\u001b[0m\n"
      ]
     },
     "metadata": {},
     "output_type": "display_data"
    }
   ],
   "source": [
    "from collections import Counter\n",
    "\n",
    "console.print(Counter(train_data[\"label\"]))"
   ]
  },
  {
   "cell_type": "code",
   "execution_count": 69,
   "metadata": {},
   "outputs": [
    {
     "data": {
      "image/png": "[encoded data removed]",
      "text/plain": [
       "<Figure size 558.875x500 with 1 Axes>"
      ]
     },
     "metadata": {},
     "output_type": "display_data"
    }
   ],
   "source": [
    "import seaborn as sns\n",
    "\n",
    "sns.displot(train_data, x=\"distance1\", hue=\"label\", kind=\"kde\", fill=True);\n"
   ]
  },
  {
   "cell_type": "code",
   "execution_count": 70,
   "metadata": {},
   "outputs": [
    {
     "data": {
      "image/png": "[encoded data removed]",
      "text/plain": [
       "<Figure size 558.875x500 with 1 Axes>"
      ]
     },
     "metadata": {},
     "output_type": "display_data"
    }
   ],
   "source": [
    "sns.displot(train_data, x=\"distance2\", hue=\"label\", kind=\"kde\", fill=True);"
   ]
  },
  {
   "cell_type": "markdown",
   "metadata": {},
   "source": [
    "We see here this distance type has a lot of overlap between the two classes, so we ultimately drop this feature."
   ]
  },
  {
   "cell_type": "code",
   "execution_count": 71,
   "metadata": {},
   "outputs": [
    {
     "data": {
      "image/png": "[encoded data removed]",
      "text/plain": [
       "<Figure size 558.875x500 with 1 Axes>"
      ]
     },
     "metadata": {},
     "output_type": "display_data"
    }
   ],
   "source": [
    "sns.displot(train_data, x=\"area\", hue=\"label\", kind=\"kde\", fill=True);"
   ]
  },
  {
   "cell_type": "markdown",
   "metadata": {},
   "source": [
    "We will now create our training and test splits."
   ]
  },
  {
   "cell_type": "code",
   "execution_count": 72,
   "metadata": {},
   "outputs": [
    {
     "data": {
      "text/html": [
       "<div>\n",
       "<style scoped>\n",
       "    .dataframe tbody tr th:only-of-type {\n",
       "        vertical-align: middle;\n",
       "    }\n",
       "\n",
       "    .dataframe tbody tr th {\n",
       "        vertical-align: top;\n",
       "    }\n",
       "\n",
       "    .dataframe thead th {\n",
       "        text-align: right;\n",
       "    }\n",
       "</style>\n",
       "<table border=\"1\" class=\"dataframe\">\n",
       "  <thead>\n",
       "    <tr style=\"text-align: right;\">\n",
       "      <th></th>\n",
       "      <th>distance1</th>\n",
       "      <th>distance2</th>\n",
       "      <th>area</th>\n",
       "      <th>label</th>\n",
       "    </tr>\n",
       "  </thead>\n",
       "  <tbody>\n",
       "    <tr>\n",
       "      <th>0</th>\n",
       "      <td>0.985016</td>\n",
       "      <td>0.753248</td>\n",
       "      <td>-1.359513</td>\n",
       "      <td>0</td>\n",
       "    </tr>\n",
       "    <tr>\n",
       "      <th>1</th>\n",
       "      <td>1.065718</td>\n",
       "      <td>2.382806</td>\n",
       "      <td>-0.308680</td>\n",
       "      <td>0</td>\n",
       "    </tr>\n",
       "    <tr>\n",
       "      <th>2</th>\n",
       "      <td>0.022315</td>\n",
       "      <td>-0.954803</td>\n",
       "      <td>-0.573171</td>\n",
       "      <td>0</td>\n",
       "    </tr>\n",
       "    <tr>\n",
       "      <th>3</th>\n",
       "      <td>1.209984</td>\n",
       "      <td>-1.365140</td>\n",
       "      <td>-0.897618</td>\n",
       "      <td>0</td>\n",
       "    </tr>\n",
       "    <tr>\n",
       "      <th>4</th>\n",
       "      <td>1.610993</td>\n",
       "      <td>0.778477</td>\n",
       "      <td>-1.135868</td>\n",
       "      <td>0</td>\n",
       "    </tr>\n",
       "    <tr>\n",
       "      <th>...</th>\n",
       "      <td>...</td>\n",
       "      <td>...</td>\n",
       "      <td>...</td>\n",
       "      <td>...</td>\n",
       "    </tr>\n",
       "    <tr>\n",
       "      <th>17709</th>\n",
       "      <td>-0.552576</td>\n",
       "      <td>1.246805</td>\n",
       "      <td>0.979448</td>\n",
       "      <td>1</td>\n",
       "    </tr>\n",
       "    <tr>\n",
       "      <th>17710</th>\n",
       "      <td>-0.748599</td>\n",
       "      <td>1.337053</td>\n",
       "      <td>1.640125</td>\n",
       "      <td>1</td>\n",
       "    </tr>\n",
       "    <tr>\n",
       "      <th>17711</th>\n",
       "      <td>0.580206</td>\n",
       "      <td>-0.971886</td>\n",
       "      <td>-0.912805</td>\n",
       "      <td>1</td>\n",
       "    </tr>\n",
       "    <tr>\n",
       "      <th>17712</th>\n",
       "      <td>-0.088647</td>\n",
       "      <td>-0.417888</td>\n",
       "      <td>-0.041655</td>\n",
       "      <td>1</td>\n",
       "    </tr>\n",
       "    <tr>\n",
       "      <th>17713</th>\n",
       "      <td>-0.418960</td>\n",
       "      <td>-1.258972</td>\n",
       "      <td>0.101038</td>\n",
       "      <td>1</td>\n",
       "    </tr>\n",
       "  </tbody>\n",
       "</table>\n",
       "<p>17714 rows × 4 columns</p>\n",
       "</div>"
      ],
      "text/plain": [
       "       distance1  distance2      area  label\n",
       "0       0.985016   0.753248 -1.359513      0\n",
       "1       1.065718   2.382806 -0.308680      0\n",
       "2       0.022315  -0.954803 -0.573171      0\n",
       "3       1.209984  -1.365140 -0.897618      0\n",
       "4       1.610993   0.778477 -1.135868      0\n",
       "...          ...        ...       ...    ...\n",
       "17709  -0.552576   1.246805  0.979448      1\n",
       "17710  -0.748599   1.337053  1.640125      1\n",
       "17711   0.580206  -0.971886 -0.912805      1\n",
       "17712  -0.088647  -0.417888 -0.041655      1\n",
       "17713  -0.418960  -1.258972  0.101038      1\n",
       "\n",
       "[17714 rows x 4 columns]"
      ]
     },
     "execution_count": 72,
     "metadata": {},
     "output_type": "execute_result"
    }
   ],
   "source": [
    "train_data"
   ]
  },
  {
   "cell_type": "code",
   "execution_count": 73,
   "metadata": {},
   "outputs": [
    {
     "data": {
      "text/plain": [
       "((14171,), (3543,))"
      ]
     },
     "execution_count": 73,
     "metadata": {},
     "output_type": "execute_result"
    }
   ],
   "source": [
    "from sklearn.model_selection import train_test_split\n",
    "\n",
    "X_train, X_test, y_train, y_test = train_test_split(\n",
    "    train_data.drop(\"label\", axis=1).values,\n",
    "    train_data[\"label\"].values,\n",
    "    test_size=0.2,\n",
    "    random_state=random_state,\n",
    "    stratify=train_data[\"label\"].values,\n",
    ")\n",
    "y_train.shape, y_test.shape"
   ]
  },
  {
   "cell_type": "markdown",
   "metadata": {},
   "source": [
    "Lets look at the distribution of the training data:"
   ]
  },
  {
   "cell_type": "markdown",
   "metadata": {},
   "source": [
    "We can see from this density plot that the data is skewed towards the \"not looking for parking\" class. This is expected, as most of the time, people are not looking for parking. However, this is a problem for us, as we want to train a model that can accurately predict both classes."
   ]
  },
  {
   "cell_type": "markdown",
   "metadata": {},
   "source": [
    "# Experiments\n",
    "\n",
    "Here we have two main experiments: experiment 1 investigates different machine learning models for the parking driver profile, while experiment 2 demonstrates the model's ability to predict parking behavior in a real-time setting using user collected data."
   ]
  },
  {
   "cell_type": "markdown",
   "metadata": {},
   "source": [
    "## Experiment 1: Model training and evaluation\n",
    "Here we train 3 machine learning models and measure the performance of each model. We use the following models:\n",
    "- Logistic Regression\n",
    "- Support Vector Machine\n",
    "- Random Forest\n",
    "- XGBoost\n",
    "\n",
    "For metrics, we use the following:\n",
    "\n",
    "- Accuracy\n",
    "- Precision\n",
    "- Recall\n",
    "- F1 Score\n",
    "- ROC AUC\n",
    "\n",
    "These metrics are commonly used in classification problems, and thus we will use them to evaluate our models. Each metric is presented for every split. Cross validation is performed on the training data, and the best model is selected based on the ROC_AUC of the model.\n"
   ]
  },
  {
   "cell_type": "code",
   "execution_count": 74,
   "metadata": {},
   "outputs": [],
   "source": [
    "from sklearn.model_selection import GridSearchCV\n",
    "\n",
    "refit = \"roc_auc\"\n",
    "scoring = [\"accuracy\", \"precision\", \"recall\", \"f1\", \"roc_auc\"]\n",
    "split_names = [\"train\", \"test\"]\n"
   ]
  },
  {
   "cell_type": "markdown",
   "metadata": {},
   "source": [
    "### `Logistic Regression`"
   ]
  },
  {
   "cell_type": "code",
   "execution_count": 75,
   "metadata": {},
   "outputs": [
    {
     "name": "stdout",
     "output_type": "stream",
     "text": [
      "Fitting 5 folds for each of 84 candidates, totalling 420 fits\n"
     ]
    },
    {
     "data": {
      "text/html": [
       "<style>#sk-container-id-5 {color: black;}#sk-container-id-5 pre{padding: 0;}#sk-container-id-5 div.sk-toggleable {background-color: white;}#sk-container-id-5 label.sk-toggleable__label {cursor: pointer;display: block;width: 100%;margin-bottom: 0;padding: 0.3em;box-sizing: border-box;text-align: center;}#sk-container-id-5 label.sk-toggleable__label-arrow:before {content: \"▸\";float: left;margin-right: 0.25em;color: #696969;}#sk-container-id-5 label.sk-toggleable__label-arrow:hover:before {color: black;}#sk-container-id-5 div.sk-estimator:hover label.sk-toggleable__label-arrow:before {color: black;}#sk-container-id-5 div.sk-toggleable__content {max-height: 0;max-width: 0;overflow: hidden;text-align: left;background-color: #f0f8ff;}#sk-container-id-5 div.sk-toggleable__content pre {margin: 0.2em;color: black;border-radius: 0.25em;background-color: #f0f8ff;}#sk-container-id-5 input.sk-toggleable__control:checked~div.sk-toggleable__content {max-height: 200px;max-width: 100%;overflow: auto;}#sk-container-id-5 input.sk-toggleable__control:checked~label.sk-toggleable__label-arrow:before {content: \"▾\";}#sk-container-id-5 div.sk-estimator input.sk-toggleable__control:checked~label.sk-toggleable__label {background-color: #d4ebff;}#sk-container-id-5 div.sk-label input.sk-toggleable__control:checked~label.sk-toggleable__label {background-color: #d4ebff;}#sk-container-id-5 input.sk-hidden--visually {border: 0;clip: rect(1px 1px 1px 1px);clip: rect(1px, 1px, 1px, 1px);height: 1px;margin: -1px;overflow: hidden;padding: 0;position: absolute;width: 1px;}#sk-container-id-5 div.sk-estimator {font-family: monospace;background-color: #f0f8ff;border: 1px dotted black;border-radius: 0.25em;box-sizing: border-box;margin-bottom: 0.5em;}#sk-container-id-5 div.sk-estimator:hover {background-color: #d4ebff;}#sk-container-id-5 div.sk-parallel-item::after {content: \"\";width: 100%;border-bottom: 1px solid gray;flex-grow: 1;}#sk-container-id-5 div.sk-label:hover label.sk-toggleable__label {background-color: #d4ebff;}#sk-container-id-5 div.sk-serial::before {content: \"\";position: absolute;border-left: 1px solid gray;box-sizing: border-box;top: 0;bottom: 0;left: 50%;z-index: 0;}#sk-container-id-5 div.sk-serial {display: flex;flex-direction: column;align-items: center;background-color: white;padding-right: 0.2em;padding-left: 0.2em;position: relative;}#sk-container-id-5 div.sk-item {position: relative;z-index: 1;}#sk-container-id-5 div.sk-parallel {display: flex;align-items: stretch;justify-content: center;background-color: white;position: relative;}#sk-container-id-5 div.sk-item::before, #sk-container-id-5 div.sk-parallel-item::before {content: \"\";position: absolute;border-left: 1px solid gray;box-sizing: border-box;top: 0;bottom: 0;left: 50%;z-index: -1;}#sk-container-id-5 div.sk-parallel-item {display: flex;flex-direction: column;z-index: 1;position: relative;background-color: white;}#sk-container-id-5 div.sk-parallel-item:first-child::after {align-self: flex-end;width: 50%;}#sk-container-id-5 div.sk-parallel-item:last-child::after {align-self: flex-start;width: 50%;}#sk-container-id-5 div.sk-parallel-item:only-child::after {width: 0;}#sk-container-id-5 div.sk-dashed-wrapped {border: 1px dashed gray;margin: 0 0.4em 0.5em 0.4em;box-sizing: border-box;padding-bottom: 0.4em;background-color: white;}#sk-container-id-5 div.sk-label label {font-family: monospace;font-weight: bold;display: inline-block;line-height: 1.2em;}#sk-container-id-5 div.sk-label-container {text-align: center;}#sk-container-id-5 div.sk-container {/* jupyter's `normalize.less` sets `[hidden] { display: none; }` but bootstrap.min.css set `[hidden] { display: none !important; }` so we also need the `!important` here to be able to override the default hidden behavior on the sphinx rendered scikit-learn.org. See: https://github.com/scikit-learn/scikit-learn/issues/21755 */display: inline-block !important;position: relative;}#sk-container-id-5 div.sk-text-repr-fallback {display: none;}</style><div id=\"sk-container-id-5\" class=\"sk-top-container\"><div class=\"sk-text-repr-fallback\"><pre>GridSearchCV(cv=5, estimator=LogisticRegression(), n_jobs=-1,\n",
       "             param_grid={&#x27;C&#x27;: [0.001, 0.01, 0.1, 1, 10, 100, 1000],\n",
       "                         &#x27;max_iter&#x27;: [1000, 2500, 5000],\n",
       "                         &#x27;penalty&#x27;: [&#x27;l1&#x27;, &#x27;l2&#x27;],\n",
       "                         &#x27;solver&#x27;: [&#x27;liblinear&#x27;, &#x27;saga&#x27;]},\n",
       "             refit=&#x27;roc_auc&#x27;, return_train_score=True,\n",
       "             scoring=[&#x27;accuracy&#x27;, &#x27;precision&#x27;, &#x27;recall&#x27;, &#x27;f1&#x27;, &#x27;roc_auc&#x27;],\n",
       "             verbose=2)</pre><b>In a Jupyter environment, please rerun this cell to show the HTML representation or trust the notebook. <br />On GitHub, the HTML representation is unable to render, please try loading this page with nbviewer.org.</b></div><div class=\"sk-container\" hidden><div class=\"sk-item sk-dashed-wrapped\"><div class=\"sk-label-container\"><div class=\"sk-label sk-toggleable\"><input class=\"sk-toggleable__control sk-hidden--visually\" id=\"sk-estimator-id-13\" type=\"checkbox\" ><label for=\"sk-estimator-id-13\" class=\"sk-toggleable__label sk-toggleable__label-arrow\">GridSearchCV</label><div class=\"sk-toggleable__content\"><pre>GridSearchCV(cv=5, estimator=LogisticRegression(), n_jobs=-1,\n",
       "             param_grid={&#x27;C&#x27;: [0.001, 0.01, 0.1, 1, 10, 100, 1000],\n",
       "                         &#x27;max_iter&#x27;: [1000, 2500, 5000],\n",
       "                         &#x27;penalty&#x27;: [&#x27;l1&#x27;, &#x27;l2&#x27;],\n",
       "                         &#x27;solver&#x27;: [&#x27;liblinear&#x27;, &#x27;saga&#x27;]},\n",
       "             refit=&#x27;roc_auc&#x27;, return_train_score=True,\n",
       "             scoring=[&#x27;accuracy&#x27;, &#x27;precision&#x27;, &#x27;recall&#x27;, &#x27;f1&#x27;, &#x27;roc_auc&#x27;],\n",
       "             verbose=2)</pre></div></div></div><div class=\"sk-parallel\"><div class=\"sk-parallel-item\"><div class=\"sk-item\"><div class=\"sk-label-container\"><div class=\"sk-label sk-toggleable\"><input class=\"sk-toggleable__control sk-hidden--visually\" id=\"sk-estimator-id-14\" type=\"checkbox\" ><label for=\"sk-estimator-id-14\" class=\"sk-toggleable__label sk-toggleable__label-arrow\">estimator: LogisticRegression</label><div class=\"sk-toggleable__content\"><pre>LogisticRegression()</pre></div></div></div><div class=\"sk-serial\"><div class=\"sk-item\"><div class=\"sk-estimator sk-toggleable\"><input class=\"sk-toggleable__control sk-hidden--visually\" id=\"sk-estimator-id-15\" type=\"checkbox\" ><label for=\"sk-estimator-id-15\" class=\"sk-toggleable__label sk-toggleable__label-arrow\">LogisticRegression</label><div class=\"sk-toggleable__content\"><pre>LogisticRegression()</pre></div></div></div></div></div></div></div></div></div></div>"
      ],
      "text/plain": [
       "GridSearchCV(cv=5, estimator=LogisticRegression(), n_jobs=-1,\n",
       "             param_grid={'C': [0.001, 0.01, 0.1, 1, 10, 100, 1000],\n",
       "                         'max_iter': [1000, 2500, 5000],\n",
       "                         'penalty': ['l1', 'l2'],\n",
       "                         'solver': ['liblinear', 'saga']},\n",
       "             refit='roc_auc', return_train_score=True,\n",
       "             scoring=['accuracy', 'precision', 'recall', 'f1', 'roc_auc'],\n",
       "             verbose=2)"
      ]
     },
     "execution_count": 75,
     "metadata": {},
     "output_type": "execute_result"
    }
   ],
   "source": [
    "from sklearn.linear_model import LogisticRegression\n",
    "\n",
    "params = {\n",
    "    \"C\": [0.001, 0.01, 0.1, 1, 10, 100, 1000],\n",
    "    \"penalty\": [\"l1\", \"l2\"],\n",
    "    \"solver\": [\"liblinear\", \"saga\"],\n",
    "    \"max_iter\": [1000, 2500, 5000],\n",
    "}\n",
    "logr = GridSearchCV(\n",
    "    LogisticRegression(),\n",
    "    params,\n",
    "    cv=5,\n",
    "    verbose=2,\n",
    "    n_jobs=-1,\n",
    "    refit=refit,\n",
    "    scoring=scoring,\n",
    "    return_train_score=True,\n",
    ")\n",
    "logr.fit(X_train, y_train)"
   ]
  },
  {
   "cell_type": "markdown",
   "metadata": {},
   "source": [
    "We'll start keeping track of all of the results for easy documentation later:"
   ]
  },
  {
   "cell_type": "code",
   "execution_count": 76,
   "metadata": {},
   "outputs": [
    {
     "data": {
      "text/html": [
       "<div>\n",
       "<style scoped>\n",
       "    .dataframe tbody tr th:only-of-type {\n",
       "        vertical-align: middle;\n",
       "    }\n",
       "\n",
       "    .dataframe tbody tr th {\n",
       "        vertical-align: top;\n",
       "    }\n",
       "\n",
       "    .dataframe thead th {\n",
       "        text-align: right;\n",
       "    }\n",
       "</style>\n",
       "<table border=\"1\" class=\"dataframe\">\n",
       "  <thead>\n",
       "    <tr style=\"text-align: right;\">\n",
       "      <th></th>\n",
       "      <th>mean_train_accuracy</th>\n",
       "      <th>mean_train_precision</th>\n",
       "      <th>mean_train_recall</th>\n",
       "      <th>mean_train_f1</th>\n",
       "      <th>mean_train_roc_auc</th>\n",
       "      <th>mean_test_accuracy</th>\n",
       "      <th>mean_test_precision</th>\n",
       "      <th>mean_test_recall</th>\n",
       "      <th>mean_test_f1</th>\n",
       "      <th>mean_test_roc_auc</th>\n",
       "    </tr>\n",
       "    <tr>\n",
       "      <th>model_name</th>\n",
       "      <th></th>\n",
       "      <th></th>\n",
       "      <th></th>\n",
       "      <th></th>\n",
       "      <th></th>\n",
       "      <th></th>\n",
       "      <th></th>\n",
       "      <th></th>\n",
       "      <th></th>\n",
       "      <th></th>\n",
       "    </tr>\n",
       "  </thead>\n",
       "  <tbody>\n",
       "    <tr>\n",
       "      <th>LogisticRegression</th>\n",
       "      <td>0.513566</td>\n",
       "      <td>0.250261</td>\n",
       "      <td>0.00121</td>\n",
       "      <td>0.00238</td>\n",
       "      <td>0.506699</td>\n",
       "      <td>0.51394</td>\n",
       "      <td>0.252288</td>\n",
       "      <td>0.0011</td>\n",
       "      <td>0.002175</td>\n",
       "      <td>0.496346</td>\n",
       "    </tr>\n",
       "  </tbody>\n",
       "</table>\n",
       "</div>"
      ],
      "text/plain": [
       "                    mean_train_accuracy  mean_train_precision  \\\n",
       "model_name                                                      \n",
       "LogisticRegression             0.513566              0.250261   \n",
       "\n",
       "                    mean_train_recall  mean_train_f1  mean_train_roc_auc  \\\n",
       "model_name                                                                 \n",
       "LogisticRegression            0.00121        0.00238            0.506699   \n",
       "\n",
       "                    mean_test_accuracy  mean_test_precision  mean_test_recall  \\\n",
       "model_name                                                                      \n",
       "LogisticRegression             0.51394             0.252288            0.0011   \n",
       "\n",
       "                    mean_test_f1  mean_test_roc_auc  \n",
       "model_name                                           \n",
       "LogisticRegression      0.002175           0.496346  "
      ]
     },
     "execution_count": 76,
     "metadata": {},
     "output_type": "execute_result"
    }
   ],
   "source": [
    "def collect_metrics(model_name: str, results: dict):\n",
    "    result = [model_name]\n",
    "    split_metric_names = [\"model_name\"]\n",
    "    for split in split_names:\n",
    "        for metric in scoring:\n",
    "            split_metric_name = \"_\".join([\"mean\", split, metric])\n",
    "            split_metric_names.append(split_metric_name)\n",
    "\n",
    "    for split_metric_name in split_metric_names[1:]:\n",
    "        # print(split_metric_name, logr_results[split_metric_name].mean())\n",
    "        result.append(results[split_metric_name].mean())\n",
    "\n",
    "    return pd.DataFrame([result], columns=split_metric_names).set_index(\"model_name\")\n",
    "\n",
    "logr_results = collect_metrics(\"LogisticRegression\", logr.cv_results_)\n",
    "logr_results"
   ]
  },
  {
   "cell_type": "markdown",
   "metadata": {},
   "source": [
    "### `RandomForestClassifier`"
   ]
  },
  {
   "cell_type": "code",
   "execution_count": 77,
   "metadata": {},
   "outputs": [
    {
     "name": "stdout",
     "output_type": "stream",
     "text": [
      "Fitting 5 folds for each of 3 candidates, totalling 15 fits\n"
     ]
    },
    {
     "data": {
      "text/html": [
       "<style>#sk-container-id-6 {color: black;}#sk-container-id-6 pre{padding: 0;}#sk-container-id-6 div.sk-toggleable {background-color: white;}#sk-container-id-6 label.sk-toggleable__label {cursor: pointer;display: block;width: 100%;margin-bottom: 0;padding: 0.3em;box-sizing: border-box;text-align: center;}#sk-container-id-6 label.sk-toggleable__label-arrow:before {content: \"▸\";float: left;margin-right: 0.25em;color: #696969;}#sk-container-id-6 label.sk-toggleable__label-arrow:hover:before {color: black;}#sk-container-id-6 div.sk-estimator:hover label.sk-toggleable__label-arrow:before {color: black;}#sk-container-id-6 div.sk-toggleable__content {max-height: 0;max-width: 0;overflow: hidden;text-align: left;background-color: #f0f8ff;}#sk-container-id-6 div.sk-toggleable__content pre {margin: 0.2em;color: black;border-radius: 0.25em;background-color: #f0f8ff;}#sk-container-id-6 input.sk-toggleable__control:checked~div.sk-toggleable__content {max-height: 200px;max-width: 100%;overflow: auto;}#sk-container-id-6 input.sk-toggleable__control:checked~label.sk-toggleable__label-arrow:before {content: \"▾\";}#sk-container-id-6 div.sk-estimator input.sk-toggleable__control:checked~label.sk-toggleable__label {background-color: #d4ebff;}#sk-container-id-6 div.sk-label input.sk-toggleable__control:checked~label.sk-toggleable__label {background-color: #d4ebff;}#sk-container-id-6 input.sk-hidden--visually {border: 0;clip: rect(1px 1px 1px 1px);clip: rect(1px, 1px, 1px, 1px);height: 1px;margin: -1px;overflow: hidden;padding: 0;position: absolute;width: 1px;}#sk-container-id-6 div.sk-estimator {font-family: monospace;background-color: #f0f8ff;border: 1px dotted black;border-radius: 0.25em;box-sizing: border-box;margin-bottom: 0.5em;}#sk-container-id-6 div.sk-estimator:hover {background-color: #d4ebff;}#sk-container-id-6 div.sk-parallel-item::after {content: \"\";width: 100%;border-bottom: 1px solid gray;flex-grow: 1;}#sk-container-id-6 div.sk-label:hover label.sk-toggleable__label {background-color: #d4ebff;}#sk-container-id-6 div.sk-serial::before {content: \"\";position: absolute;border-left: 1px solid gray;box-sizing: border-box;top: 0;bottom: 0;left: 50%;z-index: 0;}#sk-container-id-6 div.sk-serial {display: flex;flex-direction: column;align-items: center;background-color: white;padding-right: 0.2em;padding-left: 0.2em;position: relative;}#sk-container-id-6 div.sk-item {position: relative;z-index: 1;}#sk-container-id-6 div.sk-parallel {display: flex;align-items: stretch;justify-content: center;background-color: white;position: relative;}#sk-container-id-6 div.sk-item::before, #sk-container-id-6 div.sk-parallel-item::before {content: \"\";position: absolute;border-left: 1px solid gray;box-sizing: border-box;top: 0;bottom: 0;left: 50%;z-index: -1;}#sk-container-id-6 div.sk-parallel-item {display: flex;flex-direction: column;z-index: 1;position: relative;background-color: white;}#sk-container-id-6 div.sk-parallel-item:first-child::after {align-self: flex-end;width: 50%;}#sk-container-id-6 div.sk-parallel-item:last-child::after {align-self: flex-start;width: 50%;}#sk-container-id-6 div.sk-parallel-item:only-child::after {width: 0;}#sk-container-id-6 div.sk-dashed-wrapped {border: 1px dashed gray;margin: 0 0.4em 0.5em 0.4em;box-sizing: border-box;padding-bottom: 0.4em;background-color: white;}#sk-container-id-6 div.sk-label label {font-family: monospace;font-weight: bold;display: inline-block;line-height: 1.2em;}#sk-container-id-6 div.sk-label-container {text-align: center;}#sk-container-id-6 div.sk-container {/* jupyter's `normalize.less` sets `[hidden] { display: none; }` but bootstrap.min.css set `[hidden] { display: none !important; }` so we also need the `!important` here to be able to override the default hidden behavior on the sphinx rendered scikit-learn.org. See: https://github.com/scikit-learn/scikit-learn/issues/21755 */display: inline-block !important;position: relative;}#sk-container-id-6 div.sk-text-repr-fallback {display: none;}</style><div id=\"sk-container-id-6\" class=\"sk-top-container\"><div class=\"sk-text-repr-fallback\"><pre>GridSearchCV(cv=5, estimator=RandomForestClassifier(), n_jobs=-1,\n",
       "             param_grid={&#x27;n_estimators&#x27;: [10, 100, 1000]}, refit=&#x27;roc_auc&#x27;,\n",
       "             return_train_score=True,\n",
       "             scoring=[&#x27;accuracy&#x27;, &#x27;precision&#x27;, &#x27;recall&#x27;, &#x27;f1&#x27;, &#x27;roc_auc&#x27;],\n",
       "             verbose=3)</pre><b>In a Jupyter environment, please rerun this cell to show the HTML representation or trust the notebook. <br />On GitHub, the HTML representation is unable to render, please try loading this page with nbviewer.org.</b></div><div class=\"sk-container\" hidden><div class=\"sk-item sk-dashed-wrapped\"><div class=\"sk-label-container\"><div class=\"sk-label sk-toggleable\"><input class=\"sk-toggleable__control sk-hidden--visually\" id=\"sk-estimator-id-16\" type=\"checkbox\" ><label for=\"sk-estimator-id-16\" class=\"sk-toggleable__label sk-toggleable__label-arrow\">GridSearchCV</label><div class=\"sk-toggleable__content\"><pre>GridSearchCV(cv=5, estimator=RandomForestClassifier(), n_jobs=-1,\n",
       "             param_grid={&#x27;n_estimators&#x27;: [10, 100, 1000]}, refit=&#x27;roc_auc&#x27;,\n",
       "             return_train_score=True,\n",
       "             scoring=[&#x27;accuracy&#x27;, &#x27;precision&#x27;, &#x27;recall&#x27;, &#x27;f1&#x27;, &#x27;roc_auc&#x27;],\n",
       "             verbose=3)</pre></div></div></div><div class=\"sk-parallel\"><div class=\"sk-parallel-item\"><div class=\"sk-item\"><div class=\"sk-label-container\"><div class=\"sk-label sk-toggleable\"><input class=\"sk-toggleable__control sk-hidden--visually\" id=\"sk-estimator-id-17\" type=\"checkbox\" ><label for=\"sk-estimator-id-17\" class=\"sk-toggleable__label sk-toggleable__label-arrow\">estimator: RandomForestClassifier</label><div class=\"sk-toggleable__content\"><pre>RandomForestClassifier()</pre></div></div></div><div class=\"sk-serial\"><div class=\"sk-item\"><div class=\"sk-estimator sk-toggleable\"><input class=\"sk-toggleable__control sk-hidden--visually\" id=\"sk-estimator-id-18\" type=\"checkbox\" ><label for=\"sk-estimator-id-18\" class=\"sk-toggleable__label sk-toggleable__label-arrow\">RandomForestClassifier</label><div class=\"sk-toggleable__content\"><pre>RandomForestClassifier()</pre></div></div></div></div></div></div></div></div></div></div>"
      ],
      "text/plain": [
       "GridSearchCV(cv=5, estimator=RandomForestClassifier(), n_jobs=-1,\n",
       "             param_grid={'n_estimators': [10, 100, 1000]}, refit='roc_auc',\n",
       "             return_train_score=True,\n",
       "             scoring=['accuracy', 'precision', 'recall', 'f1', 'roc_auc'],\n",
       "             verbose=3)"
      ]
     },
     "execution_count": 77,
     "metadata": {},
     "output_type": "execute_result"
    }
   ],
   "source": [
    "from sklearn.ensemble import RandomForestClassifier\n",
    "\n",
    "params = {\n",
    "    \"n_estimators\": [10, 100, 1000],\n",
    "    # \"max_depth\": [None, 5, 10, 20],\n",
    "    # \"max_features\": [\"auto\", \"sqrt\", \"log2\"],\n",
    "    # \"criterion\": [\"gini\", \"entropy\"],\n",
    "}\n",
    "rf = GridSearchCV(\n",
    "    RandomForestClassifier(),\n",
    "    params,\n",
    "    cv=5,\n",
    "    verbose=3,\n",
    "    n_jobs=-1,\n",
    "    refit=refit,\n",
    "    scoring=scoring,\n",
    "    return_train_score=True,\n",
    ")\n",
    "rf.fit(X_train, y_train)"
   ]
  },
  {
   "cell_type": "code",
   "execution_count": 78,
   "metadata": {},
   "outputs": [
    {
     "data": {
      "text/html": [
       "<div>\n",
       "<style scoped>\n",
       "    .dataframe tbody tr th:only-of-type {\n",
       "        vertical-align: middle;\n",
       "    }\n",
       "\n",
       "    .dataframe tbody tr th {\n",
       "        vertical-align: top;\n",
       "    }\n",
       "\n",
       "    .dataframe thead th {\n",
       "        text-align: right;\n",
       "    }\n",
       "</style>\n",
       "<table border=\"1\" class=\"dataframe\">\n",
       "  <thead>\n",
       "    <tr style=\"text-align: right;\">\n",
       "      <th></th>\n",
       "      <th>mean_train_accuracy</th>\n",
       "      <th>mean_train_precision</th>\n",
       "      <th>mean_train_recall</th>\n",
       "      <th>mean_train_f1</th>\n",
       "      <th>mean_train_roc_auc</th>\n",
       "      <th>mean_test_accuracy</th>\n",
       "      <th>mean_test_precision</th>\n",
       "      <th>mean_test_recall</th>\n",
       "      <th>mean_test_f1</th>\n",
       "      <th>mean_test_roc_auc</th>\n",
       "    </tr>\n",
       "    <tr>\n",
       "      <th>model_name</th>\n",
       "      <th></th>\n",
       "      <th></th>\n",
       "      <th></th>\n",
       "      <th></th>\n",
       "      <th></th>\n",
       "      <th></th>\n",
       "      <th></th>\n",
       "      <th></th>\n",
       "      <th></th>\n",
       "      <th></th>\n",
       "    </tr>\n",
       "  </thead>\n",
       "  <tbody>\n",
       "    <tr>\n",
       "      <th>RandomForestClassifier</th>\n",
       "      <td>0.994749</td>\n",
       "      <td>0.997291</td>\n",
       "      <td>0.9918</td>\n",
       "      <td>0.994522</td>\n",
       "      <td>0.999632</td>\n",
       "      <td>0.684331</td>\n",
       "      <td>0.675604</td>\n",
       "      <td>0.668175</td>\n",
       "      <td>0.671231</td>\n",
       "      <td>0.778656</td>\n",
       "    </tr>\n",
       "  </tbody>\n",
       "</table>\n",
       "</div>"
      ],
      "text/plain": [
       "                        mean_train_accuracy  mean_train_precision  \\\n",
       "model_name                                                          \n",
       "RandomForestClassifier             0.994749              0.997291   \n",
       "\n",
       "                        mean_train_recall  mean_train_f1  mean_train_roc_auc  \\\n",
       "model_name                                                                     \n",
       "RandomForestClassifier             0.9918       0.994522            0.999632   \n",
       "\n",
       "                        mean_test_accuracy  mean_test_precision  \\\n",
       "model_name                                                        \n",
       "RandomForestClassifier            0.684331             0.675604   \n",
       "\n",
       "                        mean_test_recall  mean_test_f1  mean_test_roc_auc  \n",
       "model_name                                                                 \n",
       "RandomForestClassifier          0.668175      0.671231           0.778656  "
      ]
     },
     "execution_count": 78,
     "metadata": {},
     "output_type": "execute_result"
    }
   ],
   "source": [
    "rf_results = collect_metrics(\"RandomForestClassifier\", rf.cv_results_)\n",
    "rf_results"
   ]
  },
  {
   "cell_type": "markdown",
   "metadata": {},
   "source": [
    "### `SVC`"
   ]
  },
  {
   "cell_type": "code",
   "execution_count": 79,
   "metadata": {},
   "outputs": [
    {
     "name": "stdout",
     "output_type": "stream",
     "text": [
      "Fitting 5 folds for each of 12 candidates, totalling 60 fits\n"
     ]
    },
    {
     "data": {
      "text/html": [
       "<style>#sk-container-id-7 {color: black;}#sk-container-id-7 pre{padding: 0;}#sk-container-id-7 div.sk-toggleable {background-color: white;}#sk-container-id-7 label.sk-toggleable__label {cursor: pointer;display: block;width: 100%;margin-bottom: 0;padding: 0.3em;box-sizing: border-box;text-align: center;}#sk-container-id-7 label.sk-toggleable__label-arrow:before {content: \"▸\";float: left;margin-right: 0.25em;color: #696969;}#sk-container-id-7 label.sk-toggleable__label-arrow:hover:before {color: black;}#sk-container-id-7 div.sk-estimator:hover label.sk-toggleable__label-arrow:before {color: black;}#sk-container-id-7 div.sk-toggleable__content {max-height: 0;max-width: 0;overflow: hidden;text-align: left;background-color: #f0f8ff;}#sk-container-id-7 div.sk-toggleable__content pre {margin: 0.2em;color: black;border-radius: 0.25em;background-color: #f0f8ff;}#sk-container-id-7 input.sk-toggleable__control:checked~div.sk-toggleable__content {max-height: 200px;max-width: 100%;overflow: auto;}#sk-container-id-7 input.sk-toggleable__control:checked~label.sk-toggleable__label-arrow:before {content: \"▾\";}#sk-container-id-7 div.sk-estimator input.sk-toggleable__control:checked~label.sk-toggleable__label {background-color: #d4ebff;}#sk-container-id-7 div.sk-label input.sk-toggleable__control:checked~label.sk-toggleable__label {background-color: #d4ebff;}#sk-container-id-7 input.sk-hidden--visually {border: 0;clip: rect(1px 1px 1px 1px);clip: rect(1px, 1px, 1px, 1px);height: 1px;margin: -1px;overflow: hidden;padding: 0;position: absolute;width: 1px;}#sk-container-id-7 div.sk-estimator {font-family: monospace;background-color: #f0f8ff;border: 1px dotted black;border-radius: 0.25em;box-sizing: border-box;margin-bottom: 0.5em;}#sk-container-id-7 div.sk-estimator:hover {background-color: #d4ebff;}#sk-container-id-7 div.sk-parallel-item::after {content: \"\";width: 100%;border-bottom: 1px solid gray;flex-grow: 1;}#sk-container-id-7 div.sk-label:hover label.sk-toggleable__label {background-color: #d4ebff;}#sk-container-id-7 div.sk-serial::before {content: \"\";position: absolute;border-left: 1px solid gray;box-sizing: border-box;top: 0;bottom: 0;left: 50%;z-index: 0;}#sk-container-id-7 div.sk-serial {display: flex;flex-direction: column;align-items: center;background-color: white;padding-right: 0.2em;padding-left: 0.2em;position: relative;}#sk-container-id-7 div.sk-item {position: relative;z-index: 1;}#sk-container-id-7 div.sk-parallel {display: flex;align-items: stretch;justify-content: center;background-color: white;position: relative;}#sk-container-id-7 div.sk-item::before, #sk-container-id-7 div.sk-parallel-item::before {content: \"\";position: absolute;border-left: 1px solid gray;box-sizing: border-box;top: 0;bottom: 0;left: 50%;z-index: -1;}#sk-container-id-7 div.sk-parallel-item {display: flex;flex-direction: column;z-index: 1;position: relative;background-color: white;}#sk-container-id-7 div.sk-parallel-item:first-child::after {align-self: flex-end;width: 50%;}#sk-container-id-7 div.sk-parallel-item:last-child::after {align-self: flex-start;width: 50%;}#sk-container-id-7 div.sk-parallel-item:only-child::after {width: 0;}#sk-container-id-7 div.sk-dashed-wrapped {border: 1px dashed gray;margin: 0 0.4em 0.5em 0.4em;box-sizing: border-box;padding-bottom: 0.4em;background-color: white;}#sk-container-id-7 div.sk-label label {font-family: monospace;font-weight: bold;display: inline-block;line-height: 1.2em;}#sk-container-id-7 div.sk-label-container {text-align: center;}#sk-container-id-7 div.sk-container {/* jupyter's `normalize.less` sets `[hidden] { display: none; }` but bootstrap.min.css set `[hidden] { display: none !important; }` so we also need the `!important` here to be able to override the default hidden behavior on the sphinx rendered scikit-learn.org. See: https://github.com/scikit-learn/scikit-learn/issues/21755 */display: inline-block !important;position: relative;}#sk-container-id-7 div.sk-text-repr-fallback {display: none;}</style><div id=\"sk-container-id-7\" class=\"sk-top-container\"><div class=\"sk-text-repr-fallback\"><pre>GridSearchCV(cv=5, estimator=SVC(), n_jobs=-1,\n",
       "             param_grid={&#x27;C&#x27;: [0.1, 1, 10],\n",
       "                         &#x27;kernel&#x27;: [&#x27;linear&#x27;, &#x27;poly&#x27;, &#x27;rbf&#x27;, &#x27;sigmoid&#x27;]},\n",
       "             refit=&#x27;roc_auc&#x27;, return_train_score=True,\n",
       "             scoring=[&#x27;accuracy&#x27;, &#x27;precision&#x27;, &#x27;recall&#x27;, &#x27;f1&#x27;, &#x27;roc_auc&#x27;],\n",
       "             verbose=2)</pre><b>In a Jupyter environment, please rerun this cell to show the HTML representation or trust the notebook. <br />On GitHub, the HTML representation is unable to render, please try loading this page with nbviewer.org.</b></div><div class=\"sk-container\" hidden><div class=\"sk-item sk-dashed-wrapped\"><div class=\"sk-label-container\"><div class=\"sk-label sk-toggleable\"><input class=\"sk-toggleable__control sk-hidden--visually\" id=\"sk-estimator-id-19\" type=\"checkbox\" ><label for=\"sk-estimator-id-19\" class=\"sk-toggleable__label sk-toggleable__label-arrow\">GridSearchCV</label><div class=\"sk-toggleable__content\"><pre>GridSearchCV(cv=5, estimator=SVC(), n_jobs=-1,\n",
       "             param_grid={&#x27;C&#x27;: [0.1, 1, 10],\n",
       "                         &#x27;kernel&#x27;: [&#x27;linear&#x27;, &#x27;poly&#x27;, &#x27;rbf&#x27;, &#x27;sigmoid&#x27;]},\n",
       "             refit=&#x27;roc_auc&#x27;, return_train_score=True,\n",
       "             scoring=[&#x27;accuracy&#x27;, &#x27;precision&#x27;, &#x27;recall&#x27;, &#x27;f1&#x27;, &#x27;roc_auc&#x27;],\n",
       "             verbose=2)</pre></div></div></div><div class=\"sk-parallel\"><div class=\"sk-parallel-item\"><div class=\"sk-item\"><div class=\"sk-label-container\"><div class=\"sk-label sk-toggleable\"><input class=\"sk-toggleable__control sk-hidden--visually\" id=\"sk-estimator-id-20\" type=\"checkbox\" ><label for=\"sk-estimator-id-20\" class=\"sk-toggleable__label sk-toggleable__label-arrow\">estimator: SVC</label><div class=\"sk-toggleable__content\"><pre>SVC()</pre></div></div></div><div class=\"sk-serial\"><div class=\"sk-item\"><div class=\"sk-estimator sk-toggleable\"><input class=\"sk-toggleable__control sk-hidden--visually\" id=\"sk-estimator-id-21\" type=\"checkbox\" ><label for=\"sk-estimator-id-21\" class=\"sk-toggleable__label sk-toggleable__label-arrow\">SVC</label><div class=\"sk-toggleable__content\"><pre>SVC()</pre></div></div></div></div></div></div></div></div></div></div>"
      ],
      "text/plain": [
       "GridSearchCV(cv=5, estimator=SVC(), n_jobs=-1,\n",
       "             param_grid={'C': [0.1, 1, 10],\n",
       "                         'kernel': ['linear', 'poly', 'rbf', 'sigmoid']},\n",
       "             refit='roc_auc', return_train_score=True,\n",
       "             scoring=['accuracy', 'precision', 'recall', 'f1', 'roc_auc'],\n",
       "             verbose=2)"
      ]
     },
     "execution_count": 79,
     "metadata": {},
     "output_type": "execute_result"
    }
   ],
   "source": [
    "from sklearn.svm import SVC\n",
    "\n",
    "params = {\n",
    "    \"C\": [0.1, 1, 10],\n",
    "    \"kernel\": [\"linear\", \"poly\", \"rbf\", \"sigmoid\"],\n",
    "}\n",
    "svc = GridSearchCV(\n",
    "    SVC(), params, cv=5, verbose=2, n_jobs=-1, refit=refit, scoring=scoring, return_train_score=True\n",
    ")\n",
    "svc.fit(X_train, y_train)"
   ]
  },
  {
   "cell_type": "code",
   "execution_count": 80,
   "metadata": {},
   "outputs": [
    {
     "data": {
      "text/html": [
       "<div>\n",
       "<style scoped>\n",
       "    .dataframe tbody tr th:only-of-type {\n",
       "        vertical-align: middle;\n",
       "    }\n",
       "\n",
       "    .dataframe tbody tr th {\n",
       "        vertical-align: top;\n",
       "    }\n",
       "\n",
       "    .dataframe thead th {\n",
       "        text-align: right;\n",
       "    }\n",
       "</style>\n",
       "<table border=\"1\" class=\"dataframe\">\n",
       "  <thead>\n",
       "    <tr style=\"text-align: right;\">\n",
       "      <th></th>\n",
       "      <th>mean_train_accuracy</th>\n",
       "      <th>mean_train_precision</th>\n",
       "      <th>mean_train_recall</th>\n",
       "      <th>mean_train_f1</th>\n",
       "      <th>mean_train_roc_auc</th>\n",
       "      <th>mean_test_accuracy</th>\n",
       "      <th>mean_test_precision</th>\n",
       "      <th>mean_test_recall</th>\n",
       "      <th>mean_test_f1</th>\n",
       "      <th>mean_test_roc_auc</th>\n",
       "    </tr>\n",
       "    <tr>\n",
       "      <th>model_name</th>\n",
       "      <th></th>\n",
       "      <th></th>\n",
       "      <th></th>\n",
       "      <th></th>\n",
       "      <th></th>\n",
       "      <th></th>\n",
       "      <th></th>\n",
       "      <th></th>\n",
       "      <th></th>\n",
       "      <th></th>\n",
       "    </tr>\n",
       "  </thead>\n",
       "  <tbody>\n",
       "    <tr>\n",
       "      <th>SVC</th>\n",
       "      <td>0.544964</td>\n",
       "      <td>0.481205</td>\n",
       "      <td>0.291837</td>\n",
       "      <td>0.283186</td>\n",
       "      <td>0.558162</td>\n",
       "      <td>0.545187</td>\n",
       "      <td>0.476661</td>\n",
       "      <td>0.292044</td>\n",
       "      <td>0.283527</td>\n",
       "      <td>0.55905</td>\n",
       "    </tr>\n",
       "  </tbody>\n",
       "</table>\n",
       "</div>"
      ],
      "text/plain": [
       "            mean_train_accuracy  mean_train_precision  mean_train_recall  \\\n",
       "model_name                                                                 \n",
       "SVC                    0.544964              0.481205           0.291837   \n",
       "\n",
       "            mean_train_f1  mean_train_roc_auc  mean_test_accuracy  \\\n",
       "model_name                                                          \n",
       "SVC              0.283186            0.558162            0.545187   \n",
       "\n",
       "            mean_test_precision  mean_test_recall  mean_test_f1  \\\n",
       "model_name                                                        \n",
       "SVC                    0.476661          0.292044      0.283527   \n",
       "\n",
       "            mean_test_roc_auc  \n",
       "model_name                     \n",
       "SVC                   0.55905  "
      ]
     },
     "execution_count": 80,
     "metadata": {},
     "output_type": "execute_result"
    }
   ],
   "source": [
    "svc_results = collect_metrics(\"SVC\", svc.cv_results_)\n",
    "svc_results"
   ]
  },
  {
   "cell_type": "markdown",
   "metadata": {},
   "source": [
    "### `XGBoost`"
   ]
  },
  {
   "cell_type": "code",
   "execution_count": 81,
   "metadata": {},
   "outputs": [
    {
     "name": "stdout",
     "output_type": "stream",
     "text": [
      "Fitting 5 folds for each of 27 candidates, totalling 135 fits\n"
     ]
    },
    {
     "data": {
      "text/html": [
       "<style>#sk-container-id-8 {color: black;}#sk-container-id-8 pre{padding: 0;}#sk-container-id-8 div.sk-toggleable {background-color: white;}#sk-container-id-8 label.sk-toggleable__label {cursor: pointer;display: block;width: 100%;margin-bottom: 0;padding: 0.3em;box-sizing: border-box;text-align: center;}#sk-container-id-8 label.sk-toggleable__label-arrow:before {content: \"▸\";float: left;margin-right: 0.25em;color: #696969;}#sk-container-id-8 label.sk-toggleable__label-arrow:hover:before {color: black;}#sk-container-id-8 div.sk-estimator:hover label.sk-toggleable__label-arrow:before {color: black;}#sk-container-id-8 div.sk-toggleable__content {max-height: 0;max-width: 0;overflow: hidden;text-align: left;background-color: #f0f8ff;}#sk-container-id-8 div.sk-toggleable__content pre {margin: 0.2em;color: black;border-radius: 0.25em;background-color: #f0f8ff;}#sk-container-id-8 input.sk-toggleable__control:checked~div.sk-toggleable__content {max-height: 200px;max-width: 100%;overflow: auto;}#sk-container-id-8 input.sk-toggleable__control:checked~label.sk-toggleable__label-arrow:before {content: \"▾\";}#sk-container-id-8 div.sk-estimator input.sk-toggleable__control:checked~label.sk-toggleable__label {background-color: #d4ebff;}#sk-container-id-8 div.sk-label input.sk-toggleable__control:checked~label.sk-toggleable__label {background-color: #d4ebff;}#sk-container-id-8 input.sk-hidden--visually {border: 0;clip: rect(1px 1px 1px 1px);clip: rect(1px, 1px, 1px, 1px);height: 1px;margin: -1px;overflow: hidden;padding: 0;position: absolute;width: 1px;}#sk-container-id-8 div.sk-estimator {font-family: monospace;background-color: #f0f8ff;border: 1px dotted black;border-radius: 0.25em;box-sizing: border-box;margin-bottom: 0.5em;}#sk-container-id-8 div.sk-estimator:hover {background-color: #d4ebff;}#sk-container-id-8 div.sk-parallel-item::after {content: \"\";width: 100%;border-bottom: 1px solid gray;flex-grow: 1;}#sk-container-id-8 div.sk-label:hover label.sk-toggleable__label {background-color: #d4ebff;}#sk-container-id-8 div.sk-serial::before {content: \"\";position: absolute;border-left: 1px solid gray;box-sizing: border-box;top: 0;bottom: 0;left: 50%;z-index: 0;}#sk-container-id-8 div.sk-serial {display: flex;flex-direction: column;align-items: center;background-color: white;padding-right: 0.2em;padding-left: 0.2em;position: relative;}#sk-container-id-8 div.sk-item {position: relative;z-index: 1;}#sk-container-id-8 div.sk-parallel {display: flex;align-items: stretch;justify-content: center;background-color: white;position: relative;}#sk-container-id-8 div.sk-item::before, #sk-container-id-8 div.sk-parallel-item::before {content: \"\";position: absolute;border-left: 1px solid gray;box-sizing: border-box;top: 0;bottom: 0;left: 50%;z-index: -1;}#sk-container-id-8 div.sk-parallel-item {display: flex;flex-direction: column;z-index: 1;position: relative;background-color: white;}#sk-container-id-8 div.sk-parallel-item:first-child::after {align-self: flex-end;width: 50%;}#sk-container-id-8 div.sk-parallel-item:last-child::after {align-self: flex-start;width: 50%;}#sk-container-id-8 div.sk-parallel-item:only-child::after {width: 0;}#sk-container-id-8 div.sk-dashed-wrapped {border: 1px dashed gray;margin: 0 0.4em 0.5em 0.4em;box-sizing: border-box;padding-bottom: 0.4em;background-color: white;}#sk-container-id-8 div.sk-label label {font-family: monospace;font-weight: bold;display: inline-block;line-height: 1.2em;}#sk-container-id-8 div.sk-label-container {text-align: center;}#sk-container-id-8 div.sk-container {/* jupyter's `normalize.less` sets `[hidden] { display: none; }` but bootstrap.min.css set `[hidden] { display: none !important; }` so we also need the `!important` here to be able to override the default hidden behavior on the sphinx rendered scikit-learn.org. See: https://github.com/scikit-learn/scikit-learn/issues/21755 */display: inline-block !important;position: relative;}#sk-container-id-8 div.sk-text-repr-fallback {display: none;}</style><div id=\"sk-container-id-8\" class=\"sk-top-container\"><div class=\"sk-text-repr-fallback\"><pre>GridSearchCV(cv=5,\n",
       "             estimator=XGBClassifier(base_score=None, booster=None,\n",
       "                                     callbacks=None, colsample_bylevel=None,\n",
       "                                     colsample_bynode=None,\n",
       "                                     colsample_bytree=None, device=None,\n",
       "                                     early_stopping_rounds=None,\n",
       "                                     enable_categorical=False, eval_metric=None,\n",
       "                                     feature_types=None, gamma=None,\n",
       "                                     grow_policy=None, importance_type=None,\n",
       "                                     interaction_constraints=None,\n",
       "                                     learning_rate=None,...\n",
       "                                     missing=nan, monotone_constraints=None,\n",
       "                                     multi_strategy=None, n_estimators=None,\n",
       "                                     n_jobs=None, num_parallel_tree=None,\n",
       "                                     random_state=None, ...),\n",
       "             n_jobs=-1,\n",
       "             param_grid={&#x27;learning_rate&#x27;: [0.01, 0.1, 0.5],\n",
       "                         &#x27;max_depth&#x27;: [3, 5, 7],\n",
       "                         &#x27;n_estimators&#x27;: [100, 500, 1000],\n",
       "                         &#x27;objective&#x27;: [&#x27;binary:logistic&#x27;]},\n",
       "             refit=&#x27;roc_auc&#x27;, return_train_score=True,\n",
       "             scoring=[&#x27;accuracy&#x27;, &#x27;precision&#x27;, &#x27;recall&#x27;, &#x27;f1&#x27;, &#x27;roc_auc&#x27;],\n",
       "             verbose=2)</pre><b>In a Jupyter environment, please rerun this cell to show the HTML representation or trust the notebook. <br />On GitHub, the HTML representation is unable to render, please try loading this page with nbviewer.org.</b></div><div class=\"sk-container\" hidden><div class=\"sk-item sk-dashed-wrapped\"><div class=\"sk-label-container\"><div class=\"sk-label sk-toggleable\"><input class=\"sk-toggleable__control sk-hidden--visually\" id=\"sk-estimator-id-22\" type=\"checkbox\" ><label for=\"sk-estimator-id-22\" class=\"sk-toggleable__label sk-toggleable__label-arrow\">GridSearchCV</label><div class=\"sk-toggleable__content\"><pre>GridSearchCV(cv=5,\n",
       "             estimator=XGBClassifier(base_score=None, booster=None,\n",
       "                                     callbacks=None, colsample_bylevel=None,\n",
       "                                     colsample_bynode=None,\n",
       "                                     colsample_bytree=None, device=None,\n",
       "                                     early_stopping_rounds=None,\n",
       "                                     enable_categorical=False, eval_metric=None,\n",
       "                                     feature_types=None, gamma=None,\n",
       "                                     grow_policy=None, importance_type=None,\n",
       "                                     interaction_constraints=None,\n",
       "                                     learning_rate=None,...\n",
       "                                     missing=nan, monotone_constraints=None,\n",
       "                                     multi_strategy=None, n_estimators=None,\n",
       "                                     n_jobs=None, num_parallel_tree=None,\n",
       "                                     random_state=None, ...),\n",
       "             n_jobs=-1,\n",
       "             param_grid={&#x27;learning_rate&#x27;: [0.01, 0.1, 0.5],\n",
       "                         &#x27;max_depth&#x27;: [3, 5, 7],\n",
       "                         &#x27;n_estimators&#x27;: [100, 500, 1000],\n",
       "                         &#x27;objective&#x27;: [&#x27;binary:logistic&#x27;]},\n",
       "             refit=&#x27;roc_auc&#x27;, return_train_score=True,\n",
       "             scoring=[&#x27;accuracy&#x27;, &#x27;precision&#x27;, &#x27;recall&#x27;, &#x27;f1&#x27;, &#x27;roc_auc&#x27;],\n",
       "             verbose=2)</pre></div></div></div><div class=\"sk-parallel\"><div class=\"sk-parallel-item\"><div class=\"sk-item\"><div class=\"sk-label-container\"><div class=\"sk-label sk-toggleable\"><input class=\"sk-toggleable__control sk-hidden--visually\" id=\"sk-estimator-id-23\" type=\"checkbox\" ><label for=\"sk-estimator-id-23\" class=\"sk-toggleable__label sk-toggleable__label-arrow\">estimator: XGBClassifier</label><div class=\"sk-toggleable__content\"><pre>XGBClassifier(base_score=None, booster=None, callbacks=None,\n",
       "              colsample_bylevel=None, colsample_bynode=None,\n",
       "              colsample_bytree=None, device=None, early_stopping_rounds=None,\n",
       "              enable_categorical=False, eval_metric=None, feature_types=None,\n",
       "              gamma=None, grow_policy=None, importance_type=None,\n",
       "              interaction_constraints=None, learning_rate=None, max_bin=None,\n",
       "              max_cat_threshold=None, max_cat_to_onehot=None,\n",
       "              max_delta_step=None, max_depth=None, max_leaves=None,\n",
       "              min_child_weight=None, missing=nan, monotone_constraints=None,\n",
       "              multi_strategy=None, n_estimators=None, n_jobs=None,\n",
       "              num_parallel_tree=None, random_state=None, ...)</pre></div></div></div><div class=\"sk-serial\"><div class=\"sk-item\"><div class=\"sk-estimator sk-toggleable\"><input class=\"sk-toggleable__control sk-hidden--visually\" id=\"sk-estimator-id-24\" type=\"checkbox\" ><label for=\"sk-estimator-id-24\" class=\"sk-toggleable__label sk-toggleable__label-arrow\">XGBClassifier</label><div class=\"sk-toggleable__content\"><pre>XGBClassifier(base_score=None, booster=None, callbacks=None,\n",
       "              colsample_bylevel=None, colsample_bynode=None,\n",
       "              colsample_bytree=None, device=None, early_stopping_rounds=None,\n",
       "              enable_categorical=False, eval_metric=None, feature_types=None,\n",
       "              gamma=None, grow_policy=None, importance_type=None,\n",
       "              interaction_constraints=None, learning_rate=None, max_bin=None,\n",
       "              max_cat_threshold=None, max_cat_to_onehot=None,\n",
       "              max_delta_step=None, max_depth=None, max_leaves=None,\n",
       "              min_child_weight=None, missing=nan, monotone_constraints=None,\n",
       "              multi_strategy=None, n_estimators=None, n_jobs=None,\n",
       "              num_parallel_tree=None, random_state=None, ...)</pre></div></div></div></div></div></div></div></div></div></div>"
      ],
      "text/plain": [
       "GridSearchCV(cv=5,\n",
       "             estimator=XGBClassifier(base_score=None, booster=None,\n",
       "                                     callbacks=None, colsample_bylevel=None,\n",
       "                                     colsample_bynode=None,\n",
       "                                     colsample_bytree=None, device=None,\n",
       "                                     early_stopping_rounds=None,\n",
       "                                     enable_categorical=False, eval_metric=None,\n",
       "                                     feature_types=None, gamma=None,\n",
       "                                     grow_policy=None, importance_type=None,\n",
       "                                     interaction_constraints=None,\n",
       "                                     learning_rate=None,...\n",
       "                                     missing=nan, monotone_constraints=None,\n",
       "                                     multi_strategy=None, n_estimators=None,\n",
       "                                     n_jobs=None, num_parallel_tree=None,\n",
       "                                     random_state=None, ...),\n",
       "             n_jobs=-1,\n",
       "             param_grid={'learning_rate': [0.01, 0.1, 0.5],\n",
       "                         'max_depth': [3, 5, 7],\n",
       "                         'n_estimators': [100, 500, 1000],\n",
       "                         'objective': ['binary:logistic']},\n",
       "             refit='roc_auc', return_train_score=True,\n",
       "             scoring=['accuracy', 'precision', 'recall', 'f1', 'roc_auc'],\n",
       "             verbose=2)"
      ]
     },
     "execution_count": 81,
     "metadata": {},
     "output_type": "execute_result"
    }
   ],
   "source": [
    "import xgboost as xgb\n",
    "\n",
    "params = {\n",
    "    \"n_estimators\": [100, 500, 1000],\n",
    "    \"max_depth\": [3, 5, 7],\n",
    "    \"learning_rate\": [0.01, 0.1, 0.5],\n",
    "    \"objective\": [\"binary:logistic\"],\n",
    "}\n",
    "\n",
    "xg = GridSearchCV(\n",
    "    xgb.XGBClassifier(),\n",
    "    params,\n",
    "    cv=5,\n",
    "    verbose=2,\n",
    "    n_jobs=-1,\n",
    "    refit=refit,\n",
    "    scoring=scoring,\n",
    "    return_train_score=True,\n",
    ")\n",
    "xg.fit(X_train, y_train)"
   ]
  },
  {
   "cell_type": "code",
   "execution_count": 82,
   "metadata": {},
   "outputs": [
    {
     "data": {
      "text/html": [
       "<div>\n",
       "<style scoped>\n",
       "    .dataframe tbody tr th:only-of-type {\n",
       "        vertical-align: middle;\n",
       "    }\n",
       "\n",
       "    .dataframe tbody tr th {\n",
       "        vertical-align: top;\n",
       "    }\n",
       "\n",
       "    .dataframe thead th {\n",
       "        text-align: right;\n",
       "    }\n",
       "</style>\n",
       "<table border=\"1\" class=\"dataframe\">\n",
       "  <thead>\n",
       "    <tr style=\"text-align: right;\">\n",
       "      <th></th>\n",
       "      <th>mean_train_accuracy</th>\n",
       "      <th>mean_train_precision</th>\n",
       "      <th>mean_train_recall</th>\n",
       "      <th>mean_train_f1</th>\n",
       "      <th>mean_train_roc_auc</th>\n",
       "      <th>mean_test_accuracy</th>\n",
       "      <th>mean_test_precision</th>\n",
       "      <th>mean_test_recall</th>\n",
       "      <th>mean_test_f1</th>\n",
       "      <th>mean_test_roc_auc</th>\n",
       "    </tr>\n",
       "    <tr>\n",
       "      <th>model_name</th>\n",
       "      <th></th>\n",
       "      <th></th>\n",
       "      <th></th>\n",
       "      <th></th>\n",
       "      <th></th>\n",
       "      <th></th>\n",
       "      <th></th>\n",
       "      <th></th>\n",
       "      <th></th>\n",
       "      <th></th>\n",
       "    </tr>\n",
       "  </thead>\n",
       "  <tbody>\n",
       "    <tr>\n",
       "      <th>XGBClassifier</th>\n",
       "      <td>0.808443</td>\n",
       "      <td>0.812066</td>\n",
       "      <td>0.78558</td>\n",
       "      <td>0.79003</td>\n",
       "      <td>0.887706</td>\n",
       "      <td>0.684052</td>\n",
       "      <td>0.686577</td>\n",
       "      <td>0.65801</td>\n",
       "      <td>0.663469</td>\n",
       "      <td>0.781854</td>\n",
       "    </tr>\n",
       "  </tbody>\n",
       "</table>\n",
       "</div>"
      ],
      "text/plain": [
       "               mean_train_accuracy  mean_train_precision  mean_train_recall  \\\n",
       "model_name                                                                    \n",
       "XGBClassifier             0.808443              0.812066            0.78558   \n",
       "\n",
       "               mean_train_f1  mean_train_roc_auc  mean_test_accuracy  \\\n",
       "model_name                                                             \n",
       "XGBClassifier        0.79003            0.887706            0.684052   \n",
       "\n",
       "               mean_test_precision  mean_test_recall  mean_test_f1  \\\n",
       "model_name                                                           \n",
       "XGBClassifier             0.686577           0.65801      0.663469   \n",
       "\n",
       "               mean_test_roc_auc  \n",
       "model_name                        \n",
       "XGBClassifier           0.781854  "
      ]
     },
     "execution_count": 82,
     "metadata": {},
     "output_type": "execute_result"
    }
   ],
   "source": [
    "xg_results = collect_metrics(\"XGBClassifier\", xg.cv_results_)\n",
    "xg_results"
   ]
  },
  {
   "cell_type": "markdown",
   "metadata": {},
   "source": [
    "### Training results"
   ]
  },
  {
   "cell_type": "code",
   "execution_count": 83,
   "metadata": {},
   "outputs": [
    {
     "data": {
      "text/html": [
       "<div>\n",
       "<style scoped>\n",
       "    .dataframe tbody tr th:only-of-type {\n",
       "        vertical-align: middle;\n",
       "    }\n",
       "\n",
       "    .dataframe tbody tr th {\n",
       "        vertical-align: top;\n",
       "    }\n",
       "\n",
       "    .dataframe thead th {\n",
       "        text-align: right;\n",
       "    }\n",
       "</style>\n",
       "<table border=\"1\" class=\"dataframe\">\n",
       "  <thead>\n",
       "    <tr style=\"text-align: right;\">\n",
       "      <th></th>\n",
       "      <th>mean_train_accuracy</th>\n",
       "      <th>mean_train_precision</th>\n",
       "      <th>mean_train_recall</th>\n",
       "      <th>mean_train_f1</th>\n",
       "      <th>mean_train_roc_auc</th>\n",
       "      <th>mean_test_accuracy</th>\n",
       "      <th>mean_test_precision</th>\n",
       "      <th>mean_test_recall</th>\n",
       "      <th>mean_test_f1</th>\n",
       "      <th>mean_test_roc_auc</th>\n",
       "    </tr>\n",
       "    <tr>\n",
       "      <th>model_name</th>\n",
       "      <th></th>\n",
       "      <th></th>\n",
       "      <th></th>\n",
       "      <th></th>\n",
       "      <th></th>\n",
       "      <th></th>\n",
       "      <th></th>\n",
       "      <th></th>\n",
       "      <th></th>\n",
       "      <th></th>\n",
       "    </tr>\n",
       "  </thead>\n",
       "  <tbody>\n",
       "    <tr>\n",
       "      <th>LogisticRegression</th>\n",
       "      <td>0.513566</td>\n",
       "      <td>0.250261</td>\n",
       "      <td>0.001210</td>\n",
       "      <td>0.002380</td>\n",
       "      <td>0.506699</td>\n",
       "      <td>0.513940</td>\n",
       "      <td>0.252288</td>\n",
       "      <td>0.001100</td>\n",
       "      <td>0.002175</td>\n",
       "      <td>0.496346</td>\n",
       "    </tr>\n",
       "    <tr>\n",
       "      <th>RandomForestClassifier</th>\n",
       "      <td>0.994749</td>\n",
       "      <td>0.997291</td>\n",
       "      <td>0.991800</td>\n",
       "      <td>0.994522</td>\n",
       "      <td>0.999632</td>\n",
       "      <td>0.684331</td>\n",
       "      <td>0.675604</td>\n",
       "      <td>0.668175</td>\n",
       "      <td>0.671231</td>\n",
       "      <td>0.778656</td>\n",
       "    </tr>\n",
       "    <tr>\n",
       "      <th>SVC</th>\n",
       "      <td>0.544964</td>\n",
       "      <td>0.481205</td>\n",
       "      <td>0.291837</td>\n",
       "      <td>0.283186</td>\n",
       "      <td>0.558162</td>\n",
       "      <td>0.545187</td>\n",
       "      <td>0.476661</td>\n",
       "      <td>0.292044</td>\n",
       "      <td>0.283527</td>\n",
       "      <td>0.559050</td>\n",
       "    </tr>\n",
       "    <tr>\n",
       "      <th>XGBClassifier</th>\n",
       "      <td>0.808443</td>\n",
       "      <td>0.812066</td>\n",
       "      <td>0.785580</td>\n",
       "      <td>0.790030</td>\n",
       "      <td>0.887706</td>\n",
       "      <td>0.684052</td>\n",
       "      <td>0.686577</td>\n",
       "      <td>0.658010</td>\n",
       "      <td>0.663469</td>\n",
       "      <td>0.781854</td>\n",
       "    </tr>\n",
       "  </tbody>\n",
       "</table>\n",
       "</div>"
      ],
      "text/plain": [
       "                        mean_train_accuracy  mean_train_precision  \\\n",
       "model_name                                                          \n",
       "LogisticRegression                 0.513566              0.250261   \n",
       "RandomForestClassifier             0.994749              0.997291   \n",
       "SVC                                0.544964              0.481205   \n",
       "XGBClassifier                      0.808443              0.812066   \n",
       "\n",
       "                        mean_train_recall  mean_train_f1  mean_train_roc_auc  \\\n",
       "model_name                                                                     \n",
       "LogisticRegression               0.001210       0.002380            0.506699   \n",
       "RandomForestClassifier           0.991800       0.994522            0.999632   \n",
       "SVC                              0.291837       0.283186            0.558162   \n",
       "XGBClassifier                    0.785580       0.790030            0.887706   \n",
       "\n",
       "                        mean_test_accuracy  mean_test_precision  \\\n",
       "model_name                                                        \n",
       "LogisticRegression                0.513940             0.252288   \n",
       "RandomForestClassifier            0.684331             0.675604   \n",
       "SVC                               0.545187             0.476661   \n",
       "XGBClassifier                     0.684052             0.686577   \n",
       "\n",
       "                        mean_test_recall  mean_test_f1  mean_test_roc_auc  \n",
       "model_name                                                                 \n",
       "LogisticRegression              0.001100      0.002175           0.496346  \n",
       "RandomForestClassifier          0.668175      0.671231           0.778656  \n",
       "SVC                             0.292044      0.283527           0.559050  \n",
       "XGBClassifier                   0.658010      0.663469           0.781854  "
      ]
     },
     "execution_count": 83,
     "metadata": {},
     "output_type": "execute_result"
    }
   ],
   "source": [
    "results = pd.concat([logr_results, rf_results, svc_results, xg_results])\n",
    "results"
   ]
  },
  {
   "cell_type": "code",
   "execution_count": 84,
   "metadata": {},
   "outputs": [
    {
     "name": "stdout",
     "output_type": "stream",
     "text": [
      "Saving results to 'results/2023-12-01_02-21-23_experiment1_train_results.csv'\n"
     ]
    }
   ],
   "source": [
    "from datetime import datetime\n",
    "\n",
    "now = datetime.now().strftime(\"%Y-%m-%d_%H-%M-%S\")\n",
    "save_filename = f\"results/{now}_experiment1_train_results.csv\"\n",
    "print(f\"Saving results to '{save_filename}'\")\n",
    "results.to_csv(save_filename)"
   ]
  },
  {
   "cell_type": "markdown",
   "metadata": {},
   "source": [
    "Now we get the same information for the test split using each fitted model:"
   ]
  },
  {
   "cell_type": "code",
   "execution_count": 85,
   "metadata": {},
   "outputs": [
    {
     "name": "stdout",
     "output_type": "stream",
     "text": [
      "Results for:\tLogisticRegression\n",
      "\n",
      "ROC AUC:\t0.5\n",
      "\n",
      "              precision    recall  f1-score   support\n",
      "\n",
      "      normal     0.5168    1.0000    0.6814      1831\n",
      "     parking     0.0000    0.0000    0.0000      1712\n",
      "\n",
      "    accuracy                         0.5168      3543\n",
      "   macro avg     0.2584    0.5000    0.3407      3543\n",
      "weighted avg     0.2671    0.5168    0.3522      3543\n",
      "\n"
     ]
    },
    {
     "name": "stderr",
     "output_type": "stream",
     "text": [
      "c:\\Users\\nicol\\Anaconda3\\envs\\tcss565\\Lib\\site-packages\\sklearn\\metrics\\_classification.py:1471: UndefinedMetricWarning:\n",
      "\n",
      "Precision and F-score are ill-defined and being set to 0.0 in labels with no predicted samples. Use `zero_division` parameter to control this behavior.\n",
      "\n",
      "c:\\Users\\nicol\\Anaconda3\\envs\\tcss565\\Lib\\site-packages\\sklearn\\metrics\\_classification.py:1471: UndefinedMetricWarning:\n",
      "\n",
      "Precision and F-score are ill-defined and being set to 0.0 in labels with no predicted samples. Use `zero_division` parameter to control this behavior.\n",
      "\n",
      "c:\\Users\\nicol\\Anaconda3\\envs\\tcss565\\Lib\\site-packages\\sklearn\\metrics\\_classification.py:1471: UndefinedMetricWarning:\n",
      "\n",
      "Precision and F-score are ill-defined and being set to 0.0 in labels with no predicted samples. Use `zero_division` parameter to control this behavior.\n",
      "\n",
      "c:\\Users\\nicol\\Anaconda3\\envs\\tcss565\\Lib\\site-packages\\sklearn\\metrics\\_classification.py:1471: UndefinedMetricWarning:\n",
      "\n",
      "Precision and F-score are ill-defined and being set to 0.0 in labels with no predicted samples. Use `zero_division` parameter to control this behavior.\n",
      "\n",
      "c:\\Users\\nicol\\Anaconda3\\envs\\tcss565\\Lib\\site-packages\\sklearn\\metrics\\_classification.py:1471: UndefinedMetricWarning:\n",
      "\n",
      "Precision and F-score are ill-defined and being set to 0.0 in labels with no predicted samples. Use `zero_division` parameter to control this behavior.\n",
      "\n",
      "c:\\Users\\nicol\\Anaconda3\\envs\\tcss565\\Lib\\site-packages\\sklearn\\metrics\\_classification.py:1471: UndefinedMetricWarning:\n",
      "\n",
      "Precision and F-score are ill-defined and being set to 0.0 in labels with no predicted samples. Use `zero_division` parameter to control this behavior.\n",
      "\n"
     ]
    },
    {
     "data": {
      "text/html": [
       "<div>\n",
       "<style scoped>\n",
       "    .dataframe tbody tr th:only-of-type {\n",
       "        vertical-align: middle;\n",
       "    }\n",
       "\n",
       "    .dataframe tbody tr th {\n",
       "        vertical-align: top;\n",
       "    }\n",
       "\n",
       "    .dataframe thead th {\n",
       "        text-align: right;\n",
       "    }\n",
       "</style>\n",
       "<table border=\"1\" class=\"dataframe\">\n",
       "  <thead>\n",
       "    <tr style=\"text-align: right;\">\n",
       "      <th></th>\n",
       "      <th>acc</th>\n",
       "      <th>precision</th>\n",
       "      <th>recall</th>\n",
       "      <th>f1</th>\n",
       "      <th>roc_auc</th>\n",
       "    </tr>\n",
       "    <tr>\n",
       "      <th>model_name</th>\n",
       "      <th></th>\n",
       "      <th></th>\n",
       "      <th></th>\n",
       "      <th></th>\n",
       "      <th></th>\n",
       "    </tr>\n",
       "  </thead>\n",
       "  <tbody>\n",
       "    <tr>\n",
       "      <th>LogisticRegression</th>\n",
       "      <td>0.516794</td>\n",
       "      <td>0.258397</td>\n",
       "      <td>0.5</td>\n",
       "      <td>0.340715</td>\n",
       "      <td>0.5</td>\n",
       "    </tr>\n",
       "  </tbody>\n",
       "</table>\n",
       "</div>"
      ],
      "text/plain": [
       "                         acc  precision  recall        f1  roc_auc\n",
       "model_name                                                        \n",
       "LogisticRegression  0.516794   0.258397     0.5  0.340715      0.5"
      ]
     },
     "execution_count": 85,
     "metadata": {},
     "output_type": "execute_result"
    },
    {
     "data": {
      "image/png": "[encoded data removed]",
      "text/plain": [
       "<Figure size 640x480 with 2 Axes>"
      ]
     },
     "metadata": {},
     "output_type": "display_data"
    }
   ],
   "source": [
    "from sklearn.metrics import (\n",
    "    ConfusionMatrixDisplay,\n",
    "    accuracy_score,\n",
    "    classification_report,\n",
    "    confusion_matrix,\n",
    "    roc_auc_score,\n",
    ")\n",
    "\n",
    "\n",
    "def get_evaluation_results(model, X_test, y_test):\n",
    "    macro_avg = \"macro avg\"\n",
    "    y_pred = model.predict(X_test)\n",
    "    cfm = confusion_matrix(y_test, y_pred)\n",
    "    model_name = model.best_estimator_.__class__.__name__\n",
    "    print(f\"Results for:\\t{model_name}\\n\")\n",
    "    acc = accuracy_score(y_test, y_pred)\n",
    "    roc_auc = roc_auc_score(y_test, y_pred)\n",
    "    print(f\"ROC AUC:\\t{roc_auc}\\n\")\n",
    "    cr = classification_report(y_test, y_pred, digits=4, target_names=labels)\n",
    "    cr_dict = classification_report(\n",
    "        y_test, y_pred, digits=4, target_names=labels, output_dict=True\n",
    "    )\n",
    "    print(cr)\n",
    "    cfm_display = ConfusionMatrixDisplay(cfm, display_labels=labels)\n",
    "    cfm_display.plot()\n",
    "    cfm_display.ax_.set_title(f\"Confusion Matrix for {model_name}\")\n",
    "\n",
    "    cfm = pd.DataFrame(cfm, columns=labels, index=labels)\n",
    "    cr = pd.DataFrame.from_dict(cr_dict).T\n",
    "\n",
    "    precision = cr.loc[macro_avg][\"precision\"]\n",
    "    recall = cr.loc[macro_avg][\"recall\"]\n",
    "    f1 = cr.loc[macro_avg][\"f1-score\"]\n",
    "\n",
    "    results = pd.DataFrame(\n",
    "        {\n",
    "            \"model_name\": model_name,\n",
    "            \"acc\": acc,\n",
    "            \"precision\": precision,\n",
    "            \"recall\": recall,\n",
    "            \"f1\": f1,\n",
    "            \"roc_auc\": roc_auc,\n",
    "        },\n",
    "        index=[0],\n",
    "    ).set_index(\"model_name\")\n",
    "\n",
    "    return results\n",
    "\n",
    "\n",
    "logr_results = get_evaluation_results(logr, X_test, y_test)\n",
    "logr_results"
   ]
  },
  {
   "cell_type": "code",
   "execution_count": 86,
   "metadata": {},
   "outputs": [
    {
     "name": "stdout",
     "output_type": "stream",
     "text": [
      "Results for:\tRandomForestClassifier\n",
      "\n",
      "ROC AUC:\t0.7005492121663766\n",
      "\n",
      "              precision    recall  f1-score   support\n",
      "\n",
      "      normal     0.7146    0.7002    0.7073      1831\n",
      "     parking     0.6861    0.7009    0.6934      1712\n",
      "\n",
      "    accuracy                         0.7005      3543\n",
      "   macro avg     0.7004    0.7005    0.7004      3543\n",
      "weighted avg     0.7008    0.7005    0.7006      3543\n",
      "\n"
     ]
    },
    {
     "data": {
      "text/html": [
       "<div>\n",
       "<style scoped>\n",
       "    .dataframe tbody tr th:only-of-type {\n",
       "        vertical-align: middle;\n",
       "    }\n",
       "\n",
       "    .dataframe tbody tr th {\n",
       "        vertical-align: top;\n",
       "    }\n",
       "\n",
       "    .dataframe thead th {\n",
       "        text-align: right;\n",
       "    }\n",
       "</style>\n",
       "<table border=\"1\" class=\"dataframe\">\n",
       "  <thead>\n",
       "    <tr style=\"text-align: right;\">\n",
       "      <th></th>\n",
       "      <th>acc</th>\n",
       "      <th>precision</th>\n",
       "      <th>recall</th>\n",
       "      <th>f1</th>\n",
       "      <th>roc_auc</th>\n",
       "    </tr>\n",
       "    <tr>\n",
       "      <th>model_name</th>\n",
       "      <th></th>\n",
       "      <th></th>\n",
       "      <th></th>\n",
       "      <th></th>\n",
       "      <th></th>\n",
       "    </tr>\n",
       "  </thead>\n",
       "  <tbody>\n",
       "    <tr>\n",
       "      <th>RandomForestClassifier</th>\n",
       "      <td>0.700536</td>\n",
       "      <td>0.700355</td>\n",
       "      <td>0.700549</td>\n",
       "      <td>0.700376</td>\n",
       "      <td>0.700549</td>\n",
       "    </tr>\n",
       "  </tbody>\n",
       "</table>\n",
       "</div>"
      ],
      "text/plain": [
       "                             acc  precision    recall        f1   roc_auc\n",
       "model_name                                                               \n",
       "RandomForestClassifier  0.700536   0.700355  0.700549  0.700376  0.700549"
      ]
     },
     "execution_count": 86,
     "metadata": {},
     "output_type": "execute_result"
    },
    {
     "data": {
      "image/png": "[encoded data removed]",
      "text/plain": [
       "<Figure size 640x480 with 2 Axes>"
      ]
     },
     "metadata": {},
     "output_type": "display_data"
    }
   ],
   "source": [
    "rf_results = get_evaluation_results(rf, X_test, y_test)\n",
    "rf_results"
   ]
  },
  {
   "cell_type": "code",
   "execution_count": 87,
   "metadata": {},
   "outputs": [
    {
     "name": "stdout",
     "output_type": "stream",
     "text": [
      "Results for:\tSVC\n",
      "\n",
      "ROC AUC:\t0.6793058412491004\n",
      "\n",
      "              precision    recall  f1-score   support\n",
      "\n",
      "      normal     0.7566    0.5467    0.6347      1831\n",
      "     parking     0.6261    0.8119    0.7070      1712\n",
      "\n",
      "    accuracy                         0.6749      3543\n",
      "   macro avg     0.6914    0.6793    0.6709      3543\n",
      "weighted avg     0.6936    0.6749    0.6697      3543\n",
      "\n"
     ]
    },
    {
     "data": {
      "text/html": [
       "<div>\n",
       "<style scoped>\n",
       "    .dataframe tbody tr th:only-of-type {\n",
       "        vertical-align: middle;\n",
       "    }\n",
       "\n",
       "    .dataframe tbody tr th {\n",
       "        vertical-align: top;\n",
       "    }\n",
       "\n",
       "    .dataframe thead th {\n",
       "        text-align: right;\n",
       "    }\n",
       "</style>\n",
       "<table border=\"1\" class=\"dataframe\">\n",
       "  <thead>\n",
       "    <tr style=\"text-align: right;\">\n",
       "      <th></th>\n",
       "      <th>acc</th>\n",
       "      <th>precision</th>\n",
       "      <th>recall</th>\n",
       "      <th>f1</th>\n",
       "      <th>roc_auc</th>\n",
       "    </tr>\n",
       "    <tr>\n",
       "      <th>model_name</th>\n",
       "      <th></th>\n",
       "      <th></th>\n",
       "      <th></th>\n",
       "      <th></th>\n",
       "      <th></th>\n",
       "    </tr>\n",
       "  </thead>\n",
       "  <tbody>\n",
       "    <tr>\n",
       "      <th>SVC</th>\n",
       "      <td>0.674852</td>\n",
       "      <td>0.69137</td>\n",
       "      <td>0.679306</td>\n",
       "      <td>0.670884</td>\n",
       "      <td>0.679306</td>\n",
       "    </tr>\n",
       "  </tbody>\n",
       "</table>\n",
       "</div>"
      ],
      "text/plain": [
       "                 acc  precision    recall        f1   roc_auc\n",
       "model_name                                                   \n",
       "SVC         0.674852    0.69137  0.679306  0.670884  0.679306"
      ]
     },
     "execution_count": 87,
     "metadata": {},
     "output_type": "execute_result"
    },
    {
     "data": {
      "image/png": "[encoded data removed]",
      "text/plain": [
       "<Figure size 640x480 with 2 Axes>"
      ]
     },
     "metadata": {},
     "output_type": "display_data"
    }
   ],
   "source": [
    "svc_results = get_evaluation_results(svc, X_test, y_test)\n",
    "svc_results"
   ]
  },
  {
   "cell_type": "code",
   "execution_count": 88,
   "metadata": {},
   "outputs": [
    {
     "name": "stdout",
     "output_type": "stream",
     "text": [
      "Results for:\tXGBClassifier\n",
      "\n"
     ]
    },
    {
     "name": "stdout",
     "output_type": "stream",
     "text": [
      "ROC AUC:\t0.7117918557348265\n",
      "\n",
      "              precision    recall  f1-score   support\n",
      "\n",
      "      normal     0.7358    0.6876    0.7109      1831\n",
      "     parking     0.6878    0.7360    0.7111      1712\n",
      "\n",
      "    accuracy                         0.7110      3543\n",
      "   macro avg     0.7118    0.7118    0.7110      3543\n",
      "weighted avg     0.7126    0.7110    0.7110      3543\n",
      "\n"
     ]
    },
    {
     "data": {
      "text/html": [
       "<div>\n",
       "<style scoped>\n",
       "    .dataframe tbody tr th:only-of-type {\n",
       "        vertical-align: middle;\n",
       "    }\n",
       "\n",
       "    .dataframe tbody tr th {\n",
       "        vertical-align: top;\n",
       "    }\n",
       "\n",
       "    .dataframe thead th {\n",
       "        text-align: right;\n",
       "    }\n",
       "</style>\n",
       "<table border=\"1\" class=\"dataframe\">\n",
       "  <thead>\n",
       "    <tr style=\"text-align: right;\">\n",
       "      <th></th>\n",
       "      <th>acc</th>\n",
       "      <th>precision</th>\n",
       "      <th>recall</th>\n",
       "      <th>f1</th>\n",
       "      <th>roc_auc</th>\n",
       "    </tr>\n",
       "    <tr>\n",
       "      <th>model_name</th>\n",
       "      <th></th>\n",
       "      <th></th>\n",
       "      <th></th>\n",
       "      <th></th>\n",
       "      <th></th>\n",
       "    </tr>\n",
       "  </thead>\n",
       "  <tbody>\n",
       "    <tr>\n",
       "      <th>XGBClassifier</th>\n",
       "      <td>0.710979</td>\n",
       "      <td>0.7118</td>\n",
       "      <td>0.711792</td>\n",
       "      <td>0.710979</td>\n",
       "      <td>0.711792</td>\n",
       "    </tr>\n",
       "  </tbody>\n",
       "</table>\n",
       "</div>"
      ],
      "text/plain": [
       "                    acc  precision    recall        f1   roc_auc\n",
       "model_name                                                      \n",
       "XGBClassifier  0.710979     0.7118  0.711792  0.710979  0.711792"
      ]
     },
     "execution_count": 88,
     "metadata": {},
     "output_type": "execute_result"
    },
    {
     "data": {
      "image/png": "[encoded data removed]",
      "text/plain": [
       "<Figure size 640x480 with 2 Axes>"
      ]
     },
     "metadata": {},
     "output_type": "display_data"
    }
   ],
   "source": [
    "xg_results = get_evaluation_results(xg, X_test, y_test)\n",
    "xg_results"
   ]
  },
  {
   "cell_type": "code",
   "execution_count": 89,
   "metadata": {},
   "outputs": [
    {
     "data": {
      "text/html": [
       "<div>\n",
       "<style scoped>\n",
       "    .dataframe tbody tr th:only-of-type {\n",
       "        vertical-align: middle;\n",
       "    }\n",
       "\n",
       "    .dataframe tbody tr th {\n",
       "        vertical-align: top;\n",
       "    }\n",
       "\n",
       "    .dataframe thead th {\n",
       "        text-align: right;\n",
       "    }\n",
       "</style>\n",
       "<table border=\"1\" class=\"dataframe\">\n",
       "  <thead>\n",
       "    <tr style=\"text-align: right;\">\n",
       "      <th></th>\n",
       "      <th>acc</th>\n",
       "      <th>precision</th>\n",
       "      <th>recall</th>\n",
       "      <th>f1</th>\n",
       "      <th>roc_auc</th>\n",
       "    </tr>\n",
       "    <tr>\n",
       "      <th>model_name</th>\n",
       "      <th></th>\n",
       "      <th></th>\n",
       "      <th></th>\n",
       "      <th></th>\n",
       "      <th></th>\n",
       "    </tr>\n",
       "  </thead>\n",
       "  <tbody>\n",
       "    <tr>\n",
       "      <th>LogisticRegression</th>\n",
       "      <td>0.516794</td>\n",
       "      <td>0.258397</td>\n",
       "      <td>0.500000</td>\n",
       "      <td>0.340715</td>\n",
       "      <td>0.500000</td>\n",
       "    </tr>\n",
       "    <tr>\n",
       "      <th>RandomForestClassifier</th>\n",
       "      <td>0.700536</td>\n",
       "      <td>0.700355</td>\n",
       "      <td>0.700549</td>\n",
       "      <td>0.700376</td>\n",
       "      <td>0.700549</td>\n",
       "    </tr>\n",
       "    <tr>\n",
       "      <th>SVC</th>\n",
       "      <td>0.674852</td>\n",
       "      <td>0.691370</td>\n",
       "      <td>0.679306</td>\n",
       "      <td>0.670884</td>\n",
       "      <td>0.679306</td>\n",
       "    </tr>\n",
       "    <tr>\n",
       "      <th>XGBClassifier</th>\n",
       "      <td>0.710979</td>\n",
       "      <td>0.711800</td>\n",
       "      <td>0.711792</td>\n",
       "      <td>0.710979</td>\n",
       "      <td>0.711792</td>\n",
       "    </tr>\n",
       "  </tbody>\n",
       "</table>\n",
       "</div>"
      ],
      "text/plain": [
       "                             acc  precision    recall        f1   roc_auc\n",
       "model_name                                                               \n",
       "LogisticRegression      0.516794   0.258397  0.500000  0.340715  0.500000\n",
       "RandomForestClassifier  0.700536   0.700355  0.700549  0.700376  0.700549\n",
       "SVC                     0.674852   0.691370  0.679306  0.670884  0.679306\n",
       "XGBClassifier           0.710979   0.711800  0.711792  0.710979  0.711792"
      ]
     },
     "execution_count": 89,
     "metadata": {},
     "output_type": "execute_result"
    }
   ],
   "source": [
    "experiment1_results = pd.concat([logr_results, rf_results, svc_results, xg_results])\n",
    "experiment1_results.to_csv(f\"results/{now}_experiment1_test_results.csv\")\n",
    "experiment1_results"
   ]
  },
  {
   "cell_type": "markdown",
   "metadata": {},
   "source": [
    "Based on the results above, we see that `XGBoost` performs the best on the test split. We will use this model for our real-time prediction experiment."
   ]
  },
  {
   "cell_type": "markdown",
   "metadata": {},
   "source": [
    "## Experiment 2: Prediction on user collected data\n",
    "\n",
    "Additional real worl data was collected via a GPS logging mobile application. The data is sampled at 1 second intervals, so we must resample the data to align with the sampling interval of the taxi dataset."
   ]
  },
  {
   "cell_type": "code",
   "execution_count": 90,
   "metadata": {},
   "outputs": [
    {
     "data": {
      "text/html": [
       "<pre style=\"white-space:pre;overflow-x:auto;line-height:normal;font-family:Menlo,'DejaVu Sans Mono',consolas,'Courier New',monospace\">Results for file: <span style=\"color: #008000; text-decoration-color: #008000\">'data/test/trip1.csv'</span>\n",
       "</pre>\n"
      ],
      "text/plain": [
       "Results for file: \u001b[32m'data/test/trip1.csv'\u001b[0m\n"
      ]
     },
     "metadata": {},
     "output_type": "display_data"
    },
    {
     "name": "stderr",
     "output_type": "stream",
     "text": [
      "c:\\Users\\nicol\\Anaconda3\\envs\\tcss565\\Lib\\site-packages\\sklearn\\base.py:465: UserWarning:\n",
      "\n",
      "X does not have valid feature names, but StandardScaler was fitted with feature names\n",
      "\n"
     ]
    },
    {
     "data": {
      "text/html": [
       "<pre style=\"white-space:pre;overflow-x:auto;line-height:normal;font-family:Menlo,'DejaVu Sans Mono',consolas,'Courier New',monospace\">Features: <span style=\"font-weight: bold\">[[</span> <span style=\"color: #008080; text-decoration-color: #008080; font-weight: bold\">1.4803019</span>   <span style=\"color: #008080; text-decoration-color: #008080; font-weight: bold\">2.39723971</span> <span style=\"color: #008080; text-decoration-color: #008080; font-weight: bold\">-1.48498684</span><span style=\"font-weight: bold\">]]</span>\n",
       "</pre>\n"
      ],
      "text/plain": [
       "Features: \u001b[1m[\u001b[0m\u001b[1m[\u001b[0m \u001b[1;36m1.4803019\u001b[0m   \u001b[1;36m2.39723971\u001b[0m \u001b[1;36m-1.48498684\u001b[0m\u001b[1m]\u001b[0m\u001b[1m]\u001b[0m\n"
      ]
     },
     "metadata": {},
     "output_type": "display_data"
    },
    {
     "data": {
      "text/html": [
       "<pre style=\"white-space:pre;overflow-x:auto;line-height:normal;font-family:Menlo,'DejaVu Sans Mono',consolas,'Courier New',monospace\">LogisticRegression: <span style=\"color: #008000; text-decoration-color: #008000\">'normal'</span> <span style=\"font-weight: bold\">(</span><span style=\"color: #008080; text-decoration-color: #008080; font-weight: bold\">0</span><span style=\"font-weight: bold\">)</span>\n",
       "</pre>\n"
      ],
      "text/plain": [
       "LogisticRegression: \u001b[32m'normal'\u001b[0m \u001b[1m(\u001b[0m\u001b[1;36m0\u001b[0m\u001b[1m)\u001b[0m\n"
      ]
     },
     "metadata": {},
     "output_type": "display_data"
    },
    {
     "data": {
      "text/html": [
       "<pre style=\"white-space:pre;overflow-x:auto;line-height:normal;font-family:Menlo,'DejaVu Sans Mono',consolas,'Courier New',monospace\">RandomForestClassifier: <span style=\"color: #008000; text-decoration-color: #008000\">'parking'</span> <span style=\"font-weight: bold\">(</span><span style=\"color: #008080; text-decoration-color: #008080; font-weight: bold\">1</span><span style=\"font-weight: bold\">)</span>\n",
       "</pre>\n"
      ],
      "text/plain": [
       "RandomForestClassifier: \u001b[32m'parking'\u001b[0m \u001b[1m(\u001b[0m\u001b[1;36m1\u001b[0m\u001b[1m)\u001b[0m\n"
      ]
     },
     "metadata": {},
     "output_type": "display_data"
    },
    {
     "data": {
      "text/html": [
       "<pre style=\"white-space:pre;overflow-x:auto;line-height:normal;font-family:Menlo,'DejaVu Sans Mono',consolas,'Courier New',monospace\">SVC: <span style=\"color: #008000; text-decoration-color: #008000\">'parking'</span> <span style=\"font-weight: bold\">(</span><span style=\"color: #008080; text-decoration-color: #008080; font-weight: bold\">1</span><span style=\"font-weight: bold\">)</span>\n",
       "</pre>\n"
      ],
      "text/plain": [
       "SVC: \u001b[32m'parking'\u001b[0m \u001b[1m(\u001b[0m\u001b[1;36m1\u001b[0m\u001b[1m)\u001b[0m\n"
      ]
     },
     "metadata": {},
     "output_type": "display_data"
    },
    {
     "data": {
      "text/html": [
       "<pre style=\"white-space:pre;overflow-x:auto;line-height:normal;font-family:Menlo,'DejaVu Sans Mono',consolas,'Courier New',monospace\">XGBClassifier: <span style=\"color: #008000; text-decoration-color: #008000\">'parking'</span> <span style=\"font-weight: bold\">(</span><span style=\"color: #008080; text-decoration-color: #008080; font-weight: bold\">1</span><span style=\"font-weight: bold\">)</span>\n",
       "</pre>\n"
      ],
      "text/plain": [
       "XGBClassifier: \u001b[32m'parking'\u001b[0m \u001b[1m(\u001b[0m\u001b[1;36m1\u001b[0m\u001b[1m)\u001b[0m\n"
      ]
     },
     "metadata": {},
     "output_type": "display_data"
    },
    {
     "data": {
      "text/html": [
       "<pre style=\"white-space:pre;overflow-x:auto;line-height:normal;font-family:Menlo,'DejaVu Sans Mono',consolas,'Courier New',monospace\">\n",
       "</pre>\n"
      ],
      "text/plain": [
       "\n"
      ]
     },
     "metadata": {},
     "output_type": "display_data"
    },
    {
     "data": {
      "text/html": [
       "<pre style=\"white-space:pre;overflow-x:auto;line-height:normal;font-family:Menlo,'DejaVu Sans Mono',consolas,'Courier New',monospace\">Results for file: <span style=\"color: #008000; text-decoration-color: #008000\">'data/test/trip2.csv'</span>\n",
       "</pre>\n"
      ],
      "text/plain": [
       "Results for file: \u001b[32m'data/test/trip2.csv'\u001b[0m\n"
      ]
     },
     "metadata": {},
     "output_type": "display_data"
    },
    {
     "name": "stderr",
     "output_type": "stream",
     "text": [
      "c:\\Users\\nicol\\Anaconda3\\envs\\tcss565\\Lib\\site-packages\\sklearn\\base.py:465: UserWarning:\n",
      "\n",
      "X does not have valid feature names, but StandardScaler was fitted with feature names\n",
      "\n"
     ]
    },
    {
     "data": {
      "text/html": [
       "<pre style=\"white-space:pre;overflow-x:auto;line-height:normal;font-family:Menlo,'DejaVu Sans Mono',consolas,'Courier New',monospace\">Features: <span style=\"font-weight: bold\">[[</span> <span style=\"color: #008080; text-decoration-color: #008080; font-weight: bold\">0.51273504</span>  <span style=\"color: #008080; text-decoration-color: #008080; font-weight: bold\">0.29004556</span> <span style=\"color: #008080; text-decoration-color: #008080; font-weight: bold\">-1.18488577</span><span style=\"font-weight: bold\">]]</span>\n",
       "</pre>\n"
      ],
      "text/plain": [
       "Features: \u001b[1m[\u001b[0m\u001b[1m[\u001b[0m \u001b[1;36m0.51273504\u001b[0m  \u001b[1;36m0.29004556\u001b[0m \u001b[1;36m-1.18488577\u001b[0m\u001b[1m]\u001b[0m\u001b[1m]\u001b[0m\n"
      ]
     },
     "metadata": {},
     "output_type": "display_data"
    },
    {
     "data": {
      "text/html": [
       "<pre style=\"white-space:pre;overflow-x:auto;line-height:normal;font-family:Menlo,'DejaVu Sans Mono',consolas,'Courier New',monospace\">LogisticRegression: <span style=\"color: #008000; text-decoration-color: #008000\">'normal'</span> <span style=\"font-weight: bold\">(</span><span style=\"color: #008080; text-decoration-color: #008080; font-weight: bold\">0</span><span style=\"font-weight: bold\">)</span>\n",
       "</pre>\n"
      ],
      "text/plain": [
       "LogisticRegression: \u001b[32m'normal'\u001b[0m \u001b[1m(\u001b[0m\u001b[1;36m0\u001b[0m\u001b[1m)\u001b[0m\n"
      ]
     },
     "metadata": {},
     "output_type": "display_data"
    },
    {
     "data": {
      "text/html": [
       "<pre style=\"white-space:pre;overflow-x:auto;line-height:normal;font-family:Menlo,'DejaVu Sans Mono',consolas,'Courier New',monospace\">RandomForestClassifier: <span style=\"color: #008000; text-decoration-color: #008000\">'parking'</span> <span style=\"font-weight: bold\">(</span><span style=\"color: #008080; text-decoration-color: #008080; font-weight: bold\">1</span><span style=\"font-weight: bold\">)</span>\n",
       "</pre>\n"
      ],
      "text/plain": [
       "RandomForestClassifier: \u001b[32m'parking'\u001b[0m \u001b[1m(\u001b[0m\u001b[1;36m1\u001b[0m\u001b[1m)\u001b[0m\n"
      ]
     },
     "metadata": {},
     "output_type": "display_data"
    },
    {
     "data": {
      "text/html": [
       "<pre style=\"white-space:pre;overflow-x:auto;line-height:normal;font-family:Menlo,'DejaVu Sans Mono',consolas,'Courier New',monospace\">SVC: <span style=\"color: #008000; text-decoration-color: #008000\">'parking'</span> <span style=\"font-weight: bold\">(</span><span style=\"color: #008080; text-decoration-color: #008080; font-weight: bold\">1</span><span style=\"font-weight: bold\">)</span>\n",
       "</pre>\n"
      ],
      "text/plain": [
       "SVC: \u001b[32m'parking'\u001b[0m \u001b[1m(\u001b[0m\u001b[1;36m1\u001b[0m\u001b[1m)\u001b[0m\n"
      ]
     },
     "metadata": {},
     "output_type": "display_data"
    },
    {
     "data": {
      "text/html": [
       "<pre style=\"white-space:pre;overflow-x:auto;line-height:normal;font-family:Menlo,'DejaVu Sans Mono',consolas,'Courier New',monospace\">XGBClassifier: <span style=\"color: #008000; text-decoration-color: #008000\">'parking'</span> <span style=\"font-weight: bold\">(</span><span style=\"color: #008080; text-decoration-color: #008080; font-weight: bold\">1</span><span style=\"font-weight: bold\">)</span>\n",
       "</pre>\n"
      ],
      "text/plain": [
       "XGBClassifier: \u001b[32m'parking'\u001b[0m \u001b[1m(\u001b[0m\u001b[1;36m1\u001b[0m\u001b[1m)\u001b[0m\n"
      ]
     },
     "metadata": {},
     "output_type": "display_data"
    },
    {
     "data": {
      "text/html": [
       "<pre style=\"white-space:pre;overflow-x:auto;line-height:normal;font-family:Menlo,'DejaVu Sans Mono',consolas,'Courier New',monospace\">\n",
       "</pre>\n"
      ],
      "text/plain": [
       "\n"
      ]
     },
     "metadata": {},
     "output_type": "display_data"
    },
    {
     "data": {
      "text/html": [
       "<pre style=\"white-space:pre;overflow-x:auto;line-height:normal;font-family:Menlo,'DejaVu Sans Mono',consolas,'Courier New',monospace\">Results for file: <span style=\"color: #008000; text-decoration-color: #008000\">'data/test/trip3.csv'</span>\n",
       "</pre>\n"
      ],
      "text/plain": [
       "Results for file: \u001b[32m'data/test/trip3.csv'\u001b[0m\n"
      ]
     },
     "metadata": {},
     "output_type": "display_data"
    },
    {
     "name": "stderr",
     "output_type": "stream",
     "text": [
      "c:\\Users\\nicol\\Anaconda3\\envs\\tcss565\\Lib\\site-packages\\sklearn\\base.py:465: UserWarning:\n",
      "\n",
      "X does not have valid feature names, but StandardScaler was fitted with feature names\n",
      "\n"
     ]
    },
    {
     "data": {
      "text/html": [
       "<pre style=\"white-space:pre;overflow-x:auto;line-height:normal;font-family:Menlo,'DejaVu Sans Mono',consolas,'Courier New',monospace\">Features: <span style=\"font-weight: bold\">[[</span> <span style=\"color: #008080; text-decoration-color: #008080; font-weight: bold\">0.55808585</span>  <span style=\"color: #008080; text-decoration-color: #008080; font-weight: bold\">1.99924347</span> <span style=\"color: #008080; text-decoration-color: #008080; font-weight: bold\">-1.2323439</span> <span style=\"font-weight: bold\">]]</span>\n",
       "</pre>\n"
      ],
      "text/plain": [
       "Features: \u001b[1m[\u001b[0m\u001b[1m[\u001b[0m \u001b[1;36m0.55808585\u001b[0m  \u001b[1;36m1.99924347\u001b[0m \u001b[1;36m-1.2323439\u001b[0m \u001b[1m]\u001b[0m\u001b[1m]\u001b[0m\n"
      ]
     },
     "metadata": {},
     "output_type": "display_data"
    },
    {
     "data": {
      "text/html": [
       "<pre style=\"white-space:pre;overflow-x:auto;line-height:normal;font-family:Menlo,'DejaVu Sans Mono',consolas,'Courier New',monospace\">LogisticRegression: <span style=\"color: #008000; text-decoration-color: #008000\">'normal'</span> <span style=\"font-weight: bold\">(</span><span style=\"color: #008080; text-decoration-color: #008080; font-weight: bold\">0</span><span style=\"font-weight: bold\">)</span>\n",
       "</pre>\n"
      ],
      "text/plain": [
       "LogisticRegression: \u001b[32m'normal'\u001b[0m \u001b[1m(\u001b[0m\u001b[1;36m0\u001b[0m\u001b[1m)\u001b[0m\n"
      ]
     },
     "metadata": {},
     "output_type": "display_data"
    },
    {
     "data": {
      "text/html": [
       "<pre style=\"white-space:pre;overflow-x:auto;line-height:normal;font-family:Menlo,'DejaVu Sans Mono',consolas,'Courier New',monospace\">RandomForestClassifier: <span style=\"color: #008000; text-decoration-color: #008000\">'parking'</span> <span style=\"font-weight: bold\">(</span><span style=\"color: #008080; text-decoration-color: #008080; font-weight: bold\">1</span><span style=\"font-weight: bold\">)</span>\n",
       "</pre>\n"
      ],
      "text/plain": [
       "RandomForestClassifier: \u001b[32m'parking'\u001b[0m \u001b[1m(\u001b[0m\u001b[1;36m1\u001b[0m\u001b[1m)\u001b[0m\n"
      ]
     },
     "metadata": {},
     "output_type": "display_data"
    },
    {
     "data": {
      "text/html": [
       "<pre style=\"white-space:pre;overflow-x:auto;line-height:normal;font-family:Menlo,'DejaVu Sans Mono',consolas,'Courier New',monospace\">SVC: <span style=\"color: #008000; text-decoration-color: #008000\">'parking'</span> <span style=\"font-weight: bold\">(</span><span style=\"color: #008080; text-decoration-color: #008080; font-weight: bold\">1</span><span style=\"font-weight: bold\">)</span>\n",
       "</pre>\n"
      ],
      "text/plain": [
       "SVC: \u001b[32m'parking'\u001b[0m \u001b[1m(\u001b[0m\u001b[1;36m1\u001b[0m\u001b[1m)\u001b[0m\n"
      ]
     },
     "metadata": {},
     "output_type": "display_data"
    },
    {
     "data": {
      "text/html": [
       "<pre style=\"white-space:pre;overflow-x:auto;line-height:normal;font-family:Menlo,'DejaVu Sans Mono',consolas,'Courier New',monospace\">XGBClassifier: <span style=\"color: #008000; text-decoration-color: #008000\">'parking'</span> <span style=\"font-weight: bold\">(</span><span style=\"color: #008080; text-decoration-color: #008080; font-weight: bold\">1</span><span style=\"font-weight: bold\">)</span>\n",
       "</pre>\n"
      ],
      "text/plain": [
       "XGBClassifier: \u001b[32m'parking'\u001b[0m \u001b[1m(\u001b[0m\u001b[1;36m1\u001b[0m\u001b[1m)\u001b[0m\n"
      ]
     },
     "metadata": {},
     "output_type": "display_data"
    },
    {
     "data": {
      "text/html": [
       "<pre style=\"white-space:pre;overflow-x:auto;line-height:normal;font-family:Menlo,'DejaVu Sans Mono',consolas,'Courier New',monospace\">\n",
       "</pre>\n"
      ],
      "text/plain": [
       "\n"
      ]
     },
     "metadata": {},
     "output_type": "display_data"
    },
    {
     "data": {
      "text/html": [
       "<pre style=\"white-space:pre;overflow-x:auto;line-height:normal;font-family:Menlo,'DejaVu Sans Mono',consolas,'Courier New',monospace\">Results for file: <span style=\"color: #008000; text-decoration-color: #008000\">'data/test/track_points.csv'</span>\n",
       "</pre>\n"
      ],
      "text/plain": [
       "Results for file: \u001b[32m'data/test/track_points.csv'\u001b[0m\n"
      ]
     },
     "metadata": {},
     "output_type": "display_data"
    },
    {
     "name": "stderr",
     "output_type": "stream",
     "text": [
      "c:\\Users\\nicol\\Anaconda3\\envs\\tcss565\\Lib\\site-packages\\sklearn\\base.py:465: UserWarning:\n",
      "\n",
      "X does not have valid feature names, but StandardScaler was fitted with feature names\n",
      "\n"
     ]
    },
    {
     "data": {
      "text/html": [
       "<pre style=\"white-space:pre;overflow-x:auto;line-height:normal;font-family:Menlo,'DejaVu Sans Mono',consolas,'Courier New',monospace\">Features: <span style=\"font-weight: bold\">[[</span><span style=\"color: #008080; text-decoration-color: #008080; font-weight: bold\">22.07740547</span> <span style=\"color: #008080; text-decoration-color: #008080; font-weight: bold\">-0.08212875</span> <span style=\"color: #008080; text-decoration-color: #008080; font-weight: bold\">-2.35031293</span><span style=\"font-weight: bold\">]]</span>\n",
       "</pre>\n"
      ],
      "text/plain": [
       "Features: \u001b[1m[\u001b[0m\u001b[1m[\u001b[0m\u001b[1;36m22.07740547\u001b[0m \u001b[1;36m-0.08212875\u001b[0m \u001b[1;36m-2.35031293\u001b[0m\u001b[1m]\u001b[0m\u001b[1m]\u001b[0m\n"
      ]
     },
     "metadata": {},
     "output_type": "display_data"
    },
    {
     "data": {
      "text/html": [
       "<pre style=\"white-space:pre;overflow-x:auto;line-height:normal;font-family:Menlo,'DejaVu Sans Mono',consolas,'Courier New',monospace\">LogisticRegression: <span style=\"color: #008000; text-decoration-color: #008000\">'normal'</span> <span style=\"font-weight: bold\">(</span><span style=\"color: #008080; text-decoration-color: #008080; font-weight: bold\">0</span><span style=\"font-weight: bold\">)</span>\n",
       "</pre>\n"
      ],
      "text/plain": [
       "LogisticRegression: \u001b[32m'normal'\u001b[0m \u001b[1m(\u001b[0m\u001b[1;36m0\u001b[0m\u001b[1m)\u001b[0m\n"
      ]
     },
     "metadata": {},
     "output_type": "display_data"
    },
    {
     "data": {
      "text/html": [
       "<pre style=\"white-space:pre;overflow-x:auto;line-height:normal;font-family:Menlo,'DejaVu Sans Mono',consolas,'Courier New',monospace\">RandomForestClassifier: <span style=\"color: #008000; text-decoration-color: #008000\">'parking'</span> <span style=\"font-weight: bold\">(</span><span style=\"color: #008080; text-decoration-color: #008080; font-weight: bold\">1</span><span style=\"font-weight: bold\">)</span>\n",
       "</pre>\n"
      ],
      "text/plain": [
       "RandomForestClassifier: \u001b[32m'parking'\u001b[0m \u001b[1m(\u001b[0m\u001b[1;36m1\u001b[0m\u001b[1m)\u001b[0m\n"
      ]
     },
     "metadata": {},
     "output_type": "display_data"
    },
    {
     "data": {
      "text/html": [
       "<pre style=\"white-space:pre;overflow-x:auto;line-height:normal;font-family:Menlo,'DejaVu Sans Mono',consolas,'Courier New',monospace\">SVC: <span style=\"color: #008000; text-decoration-color: #008000\">'normal'</span> <span style=\"font-weight: bold\">(</span><span style=\"color: #008080; text-decoration-color: #008080; font-weight: bold\">0</span><span style=\"font-weight: bold\">)</span>\n",
       "</pre>\n"
      ],
      "text/plain": [
       "SVC: \u001b[32m'normal'\u001b[0m \u001b[1m(\u001b[0m\u001b[1;36m0\u001b[0m\u001b[1m)\u001b[0m\n"
      ]
     },
     "metadata": {},
     "output_type": "display_data"
    },
    {
     "data": {
      "text/html": [
       "<pre style=\"white-space:pre;overflow-x:auto;line-height:normal;font-family:Menlo,'DejaVu Sans Mono',consolas,'Courier New',monospace\">XGBClassifier: <span style=\"color: #008000; text-decoration-color: #008000\">'normal'</span> <span style=\"font-weight: bold\">(</span><span style=\"color: #008080; text-decoration-color: #008080; font-weight: bold\">0</span><span style=\"font-weight: bold\">)</span>\n",
       "</pre>\n"
      ],
      "text/plain": [
       "XGBClassifier: \u001b[32m'normal'\u001b[0m \u001b[1m(\u001b[0m\u001b[1;36m0\u001b[0m\u001b[1m)\u001b[0m\n"
      ]
     },
     "metadata": {},
     "output_type": "display_data"
    },
    {
     "data": {
      "text/html": [
       "<pre style=\"white-space:pre;overflow-x:auto;line-height:normal;font-family:Menlo,'DejaVu Sans Mono',consolas,'Courier New',monospace\">\n",
       "</pre>\n"
      ],
      "text/plain": [
       "\n"
      ]
     },
     "metadata": {},
     "output_type": "display_data"
    }
   ],
   "source": [
    "current_interval = 60\n",
    "test_data_files = [\n",
    "    \"data/test/trip1.csv\",\n",
    "    \"data/test/trip2.csv\",\n",
    "    \"data/test/trip3.csv\",\n",
    "    \"data/test/track_points.csv\",\n",
    "]\n",
    "resample_num = current_interval // interval\n",
    "models = [logr, rf, svc, xg]\n",
    "\n",
    "model_results = {}\n",
    "for model in models:\n",
    "    model_name = model.best_estimator_.__class__.__name__\n",
    "    model_results[model_name] = []\n",
    "\n",
    "for test_file in test_data_files:\n",
    "    console.print(f\"Results for file: '{test_file}'\")\n",
    "    data = pd.read_csv(test_file)\n",
    "    if test_file == \"data/test/track_points.csv\":\n",
    "        lats, lons = data[\"X\"].values, data[\"Y\"].values\n",
    "    else:\n",
    "        lats, longs = data[\"latitude\"].values, data[\"longitude\"].values\n",
    "    data = list(zip(lats, longs))[-current_interval:]\n",
    "    d1 = calculate_distance1(data)\n",
    "    d2 = calculate_distance2(data)\n",
    "    area = calculate_area(data)\n",
    "\n",
    "    features = scaler.transform(np.array([d1, d2, area]).reshape(1, -1))\n",
    "    console.print(f\"Features: {features}\")\n",
    "\n",
    "\n",
    "    for model in models:\n",
    "        model_name = model.best_estimator_.__class__.__name__\n",
    "        pred = model.best_estimator_.predict(features)[0]\n",
    "        model_results[model_name].append(pred)\n",
    "        label = labels[pred]\n",
    "        l = f\"{model_name}: '{label}' ({pred})\"\n",
    "        console.print(l)\n",
    "\n",
    "    console.print(\"\")"
   ]
  },
  {
   "cell_type": "code",
   "execution_count": 91,
   "metadata": {},
   "outputs": [
    {
     "data": {
      "text/plain": [
       "{'LogisticRegression': [0, 0, 0, 0],\n",
       " 'RandomForestClassifier': [1, 1, 1, 1],\n",
       " 'SVC': [1, 1, 1, 0],\n",
       " 'XGBClassifier': [1, 1, 1, 0]}"
      ]
     },
     "execution_count": 91,
     "metadata": {},
     "output_type": "execute_result"
    }
   ],
   "source": [
    "model_results"
   ]
  },
  {
   "cell_type": "code",
   "execution_count": 92,
   "metadata": {},
   "outputs": [
    {
     "name": "stderr",
     "output_type": "stream",
     "text": [
      "c:\\Users\\nicol\\Anaconda3\\envs\\tcss565\\Lib\\site-packages\\sklearn\\metrics\\_classification.py:1471: UndefinedMetricWarning:\n",
      "\n",
      "Precision is ill-defined and being set to 0.0 due to no predicted samples. Use `zero_division` parameter to control this behavior.\n",
      "\n"
     ]
    },
    {
     "data": {
      "text/html": [
       "<div>\n",
       "<style scoped>\n",
       "    .dataframe tbody tr th:only-of-type {\n",
       "        vertical-align: middle;\n",
       "    }\n",
       "\n",
       "    .dataframe tbody tr th {\n",
       "        vertical-align: top;\n",
       "    }\n",
       "\n",
       "    .dataframe thead th {\n",
       "        text-align: right;\n",
       "    }\n",
       "</style>\n",
       "<table border=\"1\" class=\"dataframe\">\n",
       "  <thead>\n",
       "    <tr style=\"text-align: right;\">\n",
       "      <th></th>\n",
       "      <th>accuracy</th>\n",
       "      <th>precision</th>\n",
       "      <th>recall</th>\n",
       "      <th>f1</th>\n",
       "    </tr>\n",
       "    <tr>\n",
       "      <th>model_name</th>\n",
       "      <th></th>\n",
       "      <th></th>\n",
       "      <th></th>\n",
       "      <th></th>\n",
       "    </tr>\n",
       "  </thead>\n",
       "  <tbody>\n",
       "    <tr>\n",
       "      <th>LogisticRegression</th>\n",
       "      <td>0.00</td>\n",
       "      <td>0.0</td>\n",
       "      <td>0.00</td>\n",
       "      <td>0.000000</td>\n",
       "    </tr>\n",
       "    <tr>\n",
       "      <th>RandomForestClassifier</th>\n",
       "      <td>1.00</td>\n",
       "      <td>1.0</td>\n",
       "      <td>1.00</td>\n",
       "      <td>1.000000</td>\n",
       "    </tr>\n",
       "    <tr>\n",
       "      <th>SVC</th>\n",
       "      <td>0.75</td>\n",
       "      <td>1.0</td>\n",
       "      <td>0.75</td>\n",
       "      <td>0.857143</td>\n",
       "    </tr>\n",
       "    <tr>\n",
       "      <th>XGBClassifier</th>\n",
       "      <td>0.75</td>\n",
       "      <td>1.0</td>\n",
       "      <td>0.75</td>\n",
       "      <td>0.857143</td>\n",
       "    </tr>\n",
       "  </tbody>\n",
       "</table>\n",
       "</div>"
      ],
      "text/plain": [
       "                        accuracy  precision  recall        f1\n",
       "model_name                                                   \n",
       "LogisticRegression          0.00        0.0    0.00  0.000000\n",
       "RandomForestClassifier      1.00        1.0    1.00  1.000000\n",
       "SVC                         0.75        1.0    0.75  0.857143\n",
       "XGBClassifier               0.75        1.0    0.75  0.857143"
      ]
     },
     "execution_count": 92,
     "metadata": {},
     "output_type": "execute_result"
    }
   ],
   "source": [
    "from sklearn.metrics import precision_score, recall_score, f1_score\n",
    "\n",
    "\n",
    "ground_truth = [1, 1, 1, 1]\n",
    "records = []\n",
    "\n",
    "for model_name, results in model_results.items():\n",
    "    # console.print(f\"Results for model: '{model_name}'\")\n",
    "    acc = accuracy_score(ground_truth, results)\n",
    "    precision = precision_score(ground_truth, results)\n",
    "    recall = recall_score(ground_truth, results)\n",
    "    f1 = f1_score(ground_truth, results)\n",
    "\n",
    "    records.append(\n",
    "        {\n",
    "            \"model_name\": model_name,\n",
    "            \"accuracy\": acc,\n",
    "            \"precision\": precision,\n",
    "            \"recall\": recall,\n",
    "            \"f1\": f1,\n",
    "            # \"roc_auc\": roc_auc,\n",
    "        }\n",
    "    )\n",
    "\n",
    "test_results = pd.DataFrame(records).set_index(\"model_name\")\n",
    "test_results"
   ]
  },
  {
   "cell_type": "code",
   "execution_count": 107,
   "metadata": {},
   "outputs": [],
   "source": [
    "test_results.to_csv(f\"results/{now}_experiment2_test_results.csv\")"
   ]
  },
  {
   "cell_type": "markdown",
   "metadata": {},
   "source": [
    "We see here that the `RandomForestClassifier` performs the best on the test split, getting an accuracy of 1.0. The worst performing was `LogisticRegression`, getting all classifications incorrect. Keep in mind this hold out test set is very small, so there is high variance in the results."
   ]
  },
  {
   "cell_type": "markdown",
   "metadata": {},
   "source": [
    "# Demo\n",
    "\n",
    "Lastly, we present an example of the use case for our model using the Google Maps API."
   ]
  },
  {
   "cell_type": "code",
   "execution_count": 100,
   "metadata": {},
   "outputs": [],
   "source": [
    "from geopy.geocoders import GoogleV3\n",
    "api_key_file = \"GOOGLE_MAPS_API_KEY.txt\"\n"
   ]
  },
  {
   "cell_type": "code",
   "execution_count": 101,
   "metadata": {},
   "outputs": [],
   "source": [
    "with open(api_key_file, \"r\") as f:\n",
    "    api_key = f.read()\n",
    "adapter = GoogleV3(api_key=api_key)\n"
   ]
  },
  {
   "cell_type": "code",
   "execution_count": 102,
   "metadata": {},
   "outputs": [
    {
     "name": "stderr",
     "output_type": "stream",
     "text": [
      "c:\\Users\\nicol\\Anaconda3\\envs\\tcss565\\Lib\\site-packages\\sklearn\\base.py:465: UserWarning:\n",
      "\n",
      "X does not have valid feature names, but StandardScaler was fitted with feature names\n",
      "\n"
     ]
    },
    {
     "data": {
      "text/html": [
       "<pre style=\"white-space:pre;overflow-x:auto;line-height:normal;font-family:Menlo,'DejaVu Sans Mono',consolas,'Courier New',monospace\">Features: <span style=\"font-weight: bold\">[[</span><span style=\"color: #008080; text-decoration-color: #008080; font-weight: bold\">-0.66560037</span>  <span style=\"color: #008080; text-decoration-color: #008080; font-weight: bold\">2.34822294</span>  <span style=\"color: #008080; text-decoration-color: #008080; font-weight: bold\">0.96610293</span><span style=\"font-weight: bold\">]]</span>\n",
       "</pre>\n"
      ],
      "text/plain": [
       "Features: \u001b[1m[\u001b[0m\u001b[1m[\u001b[0m\u001b[1;36m-0.66560037\u001b[0m  \u001b[1;36m2.34822294\u001b[0m  \u001b[1;36m0.96610293\u001b[0m\u001b[1m]\u001b[0m\u001b[1m]\u001b[0m\n"
      ]
     },
     "metadata": {},
     "output_type": "display_data"
    },
    {
     "data": {
      "text/html": [
       "<pre style=\"white-space:pre;overflow-x:auto;line-height:normal;font-family:Menlo,'DejaVu Sans Mono',consolas,'Courier New',monospace\">RandomForestClassifier: <span style=\"color: #008000; text-decoration-color: #008000\">'parking'</span> <span style=\"font-weight: bold\">(</span><span style=\"color: #008080; text-decoration-color: #008080; font-weight: bold\">1</span><span style=\"font-weight: bold\">)</span>\n",
       "</pre>\n"
      ],
      "text/plain": [
       "RandomForestClassifier: \u001b[32m'parking'\u001b[0m \u001b[1m(\u001b[0m\u001b[1;36m1\u001b[0m\u001b[1m)\u001b[0m\n"
      ]
     },
     "metadata": {},
     "output_type": "display_data"
    },
    {
     "data": {
      "text/html": [
       "<pre style=\"white-space:pre;overflow-x:auto;line-height:normal;font-family:Menlo,'DejaVu Sans Mono',consolas,'Courier New',monospace\">Predicted parking, getting address<span style=\"color: #808000; text-decoration-color: #808000\">...</span>\n",
       "</pre>\n"
      ],
      "text/plain": [
       "Predicted parking, getting address\u001b[33m...\u001b[0m\n"
      ]
     },
     "metadata": {},
     "output_type": "display_data"
    },
    {
     "data": {
      "text/html": [
       "<pre style=\"white-space:pre;overflow-x:auto;line-height:normal;font-family:Menlo,'DejaVu Sans Mono',consolas,'Courier New',monospace\">Address: Helipad, <span style=\"color: #008080; text-decoration-color: #008080; font-weight: bold\">844</span> Swift Blvd, Richland, WA <span style=\"color: #008080; text-decoration-color: #008080; font-weight: bold\">99352</span>, USA\n",
       "</pre>\n"
      ],
      "text/plain": [
       "Address: Helipad, \u001b[1;36m844\u001b[0m Swift Blvd, Richland, WA \u001b[1;36m99352\u001b[0m, USA\n"
      ]
     },
     "metadata": {},
     "output_type": "display_data"
    },
    {
     "data": {
      "text/html": [
       "<pre style=\"white-space:pre;overflow-x:auto;line-height:normal;font-family:Menlo,'DejaVu Sans Mono',consolas,'Courier New',monospace\">Latitude: <span style=\"color: #008080; text-decoration-color: #008080; font-weight: bold\">46.28175905</span>\n",
       "</pre>\n"
      ],
      "text/plain": [
       "Latitude: \u001b[1;36m46.28175905\u001b[0m\n"
      ]
     },
     "metadata": {},
     "output_type": "display_data"
    },
    {
     "data": {
      "text/html": [
       "<pre style=\"white-space:pre;overflow-x:auto;line-height:normal;font-family:Menlo,'DejaVu Sans Mono',consolas,'Courier New',monospace\">Longitude: <span style=\"color: #008080; text-decoration-color: #008080; font-weight: bold\">-119.2815295</span>\n",
       "</pre>\n"
      ],
      "text/plain": [
       "Longitude: \u001b[1;36m-119.2815295\u001b[0m\n"
      ]
     },
     "metadata": {},
     "output_type": "display_data"
    }
   ],
   "source": [
    "test_file = \"data/test/track_points.csv\"\n",
    "data = pd.read_csv(test_file)\n",
    "lon, lat = data[\"X\"].values, data[\"Y\"].values\n",
    "data = list(zip(lat, lon))[-current_interval:]\n",
    "d1 = calculate_distance1(data)\n",
    "d2 = calculate_distance2(data)\n",
    "area = calculate_area(data)\n",
    "\n",
    "features = scaler.transform(np.array([d1, d2, area]).reshape(1, -1))\n",
    "console.print(f\"Features: {features}\")\n",
    "\n",
    "\n",
    "for model in [rf]:\n",
    "    model_name = model.best_estimator_.__class__.__name__\n",
    "    pred = model.best_estimator_.predict(features)[0]\n",
    "    model_results[model_name].append(pred)\n",
    "    label = labels[pred]\n",
    "    l = f\"{model_name}: '{label}' ({pred})\"\n",
    "    console.print(l)\n",
    "\n",
    "    if pred == 1:\n",
    "        console.print(\"Predicted parking, getting address...\")\n",
    "        lat, lon = data[-1]\n",
    "        location = adapter.reverse((lat, lon))\n",
    "        console.print(f\"Address: {location.address}\")\n",
    "        console.print(f\"Latitude: {lat}\")\n",
    "        console.print(f\"Longitude: {lon}\")"
   ]
  },
  {
   "cell_type": "code",
   "execution_count": 103,
   "metadata": {},
   "outputs": [],
   "source": [
    "import requests\n",
    "\n",
    "request_url = \"https://maps.googleapis.com/maps/api/place/nearbysearch/json?\"\n",
    "radius = 1000 # meters\n",
    "type_ = \"parking\"\n",
    "location = f\"{lat},{lon}\"\n",
    "request_url = f\"{request_url}location={location}&radius={radius}&type={type_}&key={api_key}\"\n",
    "# request_url"
   ]
  },
  {
   "cell_type": "code",
   "execution_count": 104,
   "metadata": {},
   "outputs": [
    {
     "data": {
      "text/plain": [
       "{'business_status': 'OPERATIONAL',\n",
       " 'geometry': {'location': {'lat': 46.2807432, 'lng': -119.2801804},\n",
       "  'viewport': {'northeast': {'lat': 46.2820928302915,\n",
       "    'lng': -119.2788648697085},\n",
       "   'southwest': {'lat': 46.2793948697085, 'lng': -119.2815628302915}}},\n",
       " 'icon': 'https://maps.gstatic.com/mapfiles/place_api/icons/v1/png_71/parking-71.png',\n",
       " 'icon_background_color': '#7B9EB0',\n",
       " 'icon_mask_base_uri': 'https://maps.gstatic.com/mapfiles/place_api/icons/v2/parking_pinlet',\n",
       " 'name': 'Kadlec Regional Medical Center Parking Structure',\n",
       " 'photos': [{'height': 4032,\n",
       "   'html_attributions': ['<a href=\"https://maps.google.com/maps/contrib/103726264075044178111\">Aric Clark</a>'],\n",
       "   'photo_reference': 'AWU5eFi02RCk-_Ct_zglmbwMNNMA_ssSMihzyBXz9fW1J37vp2ULX_CYnJAvsdMfYD3p_VvZz_JMTBrAjqpmqDeezesdGsza_3qfBfotROOc3hWBdY71NfouYiDZORBwqRI2WcKAX05t3GtS-bOazT52Jvn89gRf9i-ALSHbyu1nhIJya_IR',\n",
       "   'width': 3024}],\n",
       " 'place_id': 'ChIJA_XPYe17mFQRIaCp4allZAs',\n",
       " 'plus_code': {'compound_code': '7PJ9+7W Richland, WA, USA',\n",
       "  'global_code': '85R27PJ9+7W'},\n",
       " 'reference': 'ChIJA_XPYe17mFQRIaCp4allZAs',\n",
       " 'scope': 'GOOGLE',\n",
       " 'types': ['parking', 'point_of_interest', 'establishment'],\n",
       " 'vicinity': 'Richland'}"
      ]
     },
     "execution_count": 104,
     "metadata": {},
     "output_type": "execute_result"
    }
   ],
   "source": [
    "res = requests.get(request_url).json()\n",
    "res[\"results\"][0]"
   ]
  },
  {
   "cell_type": "code",
   "execution_count": 105,
   "metadata": {},
   "outputs": [
    {
     "data": {
      "text/plain": [
       "{'lat': 46.2807432, 'lng': -119.2801804}"
      ]
     },
     "execution_count": 105,
     "metadata": {},
     "output_type": "execute_result"
    }
   ],
   "source": [
    "def get_nearest_parking(lat: int = 0.0, lon: int = 0.0, query: str = None, radius=1000):\n",
    "    if query is not None:\n",
    "        loc = adapter.geocode(query)\n",
    "        lat, lon = loc.latitude, loc.longitude\n",
    "    request_url = \"https://maps.googleapis.com/maps/api/place/nearbysearch/json?\"\n",
    "    location = f\"{lat},{lon}\"\n",
    "    request_url = (\n",
    "        f\"{request_url}location={location}&radius={radius}&type=parking&key={api_key}\"\n",
    "    )\n",
    "    res = requests.get(request_url).json()\n",
    "\n",
    "    return res[\"results\"]\n",
    "\n",
    "\n",
    "nearby_parking = get_nearest_parking(lat, lon)\n",
    "nearby_parking[0][\"geometry\"][\"location\"]"
   ]
  },
  {
   "cell_type": "code",
   "execution_count": 106,
   "metadata": {},
   "outputs": [
    {
     "name": "stdout",
     "output_type": "stream",
     "text": [
      "Richland (46.2807432, -119.2801804)\n",
      "951-999 Jadwin Avenue, Richland (46.2793161, -119.2760496)\n",
      "651 Mansfield Street, Richland (46.27912449999999, -119.2762091)\n",
      "1132 Knight Street, Richland (46.2768508, -119.2792545)\n",
      "829 Northgate Drive, Richland (46.2770207, -119.2782732)\n",
      "Knight Street, Richland (46.2770153, -119.2782359)\n",
      "Richland (46.2768178, -119.2792327)\n"
     ]
    }
   ],
   "source": [
    "cases = []\n",
    "\n",
    "for parking in nearby_parking:\n",
    "    lat = parking[\"geometry\"][\"location\"][\"lat\"]\n",
    "    lng = parking[\"geometry\"][\"location\"][\"lng\"]\n",
    "    cases.append((lat, lng))\n",
    "    print(parking[\"vicinity\"], (lat, lng))\n"
   ]
  }
 ],
 "metadata": {
  "kernelspec": {
   "display_name": "tcss565",
   "language": "python",
   "name": "python3"
  },
  "language_info": {
   "codemirror_mode": {
    "name": "ipython",
    "version": 3
   },
   "file_extension": ".py",
   "mimetype": "text/x-python",
   "name": "python",
   "nbconvert_exporter": "python",
   "pygments_lexer": "ipython3",
   "version": "3.11.5"
  }
 },
 "nbformat": 4,
 "nbformat_minor": 2
}
